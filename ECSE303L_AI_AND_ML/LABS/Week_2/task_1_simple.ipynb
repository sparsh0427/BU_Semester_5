{
 "cells": [
  {
   "cell_type": "markdown",
   "metadata": {},
   "source": [
    "### Simple Linear Regression\n",
    "Linear regression is among the simplest regression methods. One of the main advantages of using it is ease of interpreting results. Simple linear regression is special case of regression where target feature is dependent on single variable, and then we find the best fitting line.<br>\n",
    "\n",
    "##### y = m*x + c <br>\n",
    "\n",
    "#### Dataset\n",
    "The dataset is available at __\"data/simple_linear_data.csv\"__ in the respective challenge's repo.<br><br>\n",
    "This is the modified version of the dataset 'Student Performance' provided by UCI Machine Learning repository.<br>\n",
    "Original dataset: https://archive.ics.uci.edu/ml/datasets/student+performance\n",
    "\n",
    "#### Features (X)\n",
    "- G2 - second year math grades (numeric: from 0 to 100)\n",
    "\n",
    "#### Target (y)\n",
    "- G3 - third year math grades (numeric: from 0 to 100, output target)\n",
    "\n",
    "#### Objective\n",
    "To gain understanding of single linear regression through implementing the model from scratch\n",
    "\n",
    "#### Tasks\n",
    "- Read the data from above mentioned dataset and define X and y as numpy array\n",
    "- Add column at position 0 with all values=1 (pandas.DataFrame.insert function)\n",
    "- Print rows from 40 to 55.\n",
    "- Print the shape and datatype of both X and y\n",
    "- Follow code cells to implement simple linear regression from scratch\n",
    "    - Write hypothesis function to predict values\n",
    "    - Write function for calculating mean_squared_error\n",
    "    - Write function to return gradients for given weights\n",
    "    - Perform gradient descent taking help of above functions\n",
    "\n",
    "#### Further Fun (will not be evaluated\n",
    "- Remove outliers, train again and see the difference in error.\n",
    "```python\n",
    "# Add this line before defining X and y\n",
    "data = data[(data['G3']!=0)|((data['G2']==0)&(data['G3']==0))]\n",
    "```\n",
    "- Replace \"*weights = np.random.rand(2)*\" line in gradient descent with below line, train again and visualize results.\n",
    "```python\n",
    "# Replace above line with following in gradient descent function\n",
    "weights = np.zeros(2,)\n",
    "```\n",
    "- Play with learning rate and max_iterations\n",
    "- Generalize the code for multivariate(multiple) linear regression\n",
    "\n",
    "#### Resources\n",
    "- Linear regression maths: https://www.youtube.com/watch?v=ZkjP5RJLQF4\n",
    "- Simple linear regression: https://www.youtube.com/watch?v=iAgYLRy7e20\n",
    "- Tutorial: https://machinelearningmastery.com/implement-simple-linear-regression-scratch-python\n"
   ]
  },
  {
   "cell_type": "code",
   "execution_count": 3,
   "metadata": {},
   "outputs": [],
   "source": [
    "import numpy as np\n",
    "import matplotlib.pyplot as plt\n",
    "import pandas as pd"
   ]
  },
  {
   "cell_type": "code",
   "execution_count": 4,
   "metadata": {},
   "outputs": [
    {
     "data": {
      "text/html": [
       "<div>\n",
       "<style scoped>\n",
       "    .dataframe tbody tr th:only-of-type {\n",
       "        vertical-align: middle;\n",
       "    }\n",
       "\n",
       "    .dataframe tbody tr th {\n",
       "        vertical-align: top;\n",
       "    }\n",
       "\n",
       "    .dataframe thead th {\n",
       "        text-align: right;\n",
       "    }\n",
       "</style>\n",
       "<table border=\"1\" class=\"dataframe\">\n",
       "  <thead>\n",
       "    <tr style=\"text-align: right;\">\n",
       "      <th></th>\n",
       "      <th>G2</th>\n",
       "      <th>G3</th>\n",
       "    </tr>\n",
       "  </thead>\n",
       "  <tbody>\n",
       "    <tr>\n",
       "      <th>0</th>\n",
       "      <td>30</td>\n",
       "      <td>30</td>\n",
       "    </tr>\n",
       "    <tr>\n",
       "      <th>1</th>\n",
       "      <td>25</td>\n",
       "      <td>30</td>\n",
       "    </tr>\n",
       "    <tr>\n",
       "      <th>2</th>\n",
       "      <td>40</td>\n",
       "      <td>50</td>\n",
       "    </tr>\n",
       "    <tr>\n",
       "      <th>3</th>\n",
       "      <td>70</td>\n",
       "      <td>75</td>\n",
       "    </tr>\n",
       "    <tr>\n",
       "      <th>4</th>\n",
       "      <td>50</td>\n",
       "      <td>50</td>\n",
       "    </tr>\n",
       "    <tr>\n",
       "      <th>...</th>\n",
       "      <td>...</td>\n",
       "      <td>...</td>\n",
       "    </tr>\n",
       "    <tr>\n",
       "      <th>390</th>\n",
       "      <td>45</td>\n",
       "      <td>45</td>\n",
       "    </tr>\n",
       "    <tr>\n",
       "      <th>391</th>\n",
       "      <td>80</td>\n",
       "      <td>80</td>\n",
       "    </tr>\n",
       "    <tr>\n",
       "      <th>392</th>\n",
       "      <td>40</td>\n",
       "      <td>35</td>\n",
       "    </tr>\n",
       "    <tr>\n",
       "      <th>393</th>\n",
       "      <td>60</td>\n",
       "      <td>50</td>\n",
       "    </tr>\n",
       "    <tr>\n",
       "      <th>394</th>\n",
       "      <td>45</td>\n",
       "      <td>45</td>\n",
       "    </tr>\n",
       "  </tbody>\n",
       "</table>\n",
       "<p>395 rows × 2 columns</p>\n",
       "</div>"
      ],
      "text/plain": [
       "     G2  G3\n",
       "0    30  30\n",
       "1    25  30\n",
       "2    40  50\n",
       "3    70  75\n",
       "4    50  50\n",
       "..   ..  ..\n",
       "390  45  45\n",
       "391  80  80\n",
       "392  40  35\n",
       "393  60  50\n",
       "394  45  45\n",
       "\n",
       "[395 rows x 2 columns]"
      ]
     },
     "execution_count": 4,
     "metadata": {},
     "output_type": "execute_result"
    }
   ],
   "source": [
    "# Read the data from provided dir\n",
    "data = pd.read_csv('data/simple_linear_data.csv')\n",
    "data"
   ]
  },
  {
   "cell_type": "code",
   "execution_count": 5,
   "metadata": {},
   "outputs": [
    {
     "data": {
      "text/html": [
       "<div>\n",
       "<style scoped>\n",
       "    .dataframe tbody tr th:only-of-type {\n",
       "        vertical-align: middle;\n",
       "    }\n",
       "\n",
       "    .dataframe tbody tr th {\n",
       "        vertical-align: top;\n",
       "    }\n",
       "\n",
       "    .dataframe thead th {\n",
       "        text-align: right;\n",
       "    }\n",
       "</style>\n",
       "<table border=\"1\" class=\"dataframe\">\n",
       "  <thead>\n",
       "    <tr style=\"text-align: right;\">\n",
       "      <th></th>\n",
       "      <th>X_0</th>\n",
       "      <th>G2</th>\n",
       "      <th>G3</th>\n",
       "    </tr>\n",
       "  </thead>\n",
       "  <tbody>\n",
       "    <tr>\n",
       "      <th>0</th>\n",
       "      <td>1</td>\n",
       "      <td>30</td>\n",
       "      <td>30</td>\n",
       "    </tr>\n",
       "    <tr>\n",
       "      <th>1</th>\n",
       "      <td>1</td>\n",
       "      <td>25</td>\n",
       "      <td>30</td>\n",
       "    </tr>\n",
       "    <tr>\n",
       "      <th>2</th>\n",
       "      <td>1</td>\n",
       "      <td>40</td>\n",
       "      <td>50</td>\n",
       "    </tr>\n",
       "    <tr>\n",
       "      <th>3</th>\n",
       "      <td>1</td>\n",
       "      <td>70</td>\n",
       "      <td>75</td>\n",
       "    </tr>\n",
       "    <tr>\n",
       "      <th>4</th>\n",
       "      <td>1</td>\n",
       "      <td>50</td>\n",
       "      <td>50</td>\n",
       "    </tr>\n",
       "    <tr>\n",
       "      <th>...</th>\n",
       "      <td>...</td>\n",
       "      <td>...</td>\n",
       "      <td>...</td>\n",
       "    </tr>\n",
       "    <tr>\n",
       "      <th>390</th>\n",
       "      <td>1</td>\n",
       "      <td>45</td>\n",
       "      <td>45</td>\n",
       "    </tr>\n",
       "    <tr>\n",
       "      <th>391</th>\n",
       "      <td>1</td>\n",
       "      <td>80</td>\n",
       "      <td>80</td>\n",
       "    </tr>\n",
       "    <tr>\n",
       "      <th>392</th>\n",
       "      <td>1</td>\n",
       "      <td>40</td>\n",
       "      <td>35</td>\n",
       "    </tr>\n",
       "    <tr>\n",
       "      <th>393</th>\n",
       "      <td>1</td>\n",
       "      <td>60</td>\n",
       "      <td>50</td>\n",
       "    </tr>\n",
       "    <tr>\n",
       "      <th>394</th>\n",
       "      <td>1</td>\n",
       "      <td>45</td>\n",
       "      <td>45</td>\n",
       "    </tr>\n",
       "  </tbody>\n",
       "</table>\n",
       "<p>395 rows × 3 columns</p>\n",
       "</div>"
      ],
      "text/plain": [
       "     X_0  G2  G3\n",
       "0      1  30  30\n",
       "1      1  25  30\n",
       "2      1  40  50\n",
       "3      1  70  75\n",
       "4      1  50  50\n",
       "..   ...  ..  ..\n",
       "390    1  45  45\n",
       "391    1  80  80\n",
       "392    1  40  35\n",
       "393    1  60  50\n",
       "394    1  45  45\n",
       "\n",
       "[395 rows x 3 columns]"
      ]
     },
     "execution_count": 5,
     "metadata": {},
     "output_type": "execute_result"
    }
   ],
   "source": [
    "# Add column which has all 1s\n",
    "# The idea is that weight corresponding to this column is equal to intercept\n",
    "# This way it is efficient and easier to handle the bias/intercept term\n",
    "data.insert(0,\"X_0\", [1]*data.shape[0], True)\n",
    "data"
   ]
  },
  {
   "cell_type": "code",
   "execution_count": 6,
   "metadata": {},
   "outputs": [
    {
     "data": {
      "text/html": [
       "<div>\n",
       "<style scoped>\n",
       "    .dataframe tbody tr th:only-of-type {\n",
       "        vertical-align: middle;\n",
       "    }\n",
       "\n",
       "    .dataframe tbody tr th {\n",
       "        vertical-align: top;\n",
       "    }\n",
       "\n",
       "    .dataframe thead th {\n",
       "        text-align: right;\n",
       "    }\n",
       "</style>\n",
       "<table border=\"1\" class=\"dataframe\">\n",
       "  <thead>\n",
       "    <tr style=\"text-align: right;\">\n",
       "      <th></th>\n",
       "      <th>X_0</th>\n",
       "      <th>G2</th>\n",
       "      <th>G3</th>\n",
       "    </tr>\n",
       "  </thead>\n",
       "  <tbody>\n",
       "    <tr>\n",
       "      <th>40</th>\n",
       "      <td>1</td>\n",
       "      <td>50</td>\n",
       "      <td>55</td>\n",
       "    </tr>\n",
       "    <tr>\n",
       "      <th>41</th>\n",
       "      <td>1</td>\n",
       "      <td>60</td>\n",
       "      <td>60</td>\n",
       "    </tr>\n",
       "    <tr>\n",
       "      <th>42</th>\n",
       "      <td>1</td>\n",
       "      <td>90</td>\n",
       "      <td>90</td>\n",
       "    </tr>\n",
       "    <tr>\n",
       "      <th>43</th>\n",
       "      <td>1</td>\n",
       "      <td>40</td>\n",
       "      <td>55</td>\n",
       "    </tr>\n",
       "    <tr>\n",
       "      <th>44</th>\n",
       "      <td>1</td>\n",
       "      <td>50</td>\n",
       "      <td>45</td>\n",
       "    </tr>\n",
       "    <tr>\n",
       "      <th>45</th>\n",
       "      <td>1</td>\n",
       "      <td>40</td>\n",
       "      <td>30</td>\n",
       "    </tr>\n",
       "    <tr>\n",
       "      <th>46</th>\n",
       "      <td>1</td>\n",
       "      <td>60</td>\n",
       "      <td>55</td>\n",
       "    </tr>\n",
       "    <tr>\n",
       "      <th>47</th>\n",
       "      <td>1</td>\n",
       "      <td>95</td>\n",
       "      <td>100</td>\n",
       "    </tr>\n",
       "    <tr>\n",
       "      <th>48</th>\n",
       "      <td>1</td>\n",
       "      <td>75</td>\n",
       "      <td>70</td>\n",
       "    </tr>\n",
       "    <tr>\n",
       "      <th>49</th>\n",
       "      <td>1</td>\n",
       "      <td>35</td>\n",
       "      <td>35</td>\n",
       "    </tr>\n",
       "    <tr>\n",
       "      <th>50</th>\n",
       "      <td>1</td>\n",
       "      <td>65</td>\n",
       "      <td>65</td>\n",
       "    </tr>\n",
       "    <tr>\n",
       "      <th>51</th>\n",
       "      <td>1</td>\n",
       "      <td>65</td>\n",
       "      <td>65</td>\n",
       "    </tr>\n",
       "    <tr>\n",
       "      <th>52</th>\n",
       "      <td>1</td>\n",
       "      <td>55</td>\n",
       "      <td>50</td>\n",
       "    </tr>\n",
       "    <tr>\n",
       "      <th>53</th>\n",
       "      <td>1</td>\n",
       "      <td>50</td>\n",
       "      <td>55</td>\n",
       "    </tr>\n",
       "    <tr>\n",
       "      <th>54</th>\n",
       "      <td>1</td>\n",
       "      <td>65</td>\n",
       "      <td>65</td>\n",
       "    </tr>\n",
       "    <tr>\n",
       "      <th>55</th>\n",
       "      <td>1</td>\n",
       "      <td>45</td>\n",
       "      <td>50</td>\n",
       "    </tr>\n",
       "  </tbody>\n",
       "</table>\n",
       "</div>"
      ],
      "text/plain": [
       "    X_0  G2   G3\n",
       "40    1  50   55\n",
       "41    1  60   60\n",
       "42    1  90   90\n",
       "43    1  40   55\n",
       "44    1  50   45\n",
       "45    1  40   30\n",
       "46    1  60   55\n",
       "47    1  95  100\n",
       "48    1  75   70\n",
       "49    1  35   35\n",
       "50    1  65   65\n",
       "51    1  65   65\n",
       "52    1  55   50\n",
       "53    1  50   55\n",
       "54    1  65   65\n",
       "55    1  45   50"
      ]
     },
     "execution_count": 6,
     "metadata": {},
     "output_type": "execute_result"
    }
   ],
   "source": [
    "# Print the dataframe rows\n",
    "data.iloc[40:56,:]"
   ]
  },
  {
   "cell_type": "code",
   "execution_count": 7,
   "metadata": {},
   "outputs": [],
   "source": [
    "# Define X (input features) and y (output feature) \n",
    "X = data.iloc[:,0:2].values\n",
    "y = data.iloc[:,2].values"
   ]
  },
  {
   "cell_type": "code",
   "execution_count": 8,
   "metadata": {},
   "outputs": [
    {
     "name": "stdout",
     "output_type": "stream",
     "text": [
      "X: Type-<class 'numpy.ndarray'>, Shape-(395, 2)\n",
      "y: Type-<class 'numpy.ndarray'>, Shape-(395,)\n"
     ]
    }
   ],
   "source": [
    "X_shape = X.shape\n",
    "X_type  = type(X)\n",
    "y_shape = y.shape\n",
    "y_type  = type(y)\n",
    "print(f'X: Type-{X_type}, Shape-{X_shape}')\n",
    "print(f'y: Type-{y_type}, Shape-{y_shape}')"
   ]
  },
  {
   "cell_type": "markdown",
   "metadata": {},
   "source": [
    "__Expected output__:<br><br>\n",
    "X: Type-<class 'numpy.ndarray'>, Shape-(395,2)<br>\n",
    "y: Type-<class 'numpy.ndarray'>, Shape-(395,)"
   ]
  },
  {
   "cell_type": "markdown",
   "metadata": {},
   "source": [
    "Let us visualize the relationship between X and y"
   ]
  },
  {
   "cell_type": "code",
   "execution_count": 9,
   "metadata": {},
   "outputs": [
    {
     "data": {
      "image/png": "[encoded data removed]",
      "text/plain": [
       "<Figure size 432x288 with 1 Axes>"
      ]
     },
     "metadata": {
      "needs_background": "light"
     },
     "output_type": "display_data"
    }
   ],
   "source": [
    "# DO NOT EDIT THIS CODE CELL\n",
    "plt.scatter(X[:,1],y)\n",
    "plt.title('Relation between second year grades and third year grades')\n",
    "plt.xlabel('G2 (X - Second year grades)')\n",
    "plt.ylabel('G3 (Y - Third year grades)')\n",
    "plt.show()"
   ]
  },
  {
   "cell_type": "markdown",
   "metadata": {},
   "source": [
    "##### Let us start implementing linear regression from scratch. Just follow code cells, see hints if required."
   ]
  },
  {
   "cell_type": "code",
   "execution_count": 10,
   "metadata": {},
   "outputs": [],
   "source": [
    "def hypothesis(X, weights):\n",
    "    '''\n",
    "    weights   : array (2,1) w0 and w1\n",
    "    X         : array (m,2) x0 (intercept=1) and x1\n",
    "    \n",
    "    Returns predicted y using hyothesis linear function defined by given weights\n",
    "    '''\n",
    "    ### START CODE HERE ###\n",
    "    y_pred = np.dot(X,weights)\n",
    "    \n",
    "    ### END CODE HERE ###\n",
    "    \n",
    "    assert (y_pred.shape==(X.shape[0],)), 'Wrong implementation of predict function. Check carefully'\n",
    "    \n",
    "    return y_pred"
   ]
  },
  {
   "cell_type": "code",
   "execution_count": 11,
   "metadata": {},
   "outputs": [],
   "source": [
    "def mean_squared_error(y_true, y_pred) : \n",
    "    '''\n",
    "    y_true : (m,1)\n",
    "    y_pred : (m,1)\n",
    "    \n",
    "    Return the mean squared error\n",
    "    '''\n",
    "    ### START CODE HERE ###\n",
    "    loss = ((y_pred - y_true)**2).mean()/2\n",
    "    loss = (1/(2 * y_pred.shape[0])) * sum((y_pred - y_true)**2)\n",
    "    ### END CODE HERE ###\n",
    "    \n",
    "    return loss"
   ]
  },
  {
   "cell_type": "code",
   "execution_count": null,
   "metadata": {},
   "outputs": [],
   "source": [
    "def gradient(X, y_true, y_pred):\n",
    "    '''\n",
    "    X      : array (m,2)\n",
    "    y_true : array (m,1)\n",
    "    y_pred : array (m,1)\n",
    "    \n",
    "    Returns a numpy array with gradients. Shape (2,1)\n",
    "    '''\n",
    "    # Initialize the gradient vector for w0 (intercept/bias) and w1 respectively\n",
    "    grad = np.zeros(2,)\n",
    "    \n",
    "    ### START CODE HERE ###\n",
    "    \n",
    "    grad[0] = grad[0] - alpha *(pred - Y).mean() \n",
    "    grad[1] = \n",
    "    \n",
    "    ### END CODE HERE ###\n",
    "    \n",
    "    return grad"
   ]
  },
  {
   "cell_type": "code",
   "execution_count": 12,
   "metadata": {},
   "outputs": [],
   "source": [
    "def gradient_descent(X, y, learning_rate=0.00000001, max_iterations=100000):\n",
    "    '''\n",
    "    X              : Array (m,2)\n",
    "    y              : Array (m,1)\n",
    "    learning_rate  : Learning rate\n",
    "    max_iterations : Maximum iteratons\n",
    "    \n",
    "    Returns : weights vector (2,1)\n",
    "            : losses (List)\n",
    "    '''\n",
    "    # Initialise weights vector of random values of size (2,1)\n",
    "    weights = np.random.rand(2)\n",
    "    # Initialize a list to record all the losses \n",
    "    losses  = []\n",
    "\n",
    "    ### START CODE HERE ###\n",
    "    for i in range(max_iterations):\n",
    "        pred = hypothesis(X,weights)\n",
    "        t0 = weights[0] - learning_rate *(pred - y).mean()\n",
    "        t1 = weights[1] - learning_rate *((pred - y)* X[:,1]).mean()\n",
    "        \n",
    "        weights = np.array([t0,t1])\n",
    "        J = mean_squared_error(y,pred)\n",
    "        losses.append(J)\n",
    "    \n",
    "    ### END CODE HERE ###\n",
    "    \n",
    "    return weights, losses"
   ]
  },
  {
   "cell_type": "markdown",
   "metadata": {},
   "source": [
    "##### Congratulations! You have implemented linear regression from scratch. Let's see this in action."
   ]
  },
  {
   "cell_type": "code",
   "execution_count": 13,
   "metadata": {},
   "outputs": [],
   "source": [
    "# Perform gradient descent\n",
    "optimal_weights, losses = gradient_descent(X, y)"
   ]
  },
  {
   "cell_type": "code",
   "execution_count": 14,
   "metadata": {},
   "outputs": [
    {
     "name": "stdout",
     "output_type": "stream",
     "text": [
      "Mean squared error: 50.38378939928621\n"
     ]
    }
   ],
   "source": [
    "# DO NOT CHANGE THE FOLLOWING CODE CELLS\n",
    "# Print final loss\n",
    "print(\"Mean squared error:\", losses[-1])"
   ]
  },
  {
   "cell_type": "code",
   "execution_count": 15,
   "metadata": {},
   "outputs": [
    {
     "data": {
      "image/png": "[encoded data removed]",
      "text/plain": [
       "<Figure size 432x288 with 1 Axes>"
      ]
     },
     "metadata": {
      "needs_background": "light"
     },
     "output_type": "display_data"
    }
   ],
   "source": [
    "# Plot the loss curve\n",
    "plt.plot([i for i in range(len(losses))], losses)\n",
    "plt.title(\"Loss curve\")\n",
    "plt.xlabel(\"Iteration num\")\n",
    "plt.ylabel(\"Loss\")\n",
    "plt.show()"
   ]
  },
  {
   "cell_type": "code",
   "execution_count": 16,
   "metadata": {},
   "outputs": [],
   "source": [
    "# Make predictions using trained weights\n",
    "y_pred = hypothesis(X, optimal_weights)"
   ]
  },
  {
   "cell_type": "code",
   "execution_count": 17,
   "metadata": {},
   "outputs": [
    {
     "data": {
      "image/png": "[encoded data removed]",
      "text/plain": [
       "<Figure size 432x288 with 1 Axes>"
      ]
     },
     "metadata": {
      "needs_background": "light"
     },
     "output_type": "display_data"
    }
   ],
   "source": [
    "# Visualize the results by plotting it\n",
    "plt.scatter(X[:,1], y, c='r', label='Actual scores')\n",
    "plt.plot(X[:,1], y_pred, c='g', label='Fitted line | predictions')\n",
    "plt.legend()\n",
    "plt.title(\"Linear regression fitted line\")\n",
    "plt.xlabel(\"Second year grades\")\n",
    "plt.ylabel(\"Third year grades\")\n",
    "plt.show()"
   ]
  },
  {
   "cell_type": "code",
   "execution_count": null,
   "metadata": {},
   "outputs": [],
   "source": []
  }
 ],
 "metadata": {
  "kernelspec": {
   "display_name": "Python 3",
   "language": "python",
   "name": "python3"
  },
  "language_info": {
   "codemirror_mode": {
    "name": "ipython",
    "version": 3
   },
   "file_extension": ".py",
   "mimetype": "text/x-python",
   "name": "python",
   "nbconvert_exporter": "python",
   "pygments_lexer": "ipython3",
   "version": "3.7.6"
  },
  "toc": {
   "base_numbering": 1,
   "nav_menu": {},
   "number_sections": true,
   "sideBar": true,
   "skip_h1_title": false,
   "title_cell": "Table of Contents",
   "title_sidebar": "Contents",
   "toc_cell": false,
   "toc_position": {},
   "toc_section_display": true,
   "toc_window_display": false
  }
 },
 "nbformat": 4,
 "nbformat_minor": 4
}
