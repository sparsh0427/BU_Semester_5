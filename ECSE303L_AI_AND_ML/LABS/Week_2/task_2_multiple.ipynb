{
 "cells": [
  {
   "cell_type": "markdown",
   "metadata": {},
   "source": [
    "#### Predict your scores better :)\n",
    "As you saw in the previous simple linear regression task that previous year grades (G2) have significant correlation with third year grades (G3). But G2 is not direct causation of G3, there are many factors which determine G3. Let's add few more variables which may help to determine G3."
   ]
  },
  {
   "cell_type": "markdown",
   "metadata": {},
   "source": [
    "### Multiple linear regression\n",
    "Multiple linear regression is simply the linear regression extended to problems where the dependent or output variable is determined by more than one independent variable.<br>\n",
    "\n",
    "#####  $\\hat{y}$ (w, x) = w_0 + w_1 * x_1 + ... + w_p * x_ps\n",
    "\n",
    "#### Dataset\n",
    "The dataset is available at __\"data/multiple_linear_data.csv\"__ in the respective challenge's repo.<br><br>\n",
    "\n",
    "This is the __modified version__ of the dataset *'Student Performance'* provided by UCI Machine Learning repository.<br>\n",
    "Original dataset: https://archive.ics.uci.edu/ml/datasets/student+performance\n",
    "\n",
    "#### Features (X)\n",
    "1. age - student's age (numeric: from 15 to 22)\n",
    "2. address - student's home address type (binary: 'U' - urban or 'R' - rural)\n",
    "3. famsize - family size (binary: 'LE3' - less or equal to 3 or 'GT3' - greater than 3)\n",
    "4. reason - reason to choose this school (nominal: close to 'home', school 'reputation', 'course' preference or 'other')\n",
    "5. studytime - weekly study time (numeric: 1 - <2 hours, 2 - 2 to 5 hours, 3 - 5 to 10 hours, or 4 - >10 hours)\n",
    "6. failures - number of past class failures (numeric: n if 1<=n<3, else 4)\n",
    "7. schoolsup - extra educational support (binary: yes or no)\n",
    "8. famsup - family educational support (binary: yes or no)\n",
    "9. paid - extra paid classes within the course subject (Math or Portuguese) (binary: yes or no)\n",
    "10. activities - extra-curricular activities (binary: yes or no)\n",
    "11. higher - wants to take higher education (binary: yes or no)\n",
    "12. internet - Internet access at home (binary: yes or no)\n",
    "13. romantic - with a romantic relationship (binary: yes or no)\n",
    "14. freetime - free time after school (numeric: from 1 - very low to 5 - very high)\n",
    "15. goout - going out with friends (numeric: from 1 - very low to 5 - very high)\n",
    "16. health - current health status (numeric: from 1 - very bad to 5 - very good)\n",
    "17. absences - number of school absences (numeric: from 0 to 93)\n",
    "18. G1 - first year math grades (numeric: from 0 to 100)\n",
    "19. G2 - second year math grades (numeric: from 0 to 100)\n",
    "\n",
    "#### Output target (Y) \n",
    "20. G3 - final year math grades (numeric: from 0 to 100, output target)\n",
    "\n",
    "#### Objective\n",
    "To learn multiple linear regression and practice handling categorical features\n",
    "\n",
    "#### Tasks\n",
    "- To load the data and print first 5 rows\n",
    "- Transform categorical features into numerical features. Use either one hot encoding, label encoding or any other suitable preprocessing technique.\n",
    "- Define X matrix (independent features) and y vector (target feature)\n",
    "- Train Linear Regression Model (sklearn.linear_model.LinearRegression class)\n",
    "- Print 'Mean Squared Error' (MSE) obtained on the same dataset i.e. same X and y (sklearn.metrics.mean_squared_error function)\n",
    "- Predict on a numpy array defined by you\n",
    "```python\n",
    ">>> new_data = np.array([1,0,1,.....,30,20]).reshape(1,-1)\n",
    ">>> print(\"Predicted grade:\",model.predict(new_data))\n",
    "```\n",
    "\n",
    "#### Further fun (will not be evaluated)\n",
    "- Train LassoRegression and RidgeRegression as well. Read about them from scikit-learn user guide.\n",
    "- *Step-up challenge*: Get down the MSE (mean squared error) below 3.25 using linear models\n",
    "- Implement multiple linear regression from scratch\n",
    "- Plot loss curve (Loss vs number of iterations)\n",
    "\n",
    "#### Helpful links\n",
    "- Scikit-learn documentation for linear regression: https://scikit-learn.org/stable/modules/generated/sklearn.linear_model.LinearRegression.html\n",
    "- Read till where you feel comfortable: https://jakevdp.github.io/PythonDataScienceHandbook/05.06-linear-regression.html\n",
    "- Use slack for doubts: https://join.slack.com/t/deepconnectai/shared_invite/zt-givlfnf6-~cn3SQ43k0BGDrG9_YOn4g"
   ]
  },
  {
   "cell_type": "code",
   "execution_count": null,
   "metadata": {},
   "outputs": [],
   "source": [
    "import numpy as np\n",
    "import pandas as pd\n",
    "from sklearn.linear_model import LinearRegression\n",
    "from sklearn.metrics import mean_squared_error\n",
    "\n",
    "# IF sklearn.compose.ColumnTransformer is used for feature transformation, then below import will help to infer features\n",
    "# from helper.utils import get_column_names_from_ColumnTransformer"
   ]
  },
  {
   "cell_type": "code",
   "execution_count": null,
   "metadata": {},
   "outputs": [],
   "source": [
    "# NOTE: DO NOT CHANGE THE VARIABLE NAME(S) IN THIS CELL\n",
    "# Load the data\n",
    "data = "
   ]
  },
  {
   "cell_type": "code",
   "execution_count": null,
   "metadata": {},
   "outputs": [],
   "source": [
    "# You may need original list of columns to interpret the features after transformation, maybe\n",
    "orig_cols = data.columns"
   ]
  },
  {
   "cell_type": "code",
   "execution_count": null,
   "metadata": {},
   "outputs": [],
   "source": [
    "# Handle categorical values"
   ]
  },
  {
   "cell_type": "code",
   "execution_count": null,
   "metadata": {},
   "outputs": [],
   "source": []
  },
  {
   "cell_type": "code",
   "execution_count": null,
   "metadata": {},
   "outputs": [],
   "source": []
  },
  {
   "cell_type": "code",
   "execution_count": null,
   "metadata": {},
   "outputs": [],
   "source": []
  },
  {
   "cell_type": "code",
   "execution_count": null,
   "metadata": {},
   "outputs": [],
   "source": [
    "# Define your X and y\n",
    "X = \n",
    "y = "
   ]
  },
  {
   "cell_type": "code",
   "execution_count": null,
   "metadata": {},
   "outputs": [],
   "source": [
    "# Initialize the model\n",
    "model = "
   ]
  },
  {
   "cell_type": "code",
   "execution_count": null,
   "metadata": {},
   "outputs": [],
   "source": [
    "# Fit the model. Wait! We will complete this step for you ;)\n",
    "model.fit(X, y)"
   ]
  },
  {
   "cell_type": "code",
   "execution_count": null,
   "metadata": {},
   "outputs": [],
   "source": [
    "# Print mean squared error\n",
    "mse = \n",
    "\n",
    "print(f\"\\nMSE: {mse}\")"
   ]
  },
  {
   "cell_type": "code",
   "execution_count": null,
   "metadata": {},
   "outputs": [],
   "source": [
    "# Predict on your own data\n",
    "new_data = \n",
    "print(\"Predicted grade:\",model.predict(new_data))"
   ]
  },
  {
   "cell_type": "code",
   "execution_count": null,
   "metadata": {},
   "outputs": [],
   "source": []
  }
 ],
 "metadata": {
  "kernelspec": {
   "display_name": "Python 3",
   "language": "python",
   "name": "python3"
  },
  "language_info": {
   "codemirror_mode": {
    "name": "ipython",
    "version": 3
   },
   "file_extension": ".py",
   "mimetype": "text/x-python",
   "name": "python",
   "nbconvert_exporter": "python",
   "pygments_lexer": "ipython3",
   "version": "3.7.3"
  },
  "toc": {
   "base_numbering": 1,
   "nav_menu": {},
   "number_sections": true,
   "sideBar": true,
   "skip_h1_title": false,
   "title_cell": "Table of Contents",
   "title_sidebar": "Contents",
   "toc_cell": false,
   "toc_position": {},
   "toc_section_display": true,
   "toc_window_display": false
  }
 },
 "nbformat": 4,
 "nbformat_minor": 4
}
