{
 "cells": [
  {
   "cell_type": "markdown",
   "metadata": {
    "colab_type": "text",
    "id": "Y_rBHtYNoAhU"
   },
   "source": [
    "## Predicting Customer response to Personal Loan Ad-Campaign"
   ]
  },
  {
   "cell_type": "markdown",
   "metadata": {
    "colab_type": "text",
    "id": "bvlPGmFNoAhX"
   },
   "source": [
    "#### Dataset\n",
    "The dataset is available at <strong>\"data/personal_loan.csv\"</strong> in the respective challenge's repo.<br>\n",
    "Original Dataset : https://www.kaggle.com/itsmesunil/bank-loan-modelling\n",
    "\n",
    "#### Features (X)\n",
    "1. Age - Customer's age in completed years. (Numeric)\n",
    "2. Experience - No. of years of professional experience (Numeric)\n",
    "3. Income - Annual income of the customer. (Numeric)\n",
    "4. ZIPCode - Home Address ZIP code. (Numeric)\n",
    "5. Family - Family size of the customer. (Numeric)\n",
    "6. CCAvg Avg. - Spending on credit cards per month (Numeric)\n",
    "7. Education  - \n",
    "    - Education Level (Categorical|Multiclass):\n",
    "        - 1: Undergrad\n",
    "        - 2: Graduate\n",
    "        - 3: Advanced/Professional \n",
    "8. Mortgage - Value of house mortgage if any. (Numeric)\n",
    "9. Securities Account - Does the customer have a securities account with the bank? (Categorical | Binary)\n",
    "10. CD Account - Does the customer have a certificate of deposit (CD) account with the bank? (Categorical | Binary)\n",
    "11. Online - Does the customer use internet banking facilities? (Categorical | Binary)\n",
    "12. CreditCard - Does the customer uses a credit card issued by UniversalBank? (Categorical | Binary)\n",
    "\n",
    "#### Target (y)\n",
    "- Personal Loan : Did this customer accept the personal loan offered in the last campaign? (Binary)\n",
    "\n",
    "#### Objective\n",
    "- To apply Logistic Regression and Decision Tree Algorithms on the given imbalanced dataset. and compare the algorithms used on our dataset on the basis of appropriately used evaluated metrics while presenting a summarized analysis of what you find.\n",
    "\n",
    "#### Tasks\n",
    "- Download and load the data (csv file).\n",
    "- Process the data according to guidelines given in the comments of the respective cells.\n",
    "- Split the dataset into 80% for training and rest 20% for testing. (sklearn.model_selection.train_test_split function).\n",
    "- Initialize Logistic Regression and Decision Tree Models (With parameters given in the cell).\n",
    "- Train the models on the same dataset.\n",
    "- Compute the confusion matrix for both models and compare.\n",
    "- Compute a classification report (Precision, Recall and F-1 score) for both models and compare. \n",
    "- Compute and plot the ROC Curve of both curves and simultaneously compute the ROC-AUC for both models and thereby compare.\n",
    "- Summarize your findings and give reasoning for your results (comparing task_1 and task_2).\n",
    "\n",
    "#### Further Fun (will not be evaluated)\n",
    "- Train model on different train-test splits such as 60-40, 50-50, 70-30, 80-20, 90-10, 95-5 etc. and observe accuracies on both X_train and X_test.\n",
    "- Shuffle training samples with different random seed values in the train_test_split function. Check the model error for the testing data for each setup.\n",
    "- Explore ways to deal with imbalanced dataset. Use different methods (such as eliminating outliers and such) to experiment with the given dataset.\n",
    "\n",
    "#### Helpful links\n",
    "- pd.get_dummies() and One Hot Encoding: https://queirozf.com/entries/one-hot-encoding-a-feature-on-a-pandas-dataframe-an-example\n",
    "- Differences between Logistic Regression and a Decision Tree: https://www.geeksforgeeks.org/ml-logistic-regression-v-s-decision-tree-classification/\n",
    "- When are Decision Trees better than Logistic Regression?: https://www.displayr.com/decision-trees-are-usually-better-than-logistic-regression\n",
    "- How to choose between Logistic Regression and Decision Trees given a dataset: https://datascience.stackexchange.com/questions/6048/should-i-use-a-decision-tree-or-logistic-regression-for-classification\n",
    "- Decision Tree Classifier by Sklearn: https://scikit-learn.org/stable/modules/generated/sklearn.tree.DecisionTreeClassifier.html\n",
    "- Understanding classification metrics like Precision, Recall, F-Scores and Confusion matrices: https://nillsf.com/index.php/2020/05/23/confusion-matrix-accuracy-recall-precision-false-positive-rate-and-f-scores-explained/\n",
    "- Understanding the ROC Curve: https://developers.google.com/machine-learning/crash-course/classification/roc-and-auc\n",
    "- Use slack for doubts: https://join.slack.com/t/deepconnectai/shared_invite/zt-givlfnf6-~cn3SQ43k0BGDrG9_YOn4g\n"
   ]
  },
  {
   "cell_type": "code",
   "execution_count": 1,
   "metadata": {
    "colab": {},
    "colab_type": "code",
    "id": "ZD8uahh_oAhY"
   },
   "outputs": [],
   "source": [
    "# Importing necessary libraries\n",
    "import pandas as pd\n",
    "import numpy as np\n",
    "import matplotlib.pyplot as plt\n",
    "from sklearn.preprocessing import LabelEncoder\n",
    "from sklearn.preprocessing import MinMaxScaler, StandardScaler\n",
    "from sklearn import preprocessing\n",
    "from sklearn.model_selection import train_test_split\n",
    "from sklearn.linear_model import LogisticRegression\n",
    "from sklearn.tree import DecisionTreeClassifier\n",
    "from sklearn.metrics import f1_score, precision_score, recall_score\n",
    "from sklearn.metrics import accuracy_score, confusion_matrix, classification_report\n",
    "from sklearn.metrics import roc_curve, roc_auc_score"
   ]
  },
  {
   "cell_type": "code",
   "execution_count": 2,
   "metadata": {
    "colab": {
     "base_uri": "https://localhost:8080/",
     "height": 204
    },
    "colab_type": "code",
    "id": "1yZXZM2ooAhj",
    "outputId": "a6eed644-8e79-431f-c484-e3ee330a2f58"
   },
   "outputs": [
    {
     "name": "stderr",
     "output_type": "stream",
     "text": [
      "'wget' is not recognized as an internal or external command,\n",
      "operable program or batch file.\n"
     ]
    }
   ],
   "source": [
    "# Download the dataset from the source\n",
    "!wget https://github.com/DeepConnectAI/challenge-week-5/blob/master/data/personal_loan.csv"
   ]
  },
  {
   "cell_type": "code",
   "execution_count": 3,
   "metadata": {
    "colab": {},
    "colab_type": "code",
    "id": "TNrYk-1FoAhs"
   },
   "outputs": [],
   "source": [
    "# Read the data from local cloud directory\n",
    "data = pd.read_csv(\"data/Personal_Loan.csv\")"
   ]
  },
  {
   "cell_type": "code",
   "execution_count": 4,
   "metadata": {
    "colab": {
     "base_uri": "https://localhost:8080/",
     "height": 241
    },
    "colab_type": "code",
    "id": "PRVr1iEwoAh9",
    "outputId": "5d874b13-fe13-411f-dd6d-23b3393b9080"
   },
   "outputs": [
    {
     "data": {
      "text/html": [
       "<div>\n",
       "<style scoped>\n",
       "    .dataframe tbody tr th:only-of-type {\n",
       "        vertical-align: middle;\n",
       "    }\n",
       "\n",
       "    .dataframe tbody tr th {\n",
       "        vertical-align: top;\n",
       "    }\n",
       "\n",
       "    .dataframe thead th {\n",
       "        text-align: right;\n",
       "    }\n",
       "</style>\n",
       "<table border=\"1\" class=\"dataframe\">\n",
       "  <thead>\n",
       "    <tr style=\"text-align: right;\">\n",
       "      <th></th>\n",
       "      <th>ID</th>\n",
       "      <th>Age</th>\n",
       "      <th>Experience</th>\n",
       "      <th>Income</th>\n",
       "      <th>ZIP Code</th>\n",
       "      <th>Family</th>\n",
       "      <th>CCAvg</th>\n",
       "      <th>Education</th>\n",
       "      <th>Mortgage</th>\n",
       "      <th>Personal Loan</th>\n",
       "      <th>Securities Account</th>\n",
       "      <th>CD Account</th>\n",
       "      <th>Online</th>\n",
       "      <th>CreditCard</th>\n",
       "    </tr>\n",
       "  </thead>\n",
       "  <tbody>\n",
       "    <tr>\n",
       "      <th>0</th>\n",
       "      <td>1</td>\n",
       "      <td>25</td>\n",
       "      <td>1</td>\n",
       "      <td>49</td>\n",
       "      <td>91107</td>\n",
       "      <td>4</td>\n",
       "      <td>1.6</td>\n",
       "      <td>1</td>\n",
       "      <td>0</td>\n",
       "      <td>0</td>\n",
       "      <td>1</td>\n",
       "      <td>0</td>\n",
       "      <td>0</td>\n",
       "      <td>0</td>\n",
       "    </tr>\n",
       "    <tr>\n",
       "      <th>1</th>\n",
       "      <td>2</td>\n",
       "      <td>45</td>\n",
       "      <td>19</td>\n",
       "      <td>34</td>\n",
       "      <td>90089</td>\n",
       "      <td>3</td>\n",
       "      <td>1.5</td>\n",
       "      <td>1</td>\n",
       "      <td>0</td>\n",
       "      <td>0</td>\n",
       "      <td>1</td>\n",
       "      <td>0</td>\n",
       "      <td>0</td>\n",
       "      <td>0</td>\n",
       "    </tr>\n",
       "    <tr>\n",
       "      <th>2</th>\n",
       "      <td>3</td>\n",
       "      <td>39</td>\n",
       "      <td>15</td>\n",
       "      <td>11</td>\n",
       "      <td>94720</td>\n",
       "      <td>1</td>\n",
       "      <td>1.0</td>\n",
       "      <td>1</td>\n",
       "      <td>0</td>\n",
       "      <td>0</td>\n",
       "      <td>0</td>\n",
       "      <td>0</td>\n",
       "      <td>0</td>\n",
       "      <td>0</td>\n",
       "    </tr>\n",
       "    <tr>\n",
       "      <th>3</th>\n",
       "      <td>4</td>\n",
       "      <td>35</td>\n",
       "      <td>9</td>\n",
       "      <td>100</td>\n",
       "      <td>94112</td>\n",
       "      <td>1</td>\n",
       "      <td>2.7</td>\n",
       "      <td>2</td>\n",
       "      <td>0</td>\n",
       "      <td>0</td>\n",
       "      <td>0</td>\n",
       "      <td>0</td>\n",
       "      <td>0</td>\n",
       "      <td>0</td>\n",
       "    </tr>\n",
       "    <tr>\n",
       "      <th>4</th>\n",
       "      <td>5</td>\n",
       "      <td>35</td>\n",
       "      <td>8</td>\n",
       "      <td>45</td>\n",
       "      <td>91330</td>\n",
       "      <td>4</td>\n",
       "      <td>1.0</td>\n",
       "      <td>2</td>\n",
       "      <td>0</td>\n",
       "      <td>0</td>\n",
       "      <td>0</td>\n",
       "      <td>0</td>\n",
       "      <td>0</td>\n",
       "      <td>1</td>\n",
       "    </tr>\n",
       "  </tbody>\n",
       "</table>\n",
       "</div>"
      ],
      "text/plain": [
       "   ID  Age  Experience  Income  ZIP Code  Family  CCAvg  Education  Mortgage  \\\n",
       "0   1   25           1      49     91107       4    1.6          1         0   \n",
       "1   2   45          19      34     90089       3    1.5          1         0   \n",
       "2   3   39          15      11     94720       1    1.0          1         0   \n",
       "3   4   35           9     100     94112       1    2.7          2         0   \n",
       "4   5   35           8      45     91330       4    1.0          2         0   \n",
       "\n",
       "   Personal Loan  Securities Account  CD Account  Online  CreditCard  \n",
       "0              0                   1           0       0           0  \n",
       "1              0                   1           0       0           0  \n",
       "2              0                   0           0       0           0  \n",
       "3              0                   0           0       0           0  \n",
       "4              0                   0           0       0           1  "
      ]
     },
     "execution_count": 4,
     "metadata": {},
     "output_type": "execute_result"
    }
   ],
   "source": [
    "# Print the dataframe rows just to see some samples\n",
    "data.head()"
   ]
  },
  {
   "cell_type": "code",
   "execution_count": 5,
   "metadata": {
    "colab": {
     "base_uri": "https://localhost:8080/",
     "height": 34
    },
    "colab_type": "code",
    "id": "7Y46Ir7hoAiN",
    "outputId": "81bb9502-a831-4d96-8b2a-f5761935e0ca"
   },
   "outputs": [
    {
     "data": {
      "text/plain": [
       "(5000, 14)"
      ]
     },
     "execution_count": 5,
     "metadata": {},
     "output_type": "execute_result"
    }
   ],
   "source": [
    "# Print shape of the dataframe\n",
    "data.shape"
   ]
  },
  {
   "cell_type": "code",
   "execution_count": 6,
   "metadata": {
    "colab": {
     "base_uri": "https://localhost:8080/",
     "height": 68
    },
    "colab_type": "code",
    "id": "LUA_tv7UoAiX",
    "outputId": "7b5fb04d-f59f-40ba-99ec-75d00f37a73a"
   },
   "outputs": [
    {
     "name": "stdout",
     "output_type": "stream",
     "text": [
      "0    4520\n",
      "1     480\n",
      "Name: Personal Loan, dtype: int64\n"
     ]
    }
   ],
   "source": [
    "# Take a look at the distribution of target variable (Below is an example of what we mean)\n",
    "print(data['Personal Loan'].value_counts())"
   ]
  },
  {
   "cell_type": "markdown",
   "metadata": {
    "colab_type": "text",
    "id": "8zR2W-LzoAig"
   },
   "source": [
    "### This is an imbalanced dataset, as shown above"
   ]
  },
  {
   "cell_type": "code",
   "execution_count": 7,
   "metadata": {
    "colab": {
     "base_uri": "https://localhost:8080/",
     "height": 391
    },
    "colab_type": "code",
    "id": "m_SISJxdoAin",
    "outputId": "35b4bfc4-685c-4c99-c713-fc033b2d8eda"
   },
   "outputs": [
    {
     "name": "stdout",
     "output_type": "stream",
     "text": [
      "<class 'pandas.core.frame.DataFrame'>\n",
      "RangeIndex: 5000 entries, 0 to 4999\n",
      "Data columns (total 14 columns):\n",
      " #   Column              Non-Null Count  Dtype  \n",
      "---  ------              --------------  -----  \n",
      " 0   ID                  5000 non-null   int64  \n",
      " 1   Age                 5000 non-null   int64  \n",
      " 2   Experience          5000 non-null   int64  \n",
      " 3   Income              5000 non-null   int64  \n",
      " 4   ZIP Code            5000 non-null   int64  \n",
      " 5   Family              5000 non-null   int64  \n",
      " 6   CCAvg               5000 non-null   float64\n",
      " 7   Education           5000 non-null   int64  \n",
      " 8   Mortgage            5000 non-null   int64  \n",
      " 9   Personal Loan       5000 non-null   int64  \n",
      " 10  Securities Account  5000 non-null   int64  \n",
      " 11  CD Account          5000 non-null   int64  \n",
      " 12  Online              5000 non-null   int64  \n",
      " 13  CreditCard          5000 non-null   int64  \n",
      "dtypes: float64(1), int64(13)\n",
      "memory usage: 547.0 KB\n",
      "None\n"
     ]
    }
   ],
   "source": [
    "# Print info about dataset\n",
    "print(data.info())"
   ]
  },
  {
   "cell_type": "code",
   "execution_count": 8,
   "metadata": {
    "colab": {},
    "colab_type": "code",
    "id": "pwUiWVS2oAi1"
   },
   "outputs": [],
   "source": [
    "# Fill Missing Values (if any)\n"
   ]
  },
  {
   "cell_type": "code",
   "execution_count": 9,
   "metadata": {
    "colab": {},
    "colab_type": "code",
    "id": "0iQhE2JroAi8"
   },
   "outputs": [],
   "source": [
    "# Label Encode Categorical Columns (if required)\n"
   ]
  },
  {
   "cell_type": "code",
   "execution_count": 10,
   "metadata": {
    "colab": {},
    "colab_type": "code",
    "id": "w3Re_8FsoAjG"
   },
   "outputs": [],
   "source": [
    "# Normalize/Standardize numerical columns\n",
    "data.drop([\"ID\"],axis = 1, inplace = True)\n",
    "\n",
    "#Normalizing  Age Feature\n",
    "x = data[['Age']].values\n",
    "min_max_scaler = preprocessing.MinMaxScaler()\n",
    "x_scaled = min_max_scaler.fit_transform(x)\n",
    "data.drop([\"Age\"],axis = 1, inplace = True)\n",
    "data.insert(0,'Age',x_scaled)\n",
    "\n",
    "#Normalizing  Experience Feature\n",
    "x = data[['Experience']].values\n",
    "min_max_scaler = preprocessing.MinMaxScaler()\n",
    "x_scaled = min_max_scaler.fit_transform(x)\n",
    "data.drop([\"Experience\"],axis = 1, inplace = True)\n",
    "data.insert(0,'Experience',x_scaled)\n",
    "\n",
    "#Normalizing  Income Feature\n",
    "x = data[['Income']].values\n",
    "min_max_scaler = preprocessing.MinMaxScaler()\n",
    "x_scaled = min_max_scaler.fit_transform(x)\n",
    "data.drop([\"Income\"],axis = 1, inplace = True)\n",
    "data.insert(0,'Income',x_scaled)\n",
    "\n",
    "#Normalizing  ZIP Code Feature\n",
    "x = data[['ZIP Code']].values\n",
    "min_max_scaler = preprocessing.MinMaxScaler()\n",
    "x_scaled = min_max_scaler.fit_transform(x)\n",
    "data.drop([\"ZIP Code\"],axis = 1, inplace = True)\n",
    "data.insert(0,'ZIP Code',x_scaled)\n",
    "\n",
    "#Normalizing  Family Feature\n",
    "x = data[['Family']].values\n",
    "min_max_scaler = preprocessing.MinMaxScaler()\n",
    "x_scaled = min_max_scaler.fit_transform(x)\n",
    "data.drop([\"Family\"],axis = 1, inplace = True)\n",
    "data.insert(0,'Family',x_scaled)\n",
    "\n",
    "#Normalizing  CCAvg Feature\n",
    "x = data[['CCAvg']].values\n",
    "min_max_scaler = preprocessing.MinMaxScaler()\n",
    "x_scaled = min_max_scaler.fit_transform(x)\n",
    "data.drop([\"CCAvg\"],axis = 1, inplace = True)\n",
    "data.insert(0,'CCAvg',x_scaled)\n",
    "\n",
    "#Normalizing  Mortgage Feature\n",
    "x = data[['Mortgage']].values\n",
    "min_max_scaler = preprocessing.MinMaxScaler()\n",
    "x_scaled = min_max_scaler.fit_transform(x)\n",
    "data.drop([\"Mortgage\"],axis = 1, inplace = True)\n",
    "data.insert(0,'Mortgage',x_scaled)\n"
   ]
  },
  {
   "cell_type": "code",
   "execution_count": 11,
   "metadata": {
    "colab": {
     "base_uri": "https://localhost:8080/",
     "height": 456
    },
    "colab_type": "code",
    "id": "MB3Hgooeuq34",
    "outputId": "8d061287-4cd2-4da5-c7f7-2762d478eaa8"
   },
   "outputs": [
    {
     "data": {
      "text/html": [
       "<div>\n",
       "<style scoped>\n",
       "    .dataframe tbody tr th:only-of-type {\n",
       "        vertical-align: middle;\n",
       "    }\n",
       "\n",
       "    .dataframe tbody tr th {\n",
       "        vertical-align: top;\n",
       "    }\n",
       "\n",
       "    .dataframe thead th {\n",
       "        text-align: right;\n",
       "    }\n",
       "</style>\n",
       "<table border=\"1\" class=\"dataframe\">\n",
       "  <thead>\n",
       "    <tr style=\"text-align: right;\">\n",
       "      <th></th>\n",
       "      <th>Mortgage</th>\n",
       "      <th>CCAvg</th>\n",
       "      <th>Family</th>\n",
       "      <th>ZIP Code</th>\n",
       "      <th>Income</th>\n",
       "      <th>Experience</th>\n",
       "      <th>Age</th>\n",
       "      <th>Education</th>\n",
       "      <th>Personal Loan</th>\n",
       "      <th>Securities Account</th>\n",
       "      <th>CD Account</th>\n",
       "      <th>Online</th>\n",
       "      <th>CreditCard</th>\n",
       "    </tr>\n",
       "  </thead>\n",
       "  <tbody>\n",
       "    <tr>\n",
       "      <th>0</th>\n",
       "      <td>0.000000</td>\n",
       "      <td>0.16</td>\n",
       "      <td>1.000000</td>\n",
       "      <td>0.936527</td>\n",
       "      <td>0.189815</td>\n",
       "      <td>0.086957</td>\n",
       "      <td>0.045455</td>\n",
       "      <td>1</td>\n",
       "      <td>0</td>\n",
       "      <td>1</td>\n",
       "      <td>0</td>\n",
       "      <td>0</td>\n",
       "      <td>0</td>\n",
       "    </tr>\n",
       "    <tr>\n",
       "      <th>1</th>\n",
       "      <td>0.000000</td>\n",
       "      <td>0.15</td>\n",
       "      <td>0.666667</td>\n",
       "      <td>0.924872</td>\n",
       "      <td>0.120370</td>\n",
       "      <td>0.478261</td>\n",
       "      <td>0.500000</td>\n",
       "      <td>1</td>\n",
       "      <td>0</td>\n",
       "      <td>1</td>\n",
       "      <td>0</td>\n",
       "      <td>0</td>\n",
       "      <td>0</td>\n",
       "    </tr>\n",
       "    <tr>\n",
       "      <th>2</th>\n",
       "      <td>0.000000</td>\n",
       "      <td>0.10</td>\n",
       "      <td>0.000000</td>\n",
       "      <td>0.977892</td>\n",
       "      <td>0.013889</td>\n",
       "      <td>0.391304</td>\n",
       "      <td>0.363636</td>\n",
       "      <td>1</td>\n",
       "      <td>0</td>\n",
       "      <td>0</td>\n",
       "      <td>0</td>\n",
       "      <td>0</td>\n",
       "      <td>0</td>\n",
       "    </tr>\n",
       "    <tr>\n",
       "      <th>3</th>\n",
       "      <td>0.000000</td>\n",
       "      <td>0.27</td>\n",
       "      <td>0.000000</td>\n",
       "      <td>0.970931</td>\n",
       "      <td>0.425926</td>\n",
       "      <td>0.260870</td>\n",
       "      <td>0.272727</td>\n",
       "      <td>2</td>\n",
       "      <td>0</td>\n",
       "      <td>0</td>\n",
       "      <td>0</td>\n",
       "      <td>0</td>\n",
       "      <td>0</td>\n",
       "    </tr>\n",
       "    <tr>\n",
       "      <th>4</th>\n",
       "      <td>0.000000</td>\n",
       "      <td>0.10</td>\n",
       "      <td>1.000000</td>\n",
       "      <td>0.939080</td>\n",
       "      <td>0.171296</td>\n",
       "      <td>0.239130</td>\n",
       "      <td>0.272727</td>\n",
       "      <td>2</td>\n",
       "      <td>0</td>\n",
       "      <td>0</td>\n",
       "      <td>0</td>\n",
       "      <td>0</td>\n",
       "      <td>1</td>\n",
       "    </tr>\n",
       "    <tr>\n",
       "      <th>...</th>\n",
       "      <td>...</td>\n",
       "      <td>...</td>\n",
       "      <td>...</td>\n",
       "      <td>...</td>\n",
       "      <td>...</td>\n",
       "      <td>...</td>\n",
       "      <td>...</td>\n",
       "      <td>...</td>\n",
       "      <td>...</td>\n",
       "      <td>...</td>\n",
       "      <td>...</td>\n",
       "      <td>...</td>\n",
       "      <td>...</td>\n",
       "    </tr>\n",
       "    <tr>\n",
       "      <th>4995</th>\n",
       "      <td>0.000000</td>\n",
       "      <td>0.19</td>\n",
       "      <td>0.000000</td>\n",
       "      <td>0.954731</td>\n",
       "      <td>0.148148</td>\n",
       "      <td>0.130435</td>\n",
       "      <td>0.136364</td>\n",
       "      <td>3</td>\n",
       "      <td>0</td>\n",
       "      <td>0</td>\n",
       "      <td>0</td>\n",
       "      <td>1</td>\n",
       "      <td>0</td>\n",
       "    </tr>\n",
       "    <tr>\n",
       "      <th>4996</th>\n",
       "      <td>0.133858</td>\n",
       "      <td>0.04</td>\n",
       "      <td>1.000000</td>\n",
       "      <td>0.947174</td>\n",
       "      <td>0.032407</td>\n",
       "      <td>0.152174</td>\n",
       "      <td>0.159091</td>\n",
       "      <td>1</td>\n",
       "      <td>0</td>\n",
       "      <td>0</td>\n",
       "      <td>0</td>\n",
       "      <td>1</td>\n",
       "      <td>0</td>\n",
       "    </tr>\n",
       "    <tr>\n",
       "      <th>4997</th>\n",
       "      <td>0.000000</td>\n",
       "      <td>0.03</td>\n",
       "      <td>0.333333</td>\n",
       "      <td>0.958463</td>\n",
       "      <td>0.074074</td>\n",
       "      <td>0.913043</td>\n",
       "      <td>0.909091</td>\n",
       "      <td>3</td>\n",
       "      <td>0</td>\n",
       "      <td>0</td>\n",
       "      <td>0</td>\n",
       "      <td>0</td>\n",
       "      <td>0</td>\n",
       "    </tr>\n",
       "    <tr>\n",
       "      <th>4998</th>\n",
       "      <td>0.000000</td>\n",
       "      <td>0.05</td>\n",
       "      <td>0.666667</td>\n",
       "      <td>0.924242</td>\n",
       "      <td>0.189815</td>\n",
       "      <td>0.934783</td>\n",
       "      <td>0.954545</td>\n",
       "      <td>2</td>\n",
       "      <td>0</td>\n",
       "      <td>0</td>\n",
       "      <td>0</td>\n",
       "      <td>1</td>\n",
       "      <td>0</td>\n",
       "    </tr>\n",
       "    <tr>\n",
       "      <th>4999</th>\n",
       "      <td>0.000000</td>\n",
       "      <td>0.08</td>\n",
       "      <td>0.666667</td>\n",
       "      <td>0.953758</td>\n",
       "      <td>0.347222</td>\n",
       "      <td>0.152174</td>\n",
       "      <td>0.113636</td>\n",
       "      <td>1</td>\n",
       "      <td>0</td>\n",
       "      <td>0</td>\n",
       "      <td>0</td>\n",
       "      <td>1</td>\n",
       "      <td>1</td>\n",
       "    </tr>\n",
       "  </tbody>\n",
       "</table>\n",
       "<p>5000 rows × 13 columns</p>\n",
       "</div>"
      ],
      "text/plain": [
       "      Mortgage  CCAvg    Family  ZIP Code    Income  Experience       Age  \\\n",
       "0     0.000000   0.16  1.000000  0.936527  0.189815    0.086957  0.045455   \n",
       "1     0.000000   0.15  0.666667  0.924872  0.120370    0.478261  0.500000   \n",
       "2     0.000000   0.10  0.000000  0.977892  0.013889    0.391304  0.363636   \n",
       "3     0.000000   0.27  0.000000  0.970931  0.425926    0.260870  0.272727   \n",
       "4     0.000000   0.10  1.000000  0.939080  0.171296    0.239130  0.272727   \n",
       "...        ...    ...       ...       ...       ...         ...       ...   \n",
       "4995  0.000000   0.19  0.000000  0.954731  0.148148    0.130435  0.136364   \n",
       "4996  0.133858   0.04  1.000000  0.947174  0.032407    0.152174  0.159091   \n",
       "4997  0.000000   0.03  0.333333  0.958463  0.074074    0.913043  0.909091   \n",
       "4998  0.000000   0.05  0.666667  0.924242  0.189815    0.934783  0.954545   \n",
       "4999  0.000000   0.08  0.666667  0.953758  0.347222    0.152174  0.113636   \n",
       "\n",
       "      Education  Personal Loan  Securities Account  CD Account  Online  \\\n",
       "0             1              0                   1           0       0   \n",
       "1             1              0                   1           0       0   \n",
       "2             1              0                   0           0       0   \n",
       "3             2              0                   0           0       0   \n",
       "4             2              0                   0           0       0   \n",
       "...         ...            ...                 ...         ...     ...   \n",
       "4995          3              0                   0           0       1   \n",
       "4996          1              0                   0           0       1   \n",
       "4997          3              0                   0           0       0   \n",
       "4998          2              0                   0           0       1   \n",
       "4999          1              0                   0           0       1   \n",
       "\n",
       "      CreditCard  \n",
       "0              0  \n",
       "1              0  \n",
       "2              0  \n",
       "3              0  \n",
       "4              1  \n",
       "...          ...  \n",
       "4995           0  \n",
       "4996           0  \n",
       "4997           0  \n",
       "4998           0  \n",
       "4999           1  \n",
       "\n",
       "[5000 rows x 13 columns]"
      ]
     },
     "execution_count": 11,
     "metadata": {},
     "output_type": "execute_result"
    }
   ],
   "source": [
    "data"
   ]
  },
  {
   "cell_type": "code",
   "execution_count": 12,
   "metadata": {
    "colab": {},
    "colab_type": "code",
    "id": "s8O_uHLooAjP"
   },
   "outputs": [],
   "source": [
    "# One hot encode columns with multiple categories\n",
    "# Use pd.get_dummies(), concatenate that with the original dataset, and drop the column (keeping only the dummy columns)\n",
    "# Use link given in the \"Helpful Links\" section for help\n",
    "\n",
    "data_edu = pd.get_dummies(data['Education'], prefix='Education')\n",
    "data = data.drop(['Education'], axis = 1)\n",
    "data = pd.concat([data, data_edu], axis=1)"
   ]
  },
  {
   "cell_type": "code",
   "execution_count": 13,
   "metadata": {
    "colab": {
     "base_uri": "https://localhost:8080/",
     "height": 456
    },
    "colab_type": "code",
    "id": "8ydqBWHmwrZ2",
    "outputId": "a545bd4a-08df-430a-f3ab-ac7a7b81c16d"
   },
   "outputs": [
    {
     "data": {
      "text/html": [
       "<div>\n",
       "<style scoped>\n",
       "    .dataframe tbody tr th:only-of-type {\n",
       "        vertical-align: middle;\n",
       "    }\n",
       "\n",
       "    .dataframe tbody tr th {\n",
       "        vertical-align: top;\n",
       "    }\n",
       "\n",
       "    .dataframe thead th {\n",
       "        text-align: right;\n",
       "    }\n",
       "</style>\n",
       "<table border=\"1\" class=\"dataframe\">\n",
       "  <thead>\n",
       "    <tr style=\"text-align: right;\">\n",
       "      <th></th>\n",
       "      <th>Mortgage</th>\n",
       "      <th>CCAvg</th>\n",
       "      <th>Family</th>\n",
       "      <th>ZIP Code</th>\n",
       "      <th>Income</th>\n",
       "      <th>Experience</th>\n",
       "      <th>Age</th>\n",
       "      <th>Personal Loan</th>\n",
       "      <th>Securities Account</th>\n",
       "      <th>CD Account</th>\n",
       "      <th>Online</th>\n",
       "      <th>CreditCard</th>\n",
       "      <th>Education_1</th>\n",
       "      <th>Education_2</th>\n",
       "      <th>Education_3</th>\n",
       "    </tr>\n",
       "  </thead>\n",
       "  <tbody>\n",
       "    <tr>\n",
       "      <th>0</th>\n",
       "      <td>0.000000</td>\n",
       "      <td>0.16</td>\n",
       "      <td>1.000000</td>\n",
       "      <td>0.936527</td>\n",
       "      <td>0.189815</td>\n",
       "      <td>0.086957</td>\n",
       "      <td>0.045455</td>\n",
       "      <td>0</td>\n",
       "      <td>1</td>\n",
       "      <td>0</td>\n",
       "      <td>0</td>\n",
       "      <td>0</td>\n",
       "      <td>1</td>\n",
       "      <td>0</td>\n",
       "      <td>0</td>\n",
       "    </tr>\n",
       "    <tr>\n",
       "      <th>1</th>\n",
       "      <td>0.000000</td>\n",
       "      <td>0.15</td>\n",
       "      <td>0.666667</td>\n",
       "      <td>0.924872</td>\n",
       "      <td>0.120370</td>\n",
       "      <td>0.478261</td>\n",
       "      <td>0.500000</td>\n",
       "      <td>0</td>\n",
       "      <td>1</td>\n",
       "      <td>0</td>\n",
       "      <td>0</td>\n",
       "      <td>0</td>\n",
       "      <td>1</td>\n",
       "      <td>0</td>\n",
       "      <td>0</td>\n",
       "    </tr>\n",
       "    <tr>\n",
       "      <th>2</th>\n",
       "      <td>0.000000</td>\n",
       "      <td>0.10</td>\n",
       "      <td>0.000000</td>\n",
       "      <td>0.977892</td>\n",
       "      <td>0.013889</td>\n",
       "      <td>0.391304</td>\n",
       "      <td>0.363636</td>\n",
       "      <td>0</td>\n",
       "      <td>0</td>\n",
       "      <td>0</td>\n",
       "      <td>0</td>\n",
       "      <td>0</td>\n",
       "      <td>1</td>\n",
       "      <td>0</td>\n",
       "      <td>0</td>\n",
       "    </tr>\n",
       "    <tr>\n",
       "      <th>3</th>\n",
       "      <td>0.000000</td>\n",
       "      <td>0.27</td>\n",
       "      <td>0.000000</td>\n",
       "      <td>0.970931</td>\n",
       "      <td>0.425926</td>\n",
       "      <td>0.260870</td>\n",
       "      <td>0.272727</td>\n",
       "      <td>0</td>\n",
       "      <td>0</td>\n",
       "      <td>0</td>\n",
       "      <td>0</td>\n",
       "      <td>0</td>\n",
       "      <td>0</td>\n",
       "      <td>1</td>\n",
       "      <td>0</td>\n",
       "    </tr>\n",
       "    <tr>\n",
       "      <th>4</th>\n",
       "      <td>0.000000</td>\n",
       "      <td>0.10</td>\n",
       "      <td>1.000000</td>\n",
       "      <td>0.939080</td>\n",
       "      <td>0.171296</td>\n",
       "      <td>0.239130</td>\n",
       "      <td>0.272727</td>\n",
       "      <td>0</td>\n",
       "      <td>0</td>\n",
       "      <td>0</td>\n",
       "      <td>0</td>\n",
       "      <td>1</td>\n",
       "      <td>0</td>\n",
       "      <td>1</td>\n",
       "      <td>0</td>\n",
       "    </tr>\n",
       "    <tr>\n",
       "      <th>...</th>\n",
       "      <td>...</td>\n",
       "      <td>...</td>\n",
       "      <td>...</td>\n",
       "      <td>...</td>\n",
       "      <td>...</td>\n",
       "      <td>...</td>\n",
       "      <td>...</td>\n",
       "      <td>...</td>\n",
       "      <td>...</td>\n",
       "      <td>...</td>\n",
       "      <td>...</td>\n",
       "      <td>...</td>\n",
       "      <td>...</td>\n",
       "      <td>...</td>\n",
       "      <td>...</td>\n",
       "    </tr>\n",
       "    <tr>\n",
       "      <th>4995</th>\n",
       "      <td>0.000000</td>\n",
       "      <td>0.19</td>\n",
       "      <td>0.000000</td>\n",
       "      <td>0.954731</td>\n",
       "      <td>0.148148</td>\n",
       "      <td>0.130435</td>\n",
       "      <td>0.136364</td>\n",
       "      <td>0</td>\n",
       "      <td>0</td>\n",
       "      <td>0</td>\n",
       "      <td>1</td>\n",
       "      <td>0</td>\n",
       "      <td>0</td>\n",
       "      <td>0</td>\n",
       "      <td>1</td>\n",
       "    </tr>\n",
       "    <tr>\n",
       "      <th>4996</th>\n",
       "      <td>0.133858</td>\n",
       "      <td>0.04</td>\n",
       "      <td>1.000000</td>\n",
       "      <td>0.947174</td>\n",
       "      <td>0.032407</td>\n",
       "      <td>0.152174</td>\n",
       "      <td>0.159091</td>\n",
       "      <td>0</td>\n",
       "      <td>0</td>\n",
       "      <td>0</td>\n",
       "      <td>1</td>\n",
       "      <td>0</td>\n",
       "      <td>1</td>\n",
       "      <td>0</td>\n",
       "      <td>0</td>\n",
       "    </tr>\n",
       "    <tr>\n",
       "      <th>4997</th>\n",
       "      <td>0.000000</td>\n",
       "      <td>0.03</td>\n",
       "      <td>0.333333</td>\n",
       "      <td>0.958463</td>\n",
       "      <td>0.074074</td>\n",
       "      <td>0.913043</td>\n",
       "      <td>0.909091</td>\n",
       "      <td>0</td>\n",
       "      <td>0</td>\n",
       "      <td>0</td>\n",
       "      <td>0</td>\n",
       "      <td>0</td>\n",
       "      <td>0</td>\n",
       "      <td>0</td>\n",
       "      <td>1</td>\n",
       "    </tr>\n",
       "    <tr>\n",
       "      <th>4998</th>\n",
       "      <td>0.000000</td>\n",
       "      <td>0.05</td>\n",
       "      <td>0.666667</td>\n",
       "      <td>0.924242</td>\n",
       "      <td>0.189815</td>\n",
       "      <td>0.934783</td>\n",
       "      <td>0.954545</td>\n",
       "      <td>0</td>\n",
       "      <td>0</td>\n",
       "      <td>0</td>\n",
       "      <td>1</td>\n",
       "      <td>0</td>\n",
       "      <td>0</td>\n",
       "      <td>1</td>\n",
       "      <td>0</td>\n",
       "    </tr>\n",
       "    <tr>\n",
       "      <th>4999</th>\n",
       "      <td>0.000000</td>\n",
       "      <td>0.08</td>\n",
       "      <td>0.666667</td>\n",
       "      <td>0.953758</td>\n",
       "      <td>0.347222</td>\n",
       "      <td>0.152174</td>\n",
       "      <td>0.113636</td>\n",
       "      <td>0</td>\n",
       "      <td>0</td>\n",
       "      <td>0</td>\n",
       "      <td>1</td>\n",
       "      <td>1</td>\n",
       "      <td>1</td>\n",
       "      <td>0</td>\n",
       "      <td>0</td>\n",
       "    </tr>\n",
       "  </tbody>\n",
       "</table>\n",
       "<p>5000 rows × 15 columns</p>\n",
       "</div>"
      ],
      "text/plain": [
       "      Mortgage  CCAvg    Family  ZIP Code    Income  Experience       Age  \\\n",
       "0     0.000000   0.16  1.000000  0.936527  0.189815    0.086957  0.045455   \n",
       "1     0.000000   0.15  0.666667  0.924872  0.120370    0.478261  0.500000   \n",
       "2     0.000000   0.10  0.000000  0.977892  0.013889    0.391304  0.363636   \n",
       "3     0.000000   0.27  0.000000  0.970931  0.425926    0.260870  0.272727   \n",
       "4     0.000000   0.10  1.000000  0.939080  0.171296    0.239130  0.272727   \n",
       "...        ...    ...       ...       ...       ...         ...       ...   \n",
       "4995  0.000000   0.19  0.000000  0.954731  0.148148    0.130435  0.136364   \n",
       "4996  0.133858   0.04  1.000000  0.947174  0.032407    0.152174  0.159091   \n",
       "4997  0.000000   0.03  0.333333  0.958463  0.074074    0.913043  0.909091   \n",
       "4998  0.000000   0.05  0.666667  0.924242  0.189815    0.934783  0.954545   \n",
       "4999  0.000000   0.08  0.666667  0.953758  0.347222    0.152174  0.113636   \n",
       "\n",
       "      Personal Loan  Securities Account  CD Account  Online  CreditCard  \\\n",
       "0                 0                   1           0       0           0   \n",
       "1                 0                   1           0       0           0   \n",
       "2                 0                   0           0       0           0   \n",
       "3                 0                   0           0       0           0   \n",
       "4                 0                   0           0       0           1   \n",
       "...             ...                 ...         ...     ...         ...   \n",
       "4995              0                   0           0       1           0   \n",
       "4996              0                   0           0       1           0   \n",
       "4997              0                   0           0       0           0   \n",
       "4998              0                   0           0       1           0   \n",
       "4999              0                   0           0       1           1   \n",
       "\n",
       "      Education_1  Education_2  Education_3  \n",
       "0               1            0            0  \n",
       "1               1            0            0  \n",
       "2               1            0            0  \n",
       "3               0            1            0  \n",
       "4               0            1            0  \n",
       "...           ...          ...          ...  \n",
       "4995            0            0            1  \n",
       "4996            1            0            0  \n",
       "4997            0            0            1  \n",
       "4998            0            1            0  \n",
       "4999            1            0            0  \n",
       "\n",
       "[5000 rows x 15 columns]"
      ]
     },
     "execution_count": 13,
     "metadata": {},
     "output_type": "execute_result"
    }
   ],
   "source": [
    "data"
   ]
  },
  {
   "cell_type": "code",
   "execution_count": 14,
   "metadata": {
    "colab": {},
    "colab_type": "code",
    "id": "VUhkf09koAjf"
   },
   "outputs": [],
   "source": [
    "# Define Feature Columns as X and Target Column as y\n",
    "X = data.drop(['Personal Loan'], axis = 1).values\n",
    "y = data.iloc[:,7].values"
   ]
  },
  {
   "cell_type": "code",
   "execution_count": 15,
   "metadata": {
    "colab": {},
    "colab_type": "code",
    "id": "z65iZ5uToAjy"
   },
   "outputs": [],
   "source": [
    "# Do train-test split\n",
    "X_train, X_test, y_train, y_test = train_test_split(X, y, test_size=0.20, random_state=42)"
   ]
  },
  {
   "cell_type": "markdown",
   "metadata": {
    "colab_type": "text",
    "id": "6Hqr0FYUoAj4"
   },
   "source": [
    "### Logistic Regression Model"
   ]
  },
  {
   "cell_type": "code",
   "execution_count": 16,
   "metadata": {
    "colab": {},
    "colab_type": "code",
    "id": "W81V9sx2oAj6"
   },
   "outputs": [],
   "source": [
    "# Initializing the model\n",
    "log_reg = LogisticRegression()"
   ]
  },
  {
   "cell_type": "code",
   "execution_count": 17,
   "metadata": {
    "colab": {
     "base_uri": "https://localhost:8080/",
     "height": 102
    },
    "colab_type": "code",
    "id": "iuTHmtv0oAj_",
    "outputId": "9bfac867-16b6-4adc-da95-a18526e7409b"
   },
   "outputs": [
    {
     "data": {
      "text/plain": [
       "LogisticRegression(C=1.0, class_weight=None, dual=False, fit_intercept=True,\n",
       "                   intercept_scaling=1, l1_ratio=None, max_iter=100,\n",
       "                   multi_class='auto', n_jobs=None, penalty='l2',\n",
       "                   random_state=None, solver='lbfgs', tol=0.0001, verbose=0,\n",
       "                   warm_start=False)"
      ]
     },
     "execution_count": 17,
     "metadata": {},
     "output_type": "execute_result"
    }
   ],
   "source": [
    "# Train the model\n",
    "log_reg.fit(X_train,y_train)"
   ]
  },
  {
   "cell_type": "code",
   "execution_count": 18,
   "metadata": {
    "colab": {},
    "colab_type": "code",
    "id": "9tzPDpJ4oAkH"
   },
   "outputs": [],
   "source": [
    "# Make Predictions on the test data (log_prob values represents raw probabilities of predictions)\n",
    "# It will be used for ROC Curves\n",
    "log_pred = log_reg.predict(X_test)\n",
    "log_prob = log_reg.predict_proba(X_test)"
   ]
  },
  {
   "cell_type": "markdown",
   "metadata": {
    "colab_type": "text",
    "id": "QovlwEBnoAkN"
   },
   "source": [
    "### Decision Tree Model"
   ]
  },
  {
   "cell_type": "code",
   "execution_count": 19,
   "metadata": {
    "colab": {},
    "colab_type": "code",
    "id": "EytkVAfKoAkO"
   },
   "outputs": [],
   "source": [
    "# Initializing the model\n",
    "d_tree = DecisionTreeClassifier()"
   ]
  },
  {
   "cell_type": "code",
   "execution_count": 20,
   "metadata": {
    "colab": {
     "base_uri": "https://localhost:8080/",
     "height": 119
    },
    "colab_type": "code",
    "id": "pRTEvnb1oAkU",
    "outputId": "719e9fae-fced-4500-ef39-765cd0298efb"
   },
   "outputs": [
    {
     "data": {
      "text/plain": [
       "DecisionTreeClassifier(ccp_alpha=0.0, class_weight=None, criterion='gini',\n",
       "                       max_depth=None, max_features=None, max_leaf_nodes=None,\n",
       "                       min_impurity_decrease=0.0, min_impurity_split=None,\n",
       "                       min_samples_leaf=1, min_samples_split=2,\n",
       "                       min_weight_fraction_leaf=0.0, presort='deprecated',\n",
       "                       random_state=None, splitter='best')"
      ]
     },
     "execution_count": 20,
     "metadata": {},
     "output_type": "execute_result"
    }
   ],
   "source": [
    "# Train the model\n",
    "d_tree.fit(X_train,y_train)"
   ]
  },
  {
   "cell_type": "code",
   "execution_count": 21,
   "metadata": {
    "colab": {},
    "colab_type": "code",
    "id": "1MlHYbpOoAkc"
   },
   "outputs": [],
   "source": [
    "# Make Predictions on the test data (dt_prob values represents raw probabilities of predictions)\n",
    "# It will be used for ROC Curves\n",
    "dt_pred = d_tree.predict(X_test)\n",
    "dt_prob = d_tree.predict_proba(X_test)"
   ]
  },
  {
   "cell_type": "markdown",
   "metadata": {
    "colab_type": "text",
    "id": "0sZuh1xEoAkh"
   },
   "source": [
    "## Evaluating Our Models"
   ]
  },
  {
   "cell_type": "code",
   "execution_count": 22,
   "metadata": {
    "colab": {
     "base_uri": "https://localhost:8080/",
     "height": 51
    },
    "colab_type": "code",
    "id": "rjOt4rxmoAki",
    "outputId": "20884c5f-bc68-472a-e6c1-ebbfd6adb45c"
   },
   "outputs": [
    {
     "name": "stdout",
     "output_type": "stream",
     "text": [
      "[[890   5]\n",
      " [ 33  72]]\n"
     ]
    }
   ],
   "source": [
    "# Confusion matrix for Logistic Regression Model\n",
    "print(confusion_matrix(y_test, log_pred))"
   ]
  },
  {
   "cell_type": "code",
   "execution_count": 23,
   "metadata": {
    "colab": {
     "base_uri": "https://localhost:8080/",
     "height": 51
    },
    "colab_type": "code",
    "id": "gt99ogxmoAkn",
    "outputId": "1a078b38-61e9-4781-8c7d-0d88b48753fc"
   },
   "outputs": [
    {
     "name": "stdout",
     "output_type": "stream",
     "text": [
      "[[889   6]\n",
      " [  7  98]]\n"
     ]
    }
   ],
   "source": [
    "# Confusion matrix for Decision Tree Model\n",
    "print(confusion_matrix(y_test, dt_pred))"
   ]
  },
  {
   "cell_type": "markdown",
   "metadata": {
    "colab_type": "text",
    "id": "7LYRFdSBoAku"
   },
   "source": [
    "### <b>Think</b> : Would accuracy_score be a good evaluation metric, given that the dataset is imbalanced?"
   ]
  },
  {
   "cell_type": "code",
   "execution_count": 24,
   "metadata": {
    "colab": {},
    "colab_type": "code",
    "id": "UMY7aw_coAkv"
   },
   "outputs": [],
   "source": [
    "# Since the dataset is imbalanced, we evaluate our model using F1-Score"
   ]
  },
  {
   "cell_type": "code",
   "execution_count": 25,
   "metadata": {
    "colab": {
     "base_uri": "https://localhost:8080/",
     "height": 34
    },
    "colab_type": "code",
    "id": "Qaa77zbooAky",
    "outputId": "1eb002c5-9d12-47ab-ba86-75915ac3edc1"
   },
   "outputs": [
    {
     "name": "stdout",
     "output_type": "stream",
     "text": [
      "0.7912087912087912\n"
     ]
    }
   ],
   "source": [
    "# F1-Score for Logistic Regression Model\n",
    "print(f1_score(y_test,log_pred))"
   ]
  },
  {
   "cell_type": "code",
   "execution_count": 26,
   "metadata": {
    "colab": {
     "base_uri": "https://localhost:8080/",
     "height": 34
    },
    "colab_type": "code",
    "id": "hPFeU9n_oAk2",
    "outputId": "51f728c3-e652-4f03-bfbb-26033885c46e"
   },
   "outputs": [
    {
     "name": "stdout",
     "output_type": "stream",
     "text": [
      "0.937799043062201\n"
     ]
    }
   ],
   "source": [
    "# F1-Score for Decision Tree Model\n",
    "print(f1_score(y_test,dt_pred))"
   ]
  },
  {
   "cell_type": "code",
   "execution_count": 27,
   "metadata": {
    "colab": {
     "base_uri": "https://localhost:8080/",
     "height": 170
    },
    "colab_type": "code",
    "id": "z1bGwretoAk7",
    "outputId": "4d7e7ce5-1d60-4d5c-ecd3-6c0513920749"
   },
   "outputs": [
    {
     "name": "stdout",
     "output_type": "stream",
     "text": [
      "              precision    recall  f1-score   support\n",
      "\n",
      "           0       0.96      0.99      0.98       895\n",
      "           1       0.94      0.69      0.79       105\n",
      "\n",
      "    accuracy                           0.96      1000\n",
      "   macro avg       0.95      0.84      0.89      1000\n",
      "weighted avg       0.96      0.96      0.96      1000\n",
      "\n"
     ]
    }
   ],
   "source": [
    "# Classification report for Logistic Regression Model\n",
    "print(classification_report(y_test,log_pred))"
   ]
  },
  {
   "cell_type": "code",
   "execution_count": 28,
   "metadata": {
    "colab": {
     "base_uri": "https://localhost:8080/",
     "height": 170
    },
    "colab_type": "code",
    "id": "J2Y1UyLPoAlB",
    "outputId": "8d1f1c2c-f344-4cb0-b36e-d9ffa8d96489"
   },
   "outputs": [
    {
     "name": "stdout",
     "output_type": "stream",
     "text": [
      "              precision    recall  f1-score   support\n",
      "\n",
      "           0       0.99      0.99      0.99       895\n",
      "           1       0.94      0.93      0.94       105\n",
      "\n",
      "    accuracy                           0.99      1000\n",
      "   macro avg       0.97      0.96      0.97      1000\n",
      "weighted avg       0.99      0.99      0.99      1000\n",
      "\n"
     ]
    }
   ],
   "source": [
    "# Classification report for Decision Tree Model\n",
    "print(classification_report(y_test,dt_pred))"
   ]
  },
  {
   "cell_type": "markdown",
   "metadata": {
    "colab_type": "text",
    "id": "O8a7QheRoAlG"
   },
   "source": [
    "### Plotting the ROC Curve and computing the ROC-AUC"
   ]
  },
  {
   "cell_type": "code",
   "execution_count": 29,
   "metadata": {
    "colab": {},
    "colab_type": "code",
    "id": "mqQNXBnIoAlH"
   },
   "outputs": [],
   "source": [
    "#ROC-AUC curve is a performance measurement for classification problems at various thresholds settings."
   ]
  },
  {
   "cell_type": "code",
   "execution_count": 30,
   "metadata": {
    "colab": {},
    "colab_type": "code",
    "id": "yWBVkYUvoAlO"
   },
   "outputs": [],
   "source": [
    "#Calculate False Positive Rate and True Positive Rate for y_test\n",
    "fpr1, tpr1, thresh1 = roc_curve(y_test, log_prob[:,1], pos_label=1)\n",
    "fpr2, tpr2, thresh2 = roc_curve(y_test, dt_prob[:,1], pos_label=1)\n",
    "\n",
    "random_probs = [0 for i in range(len(y_test))]\n",
    "p_fpr, p_tpr, _ = roc_curve(y_test, random_probs, pos_label=1)"
   ]
  },
  {
   "cell_type": "code",
   "execution_count": 31,
   "metadata": {
    "colab": {
     "base_uri": "https://localhost:8080/",
     "height": 376
    },
    "colab_type": "code",
    "id": "32NgKvuXoAlW",
    "outputId": "c223e616-3830-4e42-ae79-03fcc24cb9a5"
   },
   "outputs": [
    {
     "data": {
      "image/png": "[encoded data removed]",
      "text/plain": [
       "<Figure size 576x396 with 1 Axes>"
      ]
     },
     "metadata": {},
     "output_type": "display_data"
    }
   ],
   "source": [
    "#Plot ROC Curve (TPR vs FPR)\n",
    "plt.style.use('seaborn')\n",
    "plt.plot(fpr1, tpr1, linestyle='--',color='orange', label='Logistic Regression')\n",
    "plt.plot(fpr2, tpr2, linestyle='-',color='green', label='Decision Tree')\n",
    "plt.plot(p_fpr, p_tpr, linestyle='-.', color='blue')\n",
    "plt.title('ROC curve')\n",
    "plt.xlabel('False Positive Rate')\n",
    "plt.ylabel('True Positive rate')\n",
    "plt.legend(loc='best')\n",
    "plt.show();"
   ]
  },
  {
   "cell_type": "code",
   "execution_count": 69,
   "metadata": {
    "colab": {
     "base_uri": "https://localhost:8080/",
     "height": 51
    },
    "colab_type": "code",
    "id": "wh0bJ61coAlg",
    "outputId": "780db592-2b42-40b7-b2a2-3161300f89de"
   },
   "outputs": [
    {
     "name": "stdout",
     "output_type": "stream",
     "text": [
      "ROC-AUC Score for Logistic Regression:  0.9759936153232243\n",
      "ROC-AUC Score for Decision Tree:  0.9579941473796223\n"
     ]
    }
   ],
   "source": [
    "#Print ROC-AUC scores for both models\n",
    "auc_score1 = roc_auc_score(y_test, log_prob[:,1])\n",
    "auc_score2 = roc_auc_score(y_test, dt_prob[:,1])\n",
    "\n",
    "print(\"ROC-AUC Score for Logistic Regression: \",auc_score1)\n",
    "print(\"ROC-AUC Score for Decision Tree: \",auc_score2)"
   ]
  },
  {
   "cell_type": "markdown",
   "metadata": {
    "colab_type": "text",
    "id": "6ga1bplWoAlk"
   },
   "source": [
    "## Conclusive Analysis"
   ]
  },
  {
   "cell_type": "markdown",
   "metadata": {
    "colab_type": "text",
    "id": "jM2Rf5bKoAll"
   },
   "source": [
    "Summarize your findings and give reasoning for the results you obtained from task_1 and task_2 and compare the algorithms utilized based on the evaluations metrics used."
   ]
  },
  {
   "cell_type": "code",
   "execution_count": 34,
   "metadata": {
    "colab": {},
    "colab_type": "code",
    "id": "8AUSwPwfoAlm"
   },
   "outputs": [
    {
     "name": "stdout",
     "output_type": "stream",
     "text": [
      "As the area under an ROC curve is a measure of the usefulness of a test in general, where a greater area means a more useful test\n",
      "So on analyzis based on the above statement , in task 1 although both Linear Regression and Decison Tree were giving low Precision , F1 Score  that is overall very low metrics , I would chooseLinear Regression model as it's area under ROC curve > Decision Tree\n",
      "In task 2 although both the models were significantly good but on observing the metrics and considering the ROC Curve , here I would choose Decision Tree model over Linear Regression model\n"
     ]
    }
   ],
   "source": [
    "print(\"As the area under an ROC curve is a measure of the usefulness of a test in general, where a greater area means a more useful test\")\n",
    "print(\"So on analyzis based on the above statement , in task 1 although both Linear Regression and Decison Tree were giving low Precision , F1 Score  that is overall very low metrics , I would chooseLinear Regression model as it's area under ROC curve > Decision Tree\")\n",
    "print(\"In task 2 although both the models were significantly good but on observing the metrics and considering the ROC Curve , here I would choose Decision Tree model over Linear Regression model\")"
   ]
  },
  {
   "cell_type": "code",
   "execution_count": null,
   "metadata": {},
   "outputs": [],
   "source": []
  }
 ],
 "metadata": {
  "colab": {
   "name": "task_2_lr_vs_dt.ipynb",
   "provenance": [],
   "toc_visible": true
  },
  "kernelspec": {
   "display_name": "Python 3",
   "language": "python",
   "name": "python3"
  },
  "language_info": {
   "codemirror_mode": {
    "name": "ipython",
    "version": 3
   },
   "file_extension": ".py",
   "mimetype": "text/x-python",
   "name": "python",
   "nbconvert_exporter": "python",
   "pygments_lexer": "ipython3",
   "version": "3.7.6"
  },
  "toc": {
   "base_numbering": 1,
   "nav_menu": {},
   "number_sections": true,
   "sideBar": true,
   "skip_h1_title": false,
   "title_cell": "Table of Contents",
   "title_sidebar": "Contents",
   "toc_cell": false,
   "toc_position": {},
   "toc_section_display": true,
   "toc_window_display": false
  }
 },
 "nbformat": 4,
 "nbformat_minor": 1
}
