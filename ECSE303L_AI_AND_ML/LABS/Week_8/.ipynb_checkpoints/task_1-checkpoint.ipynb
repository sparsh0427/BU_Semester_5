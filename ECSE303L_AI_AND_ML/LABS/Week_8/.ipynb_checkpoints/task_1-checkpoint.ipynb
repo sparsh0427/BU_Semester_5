{
 "cells": [
  {
   "cell_type": "markdown",
   "metadata": {
    "id": "m5A6n7jvYxPC"
   },
   "source": [
    "#Vehicle silhouettes\n",
    "\n",
    "##Objective\n",
    "To classify a given silhouette as one of four types of vehicle, \tusing a set of features extracted from the silhouette. The \tvehicle may be viewed from one of many different angles.   \n",
    "\n",
    "##Description\n",
    "\n",
    "###The features were extracted from the silhouettes by the HIPS\n",
    "(Hierarchical Image Processing System) extension BINATTS, which extracts a combination of scale independent features utilising\tboth classical moments based measures such as scaled variance,\tskewness and kurtosis about the major/minor axes and heuristic\tmeasures such as hollows, circularity, rectangularity and\tcompactness. Four \"Corgie\" model vehicles were used for the experiment: a double decker bus, Cheverolet van, Saab 9000 and an Opel Manta 400.\tThis particular combination of vehicles was chosen with the expectation that the bus, van and either one of the cars would be readily distinguishable, but it would be more difficult to distinguish between the cars.\n",
    "\t\n",
    "##Source: https://www.kaggle.com/rajansharma780/vehicle\n",
    "\n",
    "## ATTRIBUTES\n",
    "1.\tcompactness\tfloat\taverage perimeter**2/area\n",
    "2.\tcircularity\tfloat\taverage radius**2/area\n",
    "3.\tdistance_circularity\tfloat\tarea/(av.distance from border)**2\n",
    "4.\tradius_ratio\tfloat\t(max.rad-min.rad)/av.radius\n",
    "5.\tpr_axis_aspect_ratio\tfloat\t(minor axis)/(major axis)\n",
    "6.\tmax_length_aspect_ratio\tfloat\t(length perp. max length)/(max length)\n",
    "7.\tscatter_ratio\tfloat\t(inertia about minor axis)/(inertia about major axis)\n",
    "8.\telongatedness\tfloat\tarea/(shrink width)**2\n",
    "9.\tpr_axis_rectangularity\tfloat\tarea/(pr.axis length*pr.axis width)\n",
    "10.\tmax_length_rectangularity\tfloat\tarea/(max.length*length perp. to this)\n",
    "11.\tscaled_variance_major_axis\tfloat\t(2nd order moment about minor axis)/area\n",
    "12.\tscaled_variance_minor_axis\tfloat\t(2nd order moment about major axis)/area\n",
    "13.\tscaled_radius_gyration\tfloat\t(mavar+mivar)/area\n",
    "14.\tskewness_major_axis\tfloat\t(3rd order moment about major axis)/sigma_min**3\n",
    "15.\tskewness_minor_axis\tfloat\t(3rd order moment about minor axis)/sigma_maj**3\n",
    "16.\tkurtosis_minor_axis\tfloat\t(4th order moment about major axis)/sigma_min**4\n",
    "17.\tkurtosis_major_axis\tfloat\t(4th order moment about minor axis)/sigma_maj**4\n",
    "18.\thollows_ratio\tfloat\t(area of hollows)/(area of bounding polygon)\n",
    "\n",
    "##Target variable\n",
    "19.\tvehicle_class\tstring\tPredictor Class. Values: Opel, Saab, Bus, Van\t\n",
    "\n",
    "#Tasks:\n",
    "1.\tObtain the multi-class dataset from the given link\n",
    "2.\tLoad the dataset\n",
    "3.\tApply pre-processing techniques: Encoding, Scaling\n",
    "4.\tDivide the dataset into training (70%) and testing (30%)\n",
    "5.\tBuild your own random forest model from scratch (using invidual decision tree model from sklearn)\n",
    "6.\tTrain the random forest model\n",
    "7.\tTest the random forest model\n",
    "8.\tTrain and test the random forest model using sklearn.\n",
    "9.\tCompare the performance of both the models\n",
    "\n",
    "##Useful links:\n",
    "https://machinelearningmastery.com/implement-random-forest-scratch-python/\n",
    "\n",
    "https://towardsdatascience.com/random-forests-and-decision-trees-from-scratch-in-python-3e4fa5ae4249\n",
    "\n",
    "https://www.analyticsvidhya.com/blog/2018/12/building-a-random-forest-from-scratch-understanding-real-world-data-products-ml-for-programmers-part-3/"
   ]
  },
  {
   "cell_type": "markdown",
   "metadata": {
    "id": "W-FoSpD3QDP4"
   },
   "source": [
    "# Part 1: Random Forest from scratch\n",
    "\n",
    "Random forests are an ensemble learning method for classification and regression that operate by constructing multiple decision trees at training time and outputting the class that is the mode of the classes (classification) or mean prediction (regression) of the individual trees."
   ]
  },
  {
   "cell_type": "code",
   "execution_count": 1,
   "metadata": {
    "id": "4q0F2HVFPl0R"
   },
   "outputs": [],
   "source": [
    "# Load the libraries\n",
    "import seaborn as sns\n",
    "import pandas as pd\n",
    "import numpy as np\n",
    "import matplotlib.pyplot as plt\n",
    "import scipy.stats\n",
    "from sklearn import preprocessing\n",
    "import pandas as pd\n",
    "import scipy.stats\n",
    "from sklearn.feature_selection import SelectKBest\n",
    "from scipy.stats import chi2 \n",
    "from sklearn.feature_selection import f_classif\n",
    "from sklearn.model_selection import train_test_split\n",
    "from sklearn.feature_selection import RFE\n",
    "from sklearn.linear_model import LogisticRegression\n",
    "from sklearn.linear_model import LogisticRegression,SGDClassifier, RidgeClassifier\n",
    "from sklearn.tree import DecisionTreeClassifier\n",
    "from sklearn.feature_selection import RFE\n",
    "from sklearn.feature_selection import RFECV\n",
    "from sklearn.feature_selection import SelectKBest, chi2\n",
    "from sklearn.metrics import accuracy_score, f1_score\n",
    "from sklearn.metrics import f1_score,confusion_matrix\n",
    "from sklearn.model_selection import train_test_split\n",
    "from sklearn.linear_model import LogisticRegression\n"
   ]
  },
  {
   "cell_type": "code",
   "execution_count": 2,
   "metadata": {
    "colab": {
     "base_uri": "https://localhost:8080/",
     "height": 363
    },
    "id": "VACehGfwPoAg",
    "outputId": "dba614b5-3b1d-4f0b-e1cf-95606311677e"
   },
   "outputs": [
    {
     "data": {
      "text/html": [
       "<div>\n",
       "<style scoped>\n",
       "    .dataframe tbody tr th:only-of-type {\n",
       "        vertical-align: middle;\n",
       "    }\n",
       "\n",
       "    .dataframe tbody tr th {\n",
       "        vertical-align: top;\n",
       "    }\n",
       "\n",
       "    .dataframe thead th {\n",
       "        text-align: right;\n",
       "    }\n",
       "</style>\n",
       "<table border=\"1\" class=\"dataframe\">\n",
       "  <thead>\n",
       "    <tr style=\"text-align: right;\">\n",
       "      <th></th>\n",
       "      <th>compactness</th>\n",
       "      <th>circularity</th>\n",
       "      <th>distance_circularity</th>\n",
       "      <th>radius_ratio</th>\n",
       "      <th>pr.axis_aspect_ratio</th>\n",
       "      <th>max.length_aspect_ratio</th>\n",
       "      <th>scatter_ratio</th>\n",
       "      <th>elongatedness</th>\n",
       "      <th>pr.axis_rectangularity</th>\n",
       "      <th>max.length_rectangularity</th>\n",
       "      <th>scaled_variance</th>\n",
       "      <th>scaled_variance.1</th>\n",
       "      <th>scaled_radius_of_gyration</th>\n",
       "      <th>scaled_radius_of_gyration.1</th>\n",
       "      <th>skewness_about</th>\n",
       "      <th>skewness_about.1</th>\n",
       "      <th>skewness_about.2</th>\n",
       "      <th>hollows_ratio</th>\n",
       "      <th>class</th>\n",
       "    </tr>\n",
       "  </thead>\n",
       "  <tbody>\n",
       "    <tr>\n",
       "      <th>0</th>\n",
       "      <td>95</td>\n",
       "      <td>48.0</td>\n",
       "      <td>83.0</td>\n",
       "      <td>178.0</td>\n",
       "      <td>72.0</td>\n",
       "      <td>10</td>\n",
       "      <td>162.0</td>\n",
       "      <td>42.0</td>\n",
       "      <td>20.0</td>\n",
       "      <td>159</td>\n",
       "      <td>176.0</td>\n",
       "      <td>379.0</td>\n",
       "      <td>184.0</td>\n",
       "      <td>70.0</td>\n",
       "      <td>6.0</td>\n",
       "      <td>16.0</td>\n",
       "      <td>187.0</td>\n",
       "      <td>197</td>\n",
       "      <td>van</td>\n",
       "    </tr>\n",
       "    <tr>\n",
       "      <th>1</th>\n",
       "      <td>91</td>\n",
       "      <td>41.0</td>\n",
       "      <td>84.0</td>\n",
       "      <td>141.0</td>\n",
       "      <td>57.0</td>\n",
       "      <td>9</td>\n",
       "      <td>149.0</td>\n",
       "      <td>45.0</td>\n",
       "      <td>19.0</td>\n",
       "      <td>143</td>\n",
       "      <td>170.0</td>\n",
       "      <td>330.0</td>\n",
       "      <td>158.0</td>\n",
       "      <td>72.0</td>\n",
       "      <td>9.0</td>\n",
       "      <td>14.0</td>\n",
       "      <td>189.0</td>\n",
       "      <td>199</td>\n",
       "      <td>van</td>\n",
       "    </tr>\n",
       "    <tr>\n",
       "      <th>2</th>\n",
       "      <td>104</td>\n",
       "      <td>50.0</td>\n",
       "      <td>106.0</td>\n",
       "      <td>209.0</td>\n",
       "      <td>66.0</td>\n",
       "      <td>10</td>\n",
       "      <td>207.0</td>\n",
       "      <td>32.0</td>\n",
       "      <td>23.0</td>\n",
       "      <td>158</td>\n",
       "      <td>223.0</td>\n",
       "      <td>635.0</td>\n",
       "      <td>220.0</td>\n",
       "      <td>73.0</td>\n",
       "      <td>14.0</td>\n",
       "      <td>9.0</td>\n",
       "      <td>188.0</td>\n",
       "      <td>196</td>\n",
       "      <td>car</td>\n",
       "    </tr>\n",
       "    <tr>\n",
       "      <th>3</th>\n",
       "      <td>93</td>\n",
       "      <td>41.0</td>\n",
       "      <td>82.0</td>\n",
       "      <td>159.0</td>\n",
       "      <td>63.0</td>\n",
       "      <td>9</td>\n",
       "      <td>144.0</td>\n",
       "      <td>46.0</td>\n",
       "      <td>19.0</td>\n",
       "      <td>143</td>\n",
       "      <td>160.0</td>\n",
       "      <td>309.0</td>\n",
       "      <td>127.0</td>\n",
       "      <td>63.0</td>\n",
       "      <td>6.0</td>\n",
       "      <td>10.0</td>\n",
       "      <td>199.0</td>\n",
       "      <td>207</td>\n",
       "      <td>van</td>\n",
       "    </tr>\n",
       "    <tr>\n",
       "      <th>4</th>\n",
       "      <td>85</td>\n",
       "      <td>44.0</td>\n",
       "      <td>70.0</td>\n",
       "      <td>205.0</td>\n",
       "      <td>103.0</td>\n",
       "      <td>52</td>\n",
       "      <td>149.0</td>\n",
       "      <td>45.0</td>\n",
       "      <td>19.0</td>\n",
       "      <td>144</td>\n",
       "      <td>241.0</td>\n",
       "      <td>325.0</td>\n",
       "      <td>188.0</td>\n",
       "      <td>127.0</td>\n",
       "      <td>9.0</td>\n",
       "      <td>11.0</td>\n",
       "      <td>180.0</td>\n",
       "      <td>183</td>\n",
       "      <td>bus</td>\n",
       "    </tr>\n",
       "    <tr>\n",
       "      <th>5</th>\n",
       "      <td>107</td>\n",
       "      <td>NaN</td>\n",
       "      <td>106.0</td>\n",
       "      <td>172.0</td>\n",
       "      <td>50.0</td>\n",
       "      <td>6</td>\n",
       "      <td>255.0</td>\n",
       "      <td>26.0</td>\n",
       "      <td>28.0</td>\n",
       "      <td>169</td>\n",
       "      <td>280.0</td>\n",
       "      <td>957.0</td>\n",
       "      <td>264.0</td>\n",
       "      <td>85.0</td>\n",
       "      <td>5.0</td>\n",
       "      <td>9.0</td>\n",
       "      <td>181.0</td>\n",
       "      <td>183</td>\n",
       "      <td>bus</td>\n",
       "    </tr>\n",
       "    <tr>\n",
       "      <th>6</th>\n",
       "      <td>97</td>\n",
       "      <td>43.0</td>\n",
       "      <td>73.0</td>\n",
       "      <td>173.0</td>\n",
       "      <td>65.0</td>\n",
       "      <td>6</td>\n",
       "      <td>153.0</td>\n",
       "      <td>42.0</td>\n",
       "      <td>19.0</td>\n",
       "      <td>143</td>\n",
       "      <td>176.0</td>\n",
       "      <td>361.0</td>\n",
       "      <td>172.0</td>\n",
       "      <td>66.0</td>\n",
       "      <td>13.0</td>\n",
       "      <td>1.0</td>\n",
       "      <td>200.0</td>\n",
       "      <td>204</td>\n",
       "      <td>bus</td>\n",
       "    </tr>\n",
       "    <tr>\n",
       "      <th>7</th>\n",
       "      <td>90</td>\n",
       "      <td>43.0</td>\n",
       "      <td>66.0</td>\n",
       "      <td>157.0</td>\n",
       "      <td>65.0</td>\n",
       "      <td>9</td>\n",
       "      <td>137.0</td>\n",
       "      <td>48.0</td>\n",
       "      <td>18.0</td>\n",
       "      <td>146</td>\n",
       "      <td>162.0</td>\n",
       "      <td>281.0</td>\n",
       "      <td>164.0</td>\n",
       "      <td>67.0</td>\n",
       "      <td>3.0</td>\n",
       "      <td>3.0</td>\n",
       "      <td>193.0</td>\n",
       "      <td>202</td>\n",
       "      <td>van</td>\n",
       "    </tr>\n",
       "    <tr>\n",
       "      <th>8</th>\n",
       "      <td>86</td>\n",
       "      <td>34.0</td>\n",
       "      <td>62.0</td>\n",
       "      <td>140.0</td>\n",
       "      <td>61.0</td>\n",
       "      <td>7</td>\n",
       "      <td>122.0</td>\n",
       "      <td>54.0</td>\n",
       "      <td>17.0</td>\n",
       "      <td>127</td>\n",
       "      <td>141.0</td>\n",
       "      <td>223.0</td>\n",
       "      <td>112.0</td>\n",
       "      <td>64.0</td>\n",
       "      <td>2.0</td>\n",
       "      <td>14.0</td>\n",
       "      <td>200.0</td>\n",
       "      <td>208</td>\n",
       "      <td>van</td>\n",
       "    </tr>\n",
       "    <tr>\n",
       "      <th>9</th>\n",
       "      <td>93</td>\n",
       "      <td>44.0</td>\n",
       "      <td>98.0</td>\n",
       "      <td>NaN</td>\n",
       "      <td>62.0</td>\n",
       "      <td>11</td>\n",
       "      <td>183.0</td>\n",
       "      <td>36.0</td>\n",
       "      <td>22.0</td>\n",
       "      <td>146</td>\n",
       "      <td>202.0</td>\n",
       "      <td>505.0</td>\n",
       "      <td>152.0</td>\n",
       "      <td>64.0</td>\n",
       "      <td>4.0</td>\n",
       "      <td>14.0</td>\n",
       "      <td>195.0</td>\n",
       "      <td>204</td>\n",
       "      <td>car</td>\n",
       "    </tr>\n",
       "  </tbody>\n",
       "</table>\n",
       "</div>"
      ],
      "text/plain": [
       "   compactness  circularity  distance_circularity  radius_ratio  \\\n",
       "0           95         48.0                  83.0         178.0   \n",
       "1           91         41.0                  84.0         141.0   \n",
       "2          104         50.0                 106.0         209.0   \n",
       "3           93         41.0                  82.0         159.0   \n",
       "4           85         44.0                  70.0         205.0   \n",
       "5          107          NaN                 106.0         172.0   \n",
       "6           97         43.0                  73.0         173.0   \n",
       "7           90         43.0                  66.0         157.0   \n",
       "8           86         34.0                  62.0         140.0   \n",
       "9           93         44.0                  98.0           NaN   \n",
       "\n",
       "   pr.axis_aspect_ratio  max.length_aspect_ratio  scatter_ratio  \\\n",
       "0                  72.0                       10          162.0   \n",
       "1                  57.0                        9          149.0   \n",
       "2                  66.0                       10          207.0   \n",
       "3                  63.0                        9          144.0   \n",
       "4                 103.0                       52          149.0   \n",
       "5                  50.0                        6          255.0   \n",
       "6                  65.0                        6          153.0   \n",
       "7                  65.0                        9          137.0   \n",
       "8                  61.0                        7          122.0   \n",
       "9                  62.0                       11          183.0   \n",
       "\n",
       "   elongatedness  pr.axis_rectangularity  max.length_rectangularity  \\\n",
       "0           42.0                    20.0                        159   \n",
       "1           45.0                    19.0                        143   \n",
       "2           32.0                    23.0                        158   \n",
       "3           46.0                    19.0                        143   \n",
       "4           45.0                    19.0                        144   \n",
       "5           26.0                    28.0                        169   \n",
       "6           42.0                    19.0                        143   \n",
       "7           48.0                    18.0                        146   \n",
       "8           54.0                    17.0                        127   \n",
       "9           36.0                    22.0                        146   \n",
       "\n",
       "   scaled_variance  scaled_variance.1  scaled_radius_of_gyration  \\\n",
       "0            176.0              379.0                      184.0   \n",
       "1            170.0              330.0                      158.0   \n",
       "2            223.0              635.0                      220.0   \n",
       "3            160.0              309.0                      127.0   \n",
       "4            241.0              325.0                      188.0   \n",
       "5            280.0              957.0                      264.0   \n",
       "6            176.0              361.0                      172.0   \n",
       "7            162.0              281.0                      164.0   \n",
       "8            141.0              223.0                      112.0   \n",
       "9            202.0              505.0                      152.0   \n",
       "\n",
       "   scaled_radius_of_gyration.1  skewness_about  skewness_about.1  \\\n",
       "0                         70.0             6.0              16.0   \n",
       "1                         72.0             9.0              14.0   \n",
       "2                         73.0            14.0               9.0   \n",
       "3                         63.0             6.0              10.0   \n",
       "4                        127.0             9.0              11.0   \n",
       "5                         85.0             5.0               9.0   \n",
       "6                         66.0            13.0               1.0   \n",
       "7                         67.0             3.0               3.0   \n",
       "8                         64.0             2.0              14.0   \n",
       "9                         64.0             4.0              14.0   \n",
       "\n",
       "   skewness_about.2  hollows_ratio class  \n",
       "0             187.0            197   van  \n",
       "1             189.0            199   van  \n",
       "2             188.0            196   car  \n",
       "3             199.0            207   van  \n",
       "4             180.0            183   bus  \n",
       "5             181.0            183   bus  \n",
       "6             200.0            204   bus  \n",
       "7             193.0            202   van  \n",
       "8             200.0            208   van  \n",
       "9             195.0            204   car  "
      ]
     },
     "execution_count": 2,
     "metadata": {},
     "output_type": "execute_result"
    }
   ],
   "source": [
    "# Load the dataset \n",
    "data=pd.read_csv(\"vehicle.csv\")\n",
    "data.head(10)"
   ]
  },
  {
   "cell_type": "code",
   "execution_count": 3,
   "metadata": {
    "colab": {
     "base_uri": "https://localhost:8080/",
     "height": 420
    },
    "id": "fcGxjn90mlLO",
    "outputId": "37f6e9c6-b3aa-4269-8f21-a865f6a50574"
   },
   "outputs": [
    {
     "name": "stdout",
     "output_type": "stream",
     "text": [
      "<class 'pandas.core.frame.DataFrame'>\n",
      "RangeIndex: 846 entries, 0 to 845\n",
      "Data columns (total 19 columns):\n",
      " #   Column                       Non-Null Count  Dtype  \n",
      "---  ------                       --------------  -----  \n",
      " 0   compactness                  846 non-null    int64  \n",
      " 1   circularity                  841 non-null    float64\n",
      " 2   distance_circularity         842 non-null    float64\n",
      " 3   radius_ratio                 840 non-null    float64\n",
      " 4   pr.axis_aspect_ratio         844 non-null    float64\n",
      " 5   max.length_aspect_ratio      846 non-null    int64  \n",
      " 6   scatter_ratio                845 non-null    float64\n",
      " 7   elongatedness                845 non-null    float64\n",
      " 8   pr.axis_rectangularity       843 non-null    float64\n",
      " 9   max.length_rectangularity    846 non-null    int64  \n",
      " 10  scaled_variance              843 non-null    float64\n",
      " 11  scaled_variance.1            844 non-null    float64\n",
      " 12  scaled_radius_of_gyration    844 non-null    float64\n",
      " 13  scaled_radius_of_gyration.1  842 non-null    float64\n",
      " 14  skewness_about               840 non-null    float64\n",
      " 15  skewness_about.1             845 non-null    float64\n",
      " 16  skewness_about.2             845 non-null    float64\n",
      " 17  hollows_ratio                846 non-null    int64  \n",
      " 18  class                        846 non-null    object \n",
      "dtypes: float64(14), int64(4), object(1)\n",
      "memory usage: 125.7+ KB\n"
     ]
    }
   ],
   "source": [
    "data.info()"
   ]
  },
  {
   "cell_type": "code",
   "execution_count": 4,
   "metadata": {
    "colab": {
     "base_uri": "https://localhost:8080/",
     "height": 353
    },
    "id": "GCTG3p6vnPh_",
    "outputId": "f4a0058c-509b-4c95-ecd6-a197a0d232e7"
   },
   "outputs": [
    {
     "data": {
      "text/plain": [
       "compactness                    0\n",
       "circularity                    5\n",
       "distance_circularity           4\n",
       "radius_ratio                   6\n",
       "pr.axis_aspect_ratio           2\n",
       "max.length_aspect_ratio        0\n",
       "scatter_ratio                  1\n",
       "elongatedness                  1\n",
       "pr.axis_rectangularity         3\n",
       "max.length_rectangularity      0\n",
       "scaled_variance                3\n",
       "scaled_variance.1              2\n",
       "scaled_radius_of_gyration      2\n",
       "scaled_radius_of_gyration.1    4\n",
       "skewness_about                 6\n",
       "skewness_about.1               1\n",
       "skewness_about.2               1\n",
       "hollows_ratio                  0\n",
       "class                          0\n",
       "dtype: int64"
      ]
     },
     "execution_count": 4,
     "metadata": {},
     "output_type": "execute_result"
    }
   ],
   "source": [
    "#Check null values\n",
    "data.isnull().sum()"
   ]
  },
  {
   "cell_type": "code",
   "execution_count": 5,
   "metadata": {
    "id": "eVqNy02F96Ia"
   },
   "outputs": [],
   "source": [
    "from sklearn.preprocessing import LabelEncoder\n",
    "le = LabelEncoder()\n",
    "cols = ['class']\n",
    "data[cols[0:]] = data[cols[0:]].apply(lambda col: le.fit_transform(col))\n"
   ]
  },
  {
   "cell_type": "code",
   "execution_count": 6,
   "metadata": {
    "id": "S47gOYRhPqKF"
   },
   "outputs": [],
   "source": [
    "# Preprocessing\n",
    "# Encoding categorical variables (if any)\n",
    "# Feature Scaling\n",
    "# Filling missing values (if any)\n",
    "from sklearn.preprocessing import MinMaxScaler\n",
    "columns = data.columns\n",
    "mms = MinMaxScaler()\n",
    "data[columns[:-1]] = mms.fit_transform(data[columns[:-1]])\n"
   ]
  },
  {
   "cell_type": "code",
   "execution_count": 7,
   "metadata": {
    "id": "noWaQzTNnf4H"
   },
   "outputs": [],
   "source": [
    "data = data.fillna(0)"
   ]
  },
  {
   "cell_type": "code",
   "execution_count": 8,
   "metadata": {
    "colab": {
     "base_uri": "https://localhost:8080/",
     "height": 353
    },
    "id": "sK00EUPM8-cW",
    "outputId": "3cdf2ba8-984d-4655-8f83-0c75fdde96a9"
   },
   "outputs": [
    {
     "data": {
      "text/plain": [
       "compactness                    0\n",
       "circularity                    0\n",
       "distance_circularity           0\n",
       "radius_ratio                   0\n",
       "pr.axis_aspect_ratio           0\n",
       "max.length_aspect_ratio        0\n",
       "scatter_ratio                  0\n",
       "elongatedness                  0\n",
       "pr.axis_rectangularity         0\n",
       "max.length_rectangularity      0\n",
       "scaled_variance                0\n",
       "scaled_variance.1              0\n",
       "scaled_radius_of_gyration      0\n",
       "scaled_radius_of_gyration.1    0\n",
       "skewness_about                 0\n",
       "skewness_about.1               0\n",
       "skewness_about.2               0\n",
       "hollows_ratio                  0\n",
       "class                          0\n",
       "dtype: int64"
      ]
     },
     "execution_count": 8,
     "metadata": {},
     "output_type": "execute_result"
    }
   ],
   "source": [
    "#checking if still there is a missing value\n",
    "data.isnull().sum()"
   ]
  },
  {
   "cell_type": "code",
   "execution_count": 9,
   "metadata": {
    "id": "SVADEBhsn1vI"
   },
   "outputs": [],
   "source": [
    "X = data.iloc[:,:-1]\n",
    "y = data.iloc[:,-1]"
   ]
  },
  {
   "cell_type": "code",
   "execution_count": 10,
   "metadata": {
    "id": "ywJGz-VZP2R9"
   },
   "outputs": [],
   "source": [
    "# Divide the dataset to training and testing set\n",
    "from sklearn.model_selection import train_test_split\n",
    "X_train, X_test, y_train, y_test = train_test_split(X,y , test_size=0.30, random_state=0)\n"
   ]
  },
  {
   "cell_type": "code",
   "execution_count": 11,
   "metadata": {
    "colab": {
     "base_uri": "https://localhost:8080/",
     "height": 84
    },
    "id": "2jeV19maoTOo",
    "outputId": "b24117a9-4c68-418b-cf11-19d5a5c22012"
   },
   "outputs": [
    {
     "name": "stdout",
     "output_type": "stream",
     "text": [
      "(592, 18)\n",
      "(254, 18)\n",
      "(592,)\n",
      "(254,)\n"
     ]
    }
   ],
   "source": [
    "print(X_train.shape)\n",
    "print(X_test.shape)\n",
    "print(y_train.shape)\n",
    "print(y_test.shape)"
   ]
  },
  {
   "cell_type": "code",
   "execution_count": 12,
   "metadata": {
    "id": "hu9YAA53YxPG"
   },
   "outputs": [],
   "source": [
    "# Randomly choose the features from training set and build decision tree\n",
    "# Randomness in the features will help us to achieve different DTrees every time\n",
    "# You can keep minimum number of random features every time so that trees will have sufficient features\n",
    "# Note: You can use builtin function for DT training using Sklearn\n",
    "\n",
    "import random\n",
    "def random_features(X_train, l):\n",
    "  orig_features = list(X_train.columns)\n",
    "  random_features = random.sample(orig_features,k=l)\n",
    "  \n",
    "  return random_features"
   ]
  },
  {
   "cell_type": "code",
   "execution_count": null,
   "metadata": {
    "colab": {
     "base_uri": "https://localhost:8080/",
     "height": 50
    },
    "id": "22bKlgbZYxPQ",
    "outputId": "cd90e75a-7625-43c6-bc07-b7add2c3cc7d"
   },
   "outputs": [],
   "source": [
    "# Train N number of decision trees using random feature selection strategy\n",
    "# Number of trees N can be user input\n",
    "n = int(input(\"Enter the number of trees\"))\n",
    "len = int(input(\"Enter the minimum features you want\"))\n",
    "trees = []\n",
    "feature = []\n",
    "for i in range(n):\n",
    "  features = random_features(X_train,len+i)\n",
    "  feature.append(features)\n",
    "  clf = DecisionTreeClassifier()\n",
    "  clf.fit(X_train[features].values.astype('float'), y_train.values.astype('float'))\n",
    "  trees.append(clf)\n",
    "\n"
   ]
  },
  {
   "cell_type": "code",
   "execution_count": 27,
   "metadata": {
    "colab": {
     "base_uri": "https://localhost:8080/",
     "height": 857
    },
    "id": "c_a0shfS-Fpj",
    "outputId": "0458a6e9-bb61-4332-ad07-c041341bdc02"
   },
   "outputs": [
    {
     "data": {
      "text/plain": [
       "[['scaled_variance',\n",
       "  'max.length_rectangularity',\n",
       "  'radius_ratio',\n",
       "  'elongatedness',\n",
       "  'scaled_radius_of_gyration.1',\n",
       "  'skewness_about',\n",
       "  'skewness_about.2',\n",
       "  'compactness'],\n",
       " ['max.length_rectangularity',\n",
       "  'skewness_about',\n",
       "  'distance_circularity',\n",
       "  'scaled_variance.1',\n",
       "  'pr.axis_rectangularity',\n",
       "  'circularity',\n",
       "  'pr.axis_aspect_ratio',\n",
       "  'radius_ratio',\n",
       "  'elongatedness'],\n",
       " ['compactness',\n",
       "  'scaled_radius_of_gyration.1',\n",
       "  'distance_circularity',\n",
       "  'max.length_rectangularity',\n",
       "  'hollows_ratio',\n",
       "  'max.length_aspect_ratio',\n",
       "  'skewness_about',\n",
       "  'scatter_ratio',\n",
       "  'radius_ratio',\n",
       "  'skewness_about.1'],\n",
       " ['skewness_about.1',\n",
       "  'scaled_variance',\n",
       "  'skewness_about.2',\n",
       "  'circularity',\n",
       "  'distance_circularity',\n",
       "  'pr.axis_rectangularity',\n",
       "  'scaled_radius_of_gyration.1',\n",
       "  'hollows_ratio',\n",
       "  'pr.axis_aspect_ratio',\n",
       "  'max.length_rectangularity',\n",
       "  'elongatedness'],\n",
       " ['compactness',\n",
       "  'max.length_aspect_ratio',\n",
       "  'pr.axis_rectangularity',\n",
       "  'scaled_variance.1',\n",
       "  'scaled_variance',\n",
       "  'max.length_rectangularity',\n",
       "  'distance_circularity',\n",
       "  'scaled_radius_of_gyration.1',\n",
       "  'pr.axis_aspect_ratio',\n",
       "  'skewness_about.1',\n",
       "  'skewness_about.2',\n",
       "  'circularity']]"
      ]
     },
     "execution_count": 27,
     "metadata": {
      "tags": []
     },
     "output_type": "execute_result"
    }
   ],
   "source": [
    "feature"
   ]
  },
  {
   "cell_type": "code",
   "execution_count": 28,
   "metadata": {
    "id": "DXBsseNEYxPX"
   },
   "outputs": [],
   "source": [
    "# Apply different voting mechanisms such as \n",
    "# max voting/average voting/weighted average voting (using accuracy as weightage)\n",
    "# Perform the ensembling for the training set.\n",
    "from sklearn.metrics import precision_recall_fscore_support"
   ]
  },
  {
   "cell_type": "code",
   "execution_count": 29,
   "metadata": {
    "id": "nFEQjBB3RBpM"
   },
   "outputs": [],
   "source": [
    "# Apply invidual trees trained on the testingset\n",
    "# Note: You should've saved the feature sets used for training invidual trees,\n",
    "# so that same features can be chosen in testing set\n",
    "\n",
    "# Get predictions on testing set\n",
    "accu = []\n",
    "prec = []\n",
    "rec = []\n",
    "fs = []\n",
    "i=0\n",
    "for clf in trees:\n",
    "  features = feature[i]\n",
    "  i+=1\n",
    "  predictions = clf.predict(X_test[features].values)\n",
    "  \n",
    "  y_pred= []\n",
    "  for row_number in range(predictions.shape[0]):\n",
    "      y_pred.append(np.mean(predictions[row_number, ]))\n",
    "  y_pred = np.array(y_pred)\n",
    "  acc = clf.score(X_test[features].values,y_test.values)\n",
    "  # arr = y_pred - y_test.values\n",
    "  # accuracy = np.count_nonzero(arr==0)/(y_pred.shape[0])\n",
    "  accu.append(acc)\n",
    "  precision, recall, fscore, _ = precision_recall_fscore_support(y_test, y_pred,beta=1.0)\n",
    "  prec.append(np.mean(precision))\n",
    "  rec.append(np.mean(recall))\n",
    "  fs.append(np.mean(fscore))"
   ]
  },
  {
   "cell_type": "code",
   "execution_count": 30,
   "metadata": {
    "colab": {
     "base_uri": "https://localhost:8080/",
     "height": 1000
    },
    "id": "m2qQ84BJRcNP",
    "outputId": "616dc07f-181a-48ef-bb45-fade1ea9597b"
   },
   "outputs": [
    {
     "data": {
      "image/png": "[encoded data removed]",
      "text/plain": [
       "<Figure size 432x288 with 1 Axes>"
      ]
     },
     "metadata": {
      "needs_background": "light",
      "tags": []
     },
     "output_type": "display_data"
    },
    {
     "data": {
      "image/png": "[encoded data removed]",
      "text/plain": [
       "<Figure size 432x288 with 1 Axes>"
      ]
     },
     "metadata": {
      "needs_background": "light",
      "tags": []
     },
     "output_type": "display_data"
    },
    {
     "data": {
      "image/png": "[encoded data removed]",
      "text/plain": [
       "<Figure size 432x288 with 1 Axes>"
      ]
     },
     "metadata": {
      "needs_background": "light",
      "tags": []
     },
     "output_type": "display_data"
    },
    {
     "data": {
      "image/png": "[encoded data removed]",
      "text/plain": [
       "<Figure size 432x288 with 1 Axes>"
      ]
     },
     "metadata": {
      "needs_background": "light",
      "tags": []
     },
     "output_type": "display_data"
    }
   ],
   "source": [
    "# Evaluate the results using accuracy, precision, recall and f-measure\n",
    "import matplotlib.pyplot as plt \n",
    "ntre = []\n",
    "for i in range(n):\n",
    "  ntre.append(i+1)\n",
    "plt.xlabel(\"Trees\") \n",
    "plt.ylabel(\"Training Accuracy\") \n",
    "plt.title(\"Training Acc v/s Trees\") \n",
    "# creating the bar plot \n",
    "plt.bar(ntre, accu) \n",
    "\n",
    "plt.show() \n",
    "\n",
    "plt.bar(ntre, prec ) \n",
    "  \n",
    "plt.xlabel(\"Trees\") \n",
    "plt.ylabel(\"Precision\") \n",
    "plt.title(\"Precision v/s Trees\") \n",
    "plt.show() \n",
    "\n",
    "plt.bar(ntre, rec ) \n",
    "  \n",
    "plt.xlabel(\"Trees\") \n",
    "plt.ylabel(\"Recall\") \n",
    "plt.title(\"Recall v/s Trees\") \n",
    "plt.show() \n",
    "\n",
    "plt.bar(ntre, fs ) \n",
    "  \n",
    "plt.xlabel(\"Trees\") \n",
    "plt.ylabel(\"F-Measure\") \n",
    "plt.title(\"F-Measure v/s Trees\") \n",
    "plt.show() \n"
   ]
  },
  {
   "cell_type": "code",
   "execution_count": 31,
   "metadata": {
    "id": "CnDIgqsy-YZT"
   },
   "outputs": [],
   "source": [
    "accu = []\n",
    "prec = []\n",
    "rec = []\n",
    "fs = []\n",
    "i=0\n",
    "for clf in trees:\n",
    "  features = feature[i]\n",
    "  i+=1\n",
    "  predictions = clf.predict(X_test[features].values)\n",
    "  \n",
    "  y_pred= []\n",
    "  weights = clf.score(X_test[features].values,predictions)\n",
    "  for row_number in range(predictions.shape[0]):\n",
    "      y_pred.append(np.mean(predictions[row_number, ]*weights))\n",
    "  y_pred = np.array(y_pred)\n",
    "  acc = clf.score(X_test[features].values,y_test.values)\n",
    "  # arr = y_pred - y_test.values\n",
    "  # accuracy = np.count_nonzero(arr==0)/(y_pred.shape[0])\n",
    "  accu.append(acc)\n",
    "  precision, recall, fscore, _ = precision_recall_fscore_support(y_test, y_pred,beta=1.0)\n",
    "  prec.append(np.mean(precision))\n",
    "  rec.append(np.mean(recall))\n",
    "  fs.append(np.mean(fscore))"
   ]
  },
  {
   "cell_type": "code",
   "execution_count": 32,
   "metadata": {
    "colab": {
     "base_uri": "https://localhost:8080/",
     "height": 1000
    },
    "id": "jkCN-7l7-ce_",
    "outputId": "74d47029-ba5d-4607-c601-43cd9840cb16"
   },
   "outputs": [
    {
     "data": {
      "image/png": "[encoded data removed]",
      "text/plain": [
       "<Figure size 432x288 with 1 Axes>"
      ]
     },
     "metadata": {
      "needs_background": "light",
      "tags": []
     },
     "output_type": "display_data"
    },
    {
     "data": {
      "image/png": "[encoded data removed]",
      "text/plain": [
       "<Figure size 432x288 with 1 Axes>"
      ]
     },
     "metadata": {
      "needs_background": "light",
      "tags": []
     },
     "output_type": "display_data"
    },
    {
     "data": {
      "image/png": "[encoded data removed]",
      "text/plain": [
       "<Figure size 432x288 with 1 Axes>"
      ]
     },
     "metadata": {
      "needs_background": "light",
      "tags": []
     },
     "output_type": "display_data"
    },
    {
     "data": {
      "image/png": "[encoded data removed]",
      "text/plain": [
       "<Figure size 432x288 with 1 Axes>"
      ]
     },
     "metadata": {
      "needs_background": "light",
      "tags": []
     },
     "output_type": "display_data"
    }
   ],
   "source": [
    "##For weighted Averaging\n",
    "\n",
    "# Evaluate the results using accuracy, precision, recall and f-measure\n",
    "import matplotlib.pyplot as plt \n",
    "ntre = []\n",
    "for i in range(n):\n",
    "  ntre.append(i+1)\n",
    "plt.xlabel(\"Trees\") \n",
    "plt.ylabel(\"Training Accuracy\") \n",
    "plt.title(\"Training Acc v/s Trees\") \n",
    "# creating the bar plot \n",
    "plt.bar(ntre, accu) \n",
    "\n",
    "plt.show() \n",
    "\n",
    "plt.bar(ntre, prec ) \n",
    "  \n",
    "plt.xlabel(\"Trees\") \n",
    "plt.ylabel(\"Precision\") \n",
    "plt.title(\"Precision v/s Trees\") \n",
    "plt.show() \n",
    "\n",
    "plt.bar(ntre, rec ) \n",
    "  \n",
    "plt.xlabel(\"Trees\") \n",
    "plt.ylabel(\"Recall\") \n",
    "plt.title(\"Recall v/s Trees\") \n",
    "plt.show() \n",
    "\n",
    "plt.bar(ntre, fs ) \n",
    "  \n",
    "plt.xlabel(\"Trees\") \n",
    "plt.ylabel(\"F-Measure\") \n",
    "plt.title(\"F-Measure v/s Trees\") \n",
    "plt.show() \n"
   ]
  },
  {
   "cell_type": "code",
   "execution_count": null,
   "metadata": {
    "id": "z_-xfr-CRoDa"
   },
   "outputs": [],
   "source": [
    "# Compare different voting mechanisms and their accuracies\n",
    "\n"
   ]
  },
  {
   "cell_type": "code",
   "execution_count": null,
   "metadata": {
    "id": "V2UXYktmRryu"
   },
   "outputs": [],
   "source": [
    "# Compare the Random forest models with different number of trees N\n",
    "\n"
   ]
  },
  {
   "cell_type": "code",
   "execution_count": null,
   "metadata": {
    "id": "_grD0B0qRwOI"
   },
   "outputs": [],
   "source": [
    "# Compare different values for minimum number of features needed for individual trees\n",
    "\n",
    "\n"
   ]
  },
  {
   "cell_type": "markdown",
   "metadata": {
    "id": "QGVYWKUcRnhA"
   },
   "source": [
    "## Part 2: Random Forest using Sklearn"
   ]
  },
  {
   "cell_type": "code",
   "execution_count": 33,
   "metadata": {
    "id": "7vJ02XgwRm-O"
   },
   "outputs": [],
   "source": [
    "# Use the preprocessed dataset here\n",
    "\n",
    "X = data.iloc[:,:-1].values\n",
    "y = data.iloc[:,-1].values\n",
    "# Divide the dataset to training and testing set\n",
    "X_train, X_test, y_train, y_test = train_test_split(X,y , test_size=0.30, random_state=0)"
   ]
  },
  {
   "cell_type": "code",
   "execution_count": 34,
   "metadata": {
    "colab": {
     "base_uri": "https://localhost:8080/",
     "height": 118
    },
    "id": "mHEEc7BrSDG0",
    "outputId": "c98add9a-c51d-4621-f7d2-2f0762e2d06d"
   },
   "outputs": [
    {
     "data": {
      "text/plain": [
       "RandomForestClassifier(bootstrap=True, class_weight=None, criterion='gini',\n",
       "            max_depth=2, max_features='auto', max_leaf_nodes=None,\n",
       "            min_impurity_decrease=0.0, min_impurity_split=None,\n",
       "            min_samples_leaf=1, min_samples_split=2,\n",
       "            min_weight_fraction_leaf=0.0, n_estimators=1000, n_jobs=None,\n",
       "            oob_score=False, random_state=0, verbose=0, warm_start=False)"
      ]
     },
     "execution_count": 34,
     "metadata": {
      "tags": []
     },
     "output_type": "execute_result"
    }
   ],
   "source": [
    "# Train the Random Forest Model using builtin Sklearn Dataset\n",
    "from sklearn.ensemble import RandomForestClassifier\n",
    "from sklearn.datasets import make_classification\n",
    "clf = RandomForestClassifier(1000,max_depth=2, random_state=0)\n",
    "clf.fit(X_train,y_train)\n"
   ]
  },
  {
   "cell_type": "code",
   "execution_count": 35,
   "metadata": {
    "colab": {
     "base_uri": "https://localhost:8080/",
     "height": 34
    },
    "id": "I-YJEeqPSIk1",
    "outputId": "2e13f1a9-e0f6-4b0b-c155-9ed88f2c9b42"
   },
   "outputs": [
    {
     "name": "stdout",
     "output_type": "stream",
     "text": [
      "0.7874015748031497\n"
     ]
    }
   ],
   "source": [
    "# Test the model with testing set and print the accuracy, precision, recall and f-measure\n",
    "y_pred = clf.predict(X_test)\n",
    "acc = clf.score(X_test,y_test)\n",
    "print(acc)\n"
   ]
  },
  {
   "cell_type": "code",
   "execution_count": 36,
   "metadata": {
    "colab": {
     "base_uri": "https://localhost:8080/",
     "height": 118
    },
    "id": "qlwe8gonSVFd",
    "outputId": "ef46bb8d-dbed-42d0-b9ac-2a9401b5c717"
   },
   "outputs": [
    {
     "data": {
      "text/plain": [
       "RandomForestClassifier(bootstrap=True, class_weight=None, criterion='gini',\n",
       "            max_depth=5, max_features='auto', max_leaf_nodes=None,\n",
       "            min_impurity_decrease=0.0, min_impurity_split=None,\n",
       "            min_samples_leaf=1, min_samples_split=2,\n",
       "            min_weight_fraction_leaf=0.0, n_estimators=100, n_jobs=None,\n",
       "            oob_score=False, random_state=0, verbose=0, warm_start=False)"
      ]
     },
     "execution_count": 36,
     "metadata": {
      "tags": []
     },
     "output_type": "execute_result"
    }
   ],
   "source": [
    "# Play with parameters such as\n",
    "# number of decision trees\n",
    "# Criterion for splitting\n",
    "# Max depth\n",
    "# Minimum samples per split and leaf\n",
    "clf = RandomForestClassifier(100,max_depth=5, random_state=0)\n",
    "clf.fit(X_train,y_train)"
   ]
  },
  {
   "cell_type": "code",
   "execution_count": 37,
   "metadata": {
    "colab": {
     "base_uri": "https://localhost:8080/",
     "height": 34
    },
    "id": "-VU7NS5K-uqF",
    "outputId": "f9c2bd7f-c5b8-428e-bbfe-010134510314"
   },
   "outputs": [
    {
     "name": "stdout",
     "output_type": "stream",
     "text": [
      "0.9251968503937008\n"
     ]
    }
   ],
   "source": [
    "y_pred = clf.predict(X_test)\n",
    "acc = clf.score(X_test,y_test)\n",
    "print(acc)"
   ]
  },
  {
   "cell_type": "code",
   "execution_count": 38,
   "metadata": {
    "colab": {
     "base_uri": "https://localhost:8080/",
     "height": 118
    },
    "id": "bYf6kti4-xL0",
    "outputId": "7c22a398-0c3a-4038-adc9-bbbeb3234679"
   },
   "outputs": [
    {
     "data": {
      "text/plain": [
       "RandomForestClassifier(bootstrap=True, class_weight=None, criterion='gini',\n",
       "            max_depth=5, max_features='auto', max_leaf_nodes=None,\n",
       "            min_impurity_decrease=0.0, min_impurity_split=None,\n",
       "            min_samples_leaf=1, min_samples_split=2,\n",
       "            min_weight_fraction_leaf=0.0, n_estimators=1000, n_jobs=None,\n",
       "            oob_score=False, random_state=0, verbose=0, warm_start=False)"
      ]
     },
     "execution_count": 38,
     "metadata": {
      "tags": []
     },
     "output_type": "execute_result"
    }
   ],
   "source": [
    "clf = RandomForestClassifier(1000,max_depth=5, random_state=0)\n",
    "clf.fit(X_train,y_train)"
   ]
  },
  {
   "cell_type": "code",
   "execution_count": 39,
   "metadata": {
    "colab": {
     "base_uri": "https://localhost:8080/",
     "height": 34
    },
    "id": "33Al6v8D-zJN",
    "outputId": "5171835a-eba1-44b6-cab1-056885f32a1c"
   },
   "outputs": [
    {
     "name": "stdout",
     "output_type": "stream",
     "text": [
      "0.9330708661417323\n"
     ]
    }
   ],
   "source": [
    "y_pred = clf.predict(X_test)\n",
    "acc = clf.score(X_test,y_test)\n",
    "print(acc)"
   ]
  },
  {
   "cell_type": "markdown",
   "metadata": {
    "id": "O-VMYL1j-4g0"
   },
   "source": [
    " Kept the max depth same and increase the forest size and here results are good i am gettng more accuracy."
   ]
  },
  {
   "cell_type": "code",
   "execution_count": null,
   "metadata": {
    "id": "L54AW2WU-03D"
   },
   "outputs": [],
   "source": []
  }
 ],
 "metadata": {
  "colab": {
   "collapsed_sections": [],
   "name": "WEEK8_Task_1_RandomForest_from_scratch_E18CSE037.ipynb",
   "provenance": []
  },
  "kernelspec": {
   "display_name": "Python 3",
   "language": "python",
   "name": "python3"
  },
  "language_info": {
   "codemirror_mode": {
    "name": "ipython",
    "version": 3
   },
   "file_extension": ".py",
   "mimetype": "text/x-python",
   "name": "python",
   "nbconvert_exporter": "python",
   "pygments_lexer": "ipython3",
   "version": "3.7.6"
  }
 },
 "nbformat": 4,
 "nbformat_minor": 1
}
