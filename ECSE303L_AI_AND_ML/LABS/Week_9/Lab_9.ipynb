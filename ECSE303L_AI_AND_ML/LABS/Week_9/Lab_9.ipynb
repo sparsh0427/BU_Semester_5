{
  "nbformat": 4,
  "nbformat_minor": 0,
  "metadata": {
    "colab": {
      "name": "labaiml_E18CSE152.ipynb",
      "provenance": [],
      "collapsed_sections": []
    },
    "kernelspec": {
      "display_name": "Python 3",
      "language": "python",
      "name": "python3"
    },
    "language_info": {
      "codemirror_mode": {
        "name": "ipython",
        "version": 3
      },
      "file_extension": ".py",
      "mimetype": "text/x-python",
      "name": "python",
      "nbconvert_exporter": "python",
      "pygments_lexer": "ipython3",
      "version": "3.8.5"
    },
    "varInspector": {
      "cols": {
        "lenName": 16,
        "lenType": 16,
        "lenVar": 40
      },
      "kernels_config": {
        "python": {
          "delete_cmd_postfix": "",
          "delete_cmd_prefix": "del ",
          "library": "var_list.py",
          "varRefreshCmd": "print(var_dic_list())"
        },
        "r": {
          "delete_cmd_postfix": ") ",
          "delete_cmd_prefix": "rm(",
          "library": "var_list.r",
          "varRefreshCmd": "cat(var_dic_list()) "
        }
      },
      "types_to_exclude": [
        "module",
        "function",
        "builtin_function_or_method",
        "instance",
        "_Feature"
      ],
      "window_display": false
    }
  },
  "cells": [
    {
      "cell_type": "markdown",
      "metadata": {
        "id": "U_tcuiFmIToA"
      },
      "source": [
        "# Cardiotocography\n",
        "\n",
        "## Objective: To classify Cardiotocography dataset 10-class and 3-class problems, respectively. To experiment the influence of strategies such as,\n",
        "1. Feature Scaling\n",
        "2. Feature Selection\n",
        "3. Splitting of dataset and random seeds\n",
        "4. Cross validation\n",
        "\n",
        "# Dataset:\n",
        "2126 fetal cardiotocograms (CTGs) were automatically processed and the respective diagnostic features measured. The CTGs were also classified by three expert obstetricians and a consensus classification label assigned to each of them. Classification was both with respect to a morphologic pattern (A, B, C. …) and to a fetal state (N, S, P). Therefore, the dataset can be used either for 10-class or 3-class experiments.\n",
        "\n",
        "# Attribute Information:\n",
        "1.\tLB - FHR baseline (beats per minute)\n",
        "2.\tAC - # of accelerations per second\n",
        "3.\tFM - # of fetal movements per second\n",
        "4.\tUC - # of uterine contractions per second\n",
        "5.\tDL - # of light decelerations per second\n",
        "6.\tDS - # of severe decelerations per second\n",
        "7.\tDP - # of prolongued decelerations per second\n",
        "8.\tASTV - percentage of time with abnormal short term variability\n",
        "9.\tMSTV - mean value of short term variability\n",
        "10.\tALTV - percentage of time with abnormal long term variability\n",
        "11.\tMLTV - mean value of long term variability\n",
        "12.\tWidth - width of FHR histogram\n",
        "13.\tMin - minimum of FHR histogram\n",
        "14.\tMax - Maximum of FHR histogram\n",
        "15.\tNmax - # of histogram peaks\n",
        "16.\tNzeros - # of histogram zeros\n",
        "17.\tMode - histogram mode\n",
        "18.\tMean - histogram mean\n",
        "19.\tMedian - histogram median\n",
        "20.\tVariance - histogram variance\n",
        "21.\tTendency - histogram tendency\n",
        "\n",
        "# Target classes\n",
        "CLASS - FHR pattern class code (1 to 10)\n",
        "NSP - fetal state class code (N=normal; S=suspect; P=pathologic)\n",
        "\n",
        "#Source:\n",
        "https://archive.ics.uci.edu/ml/datasets/Cardiotocography\n",
        "\n",
        "# Tasks:\n",
        "## Task 1: Take class (1 to 10) as a target class.  \n",
        "    a.\tLoad the dataset\n",
        "    b.\tShuffles the rows of the dataset\n",
        "    c.\tApply pre-processing techniques (if required)\n",
        "    d.\tTake X [independent features] =data[1: 21] and Y= CLASS - FHR pattern class code (1 to 10)\n",
        "    e.\tDivide the dataset into training (70%) and testing (30%) fractions\n",
        "    f.\tApply logistic regression variants and variants of tree/forest-based classification models (implemented so far in Labs). Note: Minimum four models will be implemented.\n",
        "    g.\tEvaluate and store the respective training and testing accuracy values\n",
        "    h.\tPlot two boxplots for training and testing accuracy, respectively, by considering all the models. Note that use only single boxplot to show the performance of every model i.e., in total two boxplots one for training and one for testing. \n",
        "    i. Print all the classification measures supported by sklearn\n",
        "    j.\tConcludes the results \n",
        "\n",
        "Perform the following tasks to find influence of different strategies (Use above tasks from a to j)\n",
        "\n",
        "    1. Compute model results with and without feature scaling and see which models work well even without scaling\n",
        "    2. Perform different feature selection stragies using correlation analysis, forward selection, backward elimination, recursive feature elimination etc. Find minimal and best possible subset of features from each method.\n",
        "    3. Split the dataset into different splits such as 90-10, 80-20, 70-30... 10-90. Find best split size which gives good accuracy for both training and testing.\n",
        "    4. Split the dataset with different random state values and experiment the models. Find whether there is any influence of random state value and experiment.\n",
        "    4. Perform classification with k-fold cross validation. Experiment with different k values and find what is their influence.\n",
        "\n",
        "## Task 2: Take fetal state as a target class.\n",
        "    a.\tLoad the dataset\n",
        "    b.\tShuffles the rows of the dataset\n",
        "    c.\tApply pre-processing techniques (if required)\n",
        "    d.\tTake X [independent features] =data[1: 21] and Y= NSP - fetal state class code (N=normal; S=suspect; P=pathologic)\n",
        "    e.\tDivide the dataset into training (70%) and testing (30%) fractions\n",
        "    f.\tApply logistic regression variants and variants of tree/forest-based classification models (implemented so far in Labs). Note: Minimum for models will be implemented.\n",
        "    g.\tEvaluate and store the respective training and testing accuracy values. \n",
        "    h.\tPlot two boxplots for training and testing accuracy, respectively, by considering all the models. Note that use only single boxplot to show the performance of every model i.e., in total two boxplots one for training and one for testing.  \n",
        "    i. Print all the classification measures supported by sklearn\n",
        "    j.\tConcludes the results \n",
        "\n",
        "Perform the following tasks to find influence of different strategies (Use above tasks from a to j)\n",
        "\n",
        "    1. Compute model results with and without feature scaling and see which models work well even without scaling\n",
        "    2. Perform different feature selection stragies using correlation analysis, forward selection, backward elimination, recursive feature elimination etc. Find minimal and best possible subset of features from each method.\n",
        "    3. Split the dataset into different splits such as 90-10, 80-20, 70-30... 10-90. Find best split size which gives good accuracy for both training and testing.\n",
        "    4. Split the dataset with different random state values and experiment the models. Find whether there is any influence of random state value and experiment.\n",
        "    4. Perform classification with k-fold cross validation. Experiment with different k values and find what is their influence.\n",
        "\n",
        "# Helping links:\n",
        "https://www.tutorialspoint.com/python_data_science/python_box_plots.htm#:~:text=Advertisements,quartile%20in%20the%20data%20set.\n",
        "https://seaborn.pydata.org/generated/seaborn.boxplot.html\n",
        "https://pandas.pydata.org/pandas-docs/stable/reference/api/pandas.DataFrame.boxplot.html\n",
        "https://python-graph-gallery.com/boxplot/\n",
        "https://www.geeksforgeeks.org/box-plot-in-python-using-matplotlib/\n",
        "https://matplotlib.org/3.1.1/api/_as_gen/matplotlib.pyplot.boxplot.html\n",
        "\n",
        "\n"
      ]
    },
    {
      "cell_type": "markdown",
      "metadata": {
        "id": "1yGvcerZa0S8"
      },
      "source": [
        "## Task 1: Take class (1 to 10) as a target class. "
      ]
    },
    {
      "cell_type": "code",
      "metadata": {
        "ExecuteTime": {
          "end_time": "2020-10-10T21:05:47.075335Z",
          "start_time": "2020-10-10T21:05:47.067302Z"
        },
        "id": "Duh_Q74qIidS"
      },
      "source": [
        "# Load the libraries\n",
        "import pandas as pd\n",
        "import numpy as np\n",
        "from sklearn.model_selection import train_test_split\n",
        "from sklearn.metrics import accuracy_score\n",
        "from sklearn.preprocessing import LabelEncoder,MinMaxScaler\n",
        "from sklearn.tree import DecisionTreeClassifier\n",
        "from sklearn.linear_model import LogisticRegression\n",
        "from sklearn.impute import SimpleImputer\n",
        "from sklearn.ensemble import RandomForestClassifier,AdaBoostClassifier"
      ],
      "execution_count": null,
      "outputs": []
    },
    {
      "cell_type": "code",
      "metadata": {
        "ExecuteTime": {
          "end_time": "2020-10-10T20:56:32.853881Z",
          "start_time": "2020-10-10T20:56:32.845848Z"
        },
        "id": "swhplZDakn9b"
      },
      "source": [
        "a=\"\"\"\n",
        "LB - FHR baseline (beats per minute)\n",
        "AC - # of accelerations per second\n",
        "FM - # of fetal movements per second\n",
        "UC - # of uterine contractions per second\n",
        "DL - # of light decelerations per second\n",
        "DS - # of severe decelerations per second\n",
        "DP - # of prolongued decelerations per second\n",
        "ASTV - percentage of time with abnormal short term variability\n",
        "MSTV - mean value of short term variability\n",
        "ALTV - percentage of time with abnormal long term variability\n",
        "MLTV - mean value of long term variability\n",
        "Width - width of FHR histogram\n",
        "Min - minimum of FHR histogram\n",
        "Max - Maximum of FHR histogram\n",
        "Nmax - # of histogram peaks\n",
        "Nzeros - # of histogram zeros\n",
        "Mode - histogram mode\n",
        "Mean - histogram mean\n",
        "Median - histogram median\n",
        "Variance - histogram variance\n",
        "Tendency - histogram tendency\n",
        "CLASS - FHR pattern class code (1 to 10)\n",
        "NSP - fetal state class code (N=normal; S=suspect; P=pathologic)\n",
        "\"\"\""
      ],
      "execution_count": null,
      "outputs": []
    },
    {
      "cell_type": "code",
      "metadata": {
        "ExecuteTime": {
          "end_time": "2020-10-10T21:00:01.597683Z",
          "start_time": "2020-10-10T21:00:01.078436Z"
        },
        "id": "SyioH2iYIjhk",
        "outputId": "cae913f2-dba4-4ecc-c1f3-d187636fb91a"
      },
      "source": [
        "# Load the dataset \n",
        "# Shuffel the dataset\n",
        "df=pd.read_excel('CTG.xls',1,skiprows=1)\n",
        "cols=[a.splitlines()[1:][i].split()[0] for i in range(len(a.splitlines()[1:]))]\n",
        "df=df[cols]\n",
        "df.head()"
      ],
      "execution_count": null,
      "outputs": [
        {
          "output_type": "execute_result",
          "data": {
            "text/html": [
              "<div>\n",
              "<style scoped>\n",
              "    .dataframe tbody tr th:only-of-type {\n",
              "        vertical-align: middle;\n",
              "    }\n",
              "\n",
              "    .dataframe tbody tr th {\n",
              "        vertical-align: top;\n",
              "    }\n",
              "\n",
              "    .dataframe thead th {\n",
              "        text-align: right;\n",
              "    }\n",
              "</style>\n",
              "<table border=\"1\" class=\"dataframe\">\n",
              "  <thead>\n",
              "    <tr style=\"text-align: right;\">\n",
              "      <th></th>\n",
              "      <th>LB</th>\n",
              "      <th>AC</th>\n",
              "      <th>FM</th>\n",
              "      <th>UC</th>\n",
              "      <th>DL</th>\n",
              "      <th>DS</th>\n",
              "      <th>DP</th>\n",
              "      <th>ASTV</th>\n",
              "      <th>MSTV</th>\n",
              "      <th>ALTV</th>\n",
              "      <th>...</th>\n",
              "      <th>Max</th>\n",
              "      <th>Nmax</th>\n",
              "      <th>Nzeros</th>\n",
              "      <th>Mode</th>\n",
              "      <th>Mean</th>\n",
              "      <th>Median</th>\n",
              "      <th>Variance</th>\n",
              "      <th>Tendency</th>\n",
              "      <th>CLASS</th>\n",
              "      <th>NSP</th>\n",
              "    </tr>\n",
              "  </thead>\n",
              "  <tbody>\n",
              "    <tr>\n",
              "      <th>0</th>\n",
              "      <td>120.0</td>\n",
              "      <td>0.0</td>\n",
              "      <td>0.0</td>\n",
              "      <td>0.0</td>\n",
              "      <td>0.0</td>\n",
              "      <td>0.0</td>\n",
              "      <td>0.0</td>\n",
              "      <td>73.0</td>\n",
              "      <td>0.5</td>\n",
              "      <td>43.0</td>\n",
              "      <td>...</td>\n",
              "      <td>126.0</td>\n",
              "      <td>2.0</td>\n",
              "      <td>0.0</td>\n",
              "      <td>120.0</td>\n",
              "      <td>137.0</td>\n",
              "      <td>121.0</td>\n",
              "      <td>73.0</td>\n",
              "      <td>1.0</td>\n",
              "      <td>9.0</td>\n",
              "      <td>2.0</td>\n",
              "    </tr>\n",
              "    <tr>\n",
              "      <th>1</th>\n",
              "      <td>132.0</td>\n",
              "      <td>4.0</td>\n",
              "      <td>0.0</td>\n",
              "      <td>4.0</td>\n",
              "      <td>2.0</td>\n",
              "      <td>0.0</td>\n",
              "      <td>0.0</td>\n",
              "      <td>17.0</td>\n",
              "      <td>2.1</td>\n",
              "      <td>0.0</td>\n",
              "      <td>...</td>\n",
              "      <td>198.0</td>\n",
              "      <td>6.0</td>\n",
              "      <td>1.0</td>\n",
              "      <td>141.0</td>\n",
              "      <td>136.0</td>\n",
              "      <td>140.0</td>\n",
              "      <td>12.0</td>\n",
              "      <td>0.0</td>\n",
              "      <td>6.0</td>\n",
              "      <td>1.0</td>\n",
              "    </tr>\n",
              "    <tr>\n",
              "      <th>2</th>\n",
              "      <td>133.0</td>\n",
              "      <td>2.0</td>\n",
              "      <td>0.0</td>\n",
              "      <td>5.0</td>\n",
              "      <td>2.0</td>\n",
              "      <td>0.0</td>\n",
              "      <td>0.0</td>\n",
              "      <td>16.0</td>\n",
              "      <td>2.1</td>\n",
              "      <td>0.0</td>\n",
              "      <td>...</td>\n",
              "      <td>198.0</td>\n",
              "      <td>5.0</td>\n",
              "      <td>1.0</td>\n",
              "      <td>141.0</td>\n",
              "      <td>135.0</td>\n",
              "      <td>138.0</td>\n",
              "      <td>13.0</td>\n",
              "      <td>0.0</td>\n",
              "      <td>6.0</td>\n",
              "      <td>1.0</td>\n",
              "    </tr>\n",
              "    <tr>\n",
              "      <th>3</th>\n",
              "      <td>134.0</td>\n",
              "      <td>2.0</td>\n",
              "      <td>0.0</td>\n",
              "      <td>6.0</td>\n",
              "      <td>2.0</td>\n",
              "      <td>0.0</td>\n",
              "      <td>0.0</td>\n",
              "      <td>16.0</td>\n",
              "      <td>2.4</td>\n",
              "      <td>0.0</td>\n",
              "      <td>...</td>\n",
              "      <td>170.0</td>\n",
              "      <td>11.0</td>\n",
              "      <td>0.0</td>\n",
              "      <td>137.0</td>\n",
              "      <td>134.0</td>\n",
              "      <td>137.0</td>\n",
              "      <td>13.0</td>\n",
              "      <td>1.0</td>\n",
              "      <td>6.0</td>\n",
              "      <td>1.0</td>\n",
              "    </tr>\n",
              "    <tr>\n",
              "      <th>4</th>\n",
              "      <td>132.0</td>\n",
              "      <td>4.0</td>\n",
              "      <td>0.0</td>\n",
              "      <td>5.0</td>\n",
              "      <td>0.0</td>\n",
              "      <td>0.0</td>\n",
              "      <td>0.0</td>\n",
              "      <td>16.0</td>\n",
              "      <td>2.4</td>\n",
              "      <td>0.0</td>\n",
              "      <td>...</td>\n",
              "      <td>170.0</td>\n",
              "      <td>9.0</td>\n",
              "      <td>0.0</td>\n",
              "      <td>137.0</td>\n",
              "      <td>136.0</td>\n",
              "      <td>138.0</td>\n",
              "      <td>11.0</td>\n",
              "      <td>1.0</td>\n",
              "      <td>2.0</td>\n",
              "      <td>1.0</td>\n",
              "    </tr>\n",
              "  </tbody>\n",
              "</table>\n",
              "<p>5 rows × 23 columns</p>\n",
              "</div>"
            ],
            "text/plain": [
              "      LB   AC   FM   UC   DL   DS   DP  ASTV  MSTV  ALTV  ...    Max  Nmax  \\\n",
              "0  120.0  0.0  0.0  0.0  0.0  0.0  0.0  73.0   0.5  43.0  ...  126.0   2.0   \n",
              "1  132.0  4.0  0.0  4.0  2.0  0.0  0.0  17.0   2.1   0.0  ...  198.0   6.0   \n",
              "2  133.0  2.0  0.0  5.0  2.0  0.0  0.0  16.0   2.1   0.0  ...  198.0   5.0   \n",
              "3  134.0  2.0  0.0  6.0  2.0  0.0  0.0  16.0   2.4   0.0  ...  170.0  11.0   \n",
              "4  132.0  4.0  0.0  5.0  0.0  0.0  0.0  16.0   2.4   0.0  ...  170.0   9.0   \n",
              "\n",
              "   Nzeros   Mode   Mean  Median  Variance  Tendency  CLASS  NSP  \n",
              "0     0.0  120.0  137.0   121.0      73.0       1.0    9.0  2.0  \n",
              "1     1.0  141.0  136.0   140.0      12.0       0.0    6.0  1.0  \n",
              "2     1.0  141.0  135.0   138.0      13.0       0.0    6.0  1.0  \n",
              "3     0.0  137.0  134.0   137.0      13.0       1.0    6.0  1.0  \n",
              "4     0.0  137.0  136.0   138.0      11.0       1.0    2.0  1.0  \n",
              "\n",
              "[5 rows x 23 columns]"
            ]
          },
          "metadata": {
            "tags": []
          },
          "execution_count": 50
        }
      ]
    },
    {
      "cell_type": "code",
      "metadata": {
        "ExecuteTime": {
          "end_time": "2020-10-10T21:00:01.681708Z",
          "start_time": "2020-10-10T21:00:01.637685Z"
        },
        "id": "euqEeTYxkn9x",
        "outputId": "029dd613-26b0-4eb1-ed46-0875f89e68d9"
      },
      "source": [
        "for i in df.columns:\n",
        "    print(i,df[i].value_counts(dropna=False)[np.nan])\n",
        "df.dropna(inplace=True)"
      ],
      "execution_count": null,
      "outputs": [
        {
          "output_type": "stream",
          "text": [
            "LB 3\n",
            "AC 3\n",
            "FM 2\n",
            "UC 2\n",
            "DL 1\n",
            "DS 1\n",
            "DP 1\n",
            "ASTV 2\n",
            "MSTV 2\n",
            "ALTV 2\n",
            "MLTV 2\n",
            "Width 3\n",
            "Min 3\n",
            "Max 3\n",
            "Nmax 3\n",
            "Nzeros 3\n",
            "Mode 3\n",
            "Mean 3\n",
            "Median 3\n",
            "Variance 3\n",
            "Tendency 3\n",
            "CLASS 3\n",
            "NSP 3\n"
          ],
          "name": "stdout"
        }
      ]
    },
    {
      "cell_type": "code",
      "metadata": {
        "ExecuteTime": {
          "end_time": "2020-10-10T21:00:02.877322Z",
          "start_time": "2020-10-10T21:00:02.841310Z"
        },
        "id": "yWgmTJ7fkn9-",
        "outputId": "d6488a4a-4afa-4350-b910-5858aba30846"
      },
      "source": [
        "scaler=MinMaxScaler()\n",
        "df.iloc[:,0:21]=scaler.fit_transform(df.iloc[:,0:21])\n",
        "df=pd.DataFrame(df,columns=cols)\n",
        "df"
      ],
      "execution_count": null,
      "outputs": [
        {
          "output_type": "execute_result",
          "data": {
            "text/html": [
              "<div>\n",
              "<style scoped>\n",
              "    .dataframe tbody tr th:only-of-type {\n",
              "        vertical-align: middle;\n",
              "    }\n",
              "\n",
              "    .dataframe tbody tr th {\n",
              "        vertical-align: top;\n",
              "    }\n",
              "\n",
              "    .dataframe thead th {\n",
              "        text-align: right;\n",
              "    }\n",
              "</style>\n",
              "<table border=\"1\" class=\"dataframe\">\n",
              "  <thead>\n",
              "    <tr style=\"text-align: right;\">\n",
              "      <th></th>\n",
              "      <th>LB</th>\n",
              "      <th>AC</th>\n",
              "      <th>FM</th>\n",
              "      <th>UC</th>\n",
              "      <th>DL</th>\n",
              "      <th>DS</th>\n",
              "      <th>DP</th>\n",
              "      <th>ASTV</th>\n",
              "      <th>MSTV</th>\n",
              "      <th>ALTV</th>\n",
              "      <th>...</th>\n",
              "      <th>Max</th>\n",
              "      <th>Nmax</th>\n",
              "      <th>Nzeros</th>\n",
              "      <th>Mode</th>\n",
              "      <th>Mean</th>\n",
              "      <th>Median</th>\n",
              "      <th>Variance</th>\n",
              "      <th>Tendency</th>\n",
              "      <th>CLASS</th>\n",
              "      <th>NSP</th>\n",
              "    </tr>\n",
              "  </thead>\n",
              "  <tbody>\n",
              "    <tr>\n",
              "      <th>0</th>\n",
              "      <td>0.259259</td>\n",
              "      <td>0.000000</td>\n",
              "      <td>0.000000</td>\n",
              "      <td>0.000000</td>\n",
              "      <td>0.000</td>\n",
              "      <td>0.0</td>\n",
              "      <td>0.0</td>\n",
              "      <td>0.813333</td>\n",
              "      <td>0.044118</td>\n",
              "      <td>0.472527</td>\n",
              "      <td>...</td>\n",
              "      <td>0.034483</td>\n",
              "      <td>0.111111</td>\n",
              "      <td>0.0</td>\n",
              "      <td>0.472441</td>\n",
              "      <td>0.587156</td>\n",
              "      <td>0.403670</td>\n",
              "      <td>0.271375</td>\n",
              "      <td>1.0</td>\n",
              "      <td>9.0</td>\n",
              "      <td>2.0</td>\n",
              "    </tr>\n",
              "    <tr>\n",
              "      <th>1</th>\n",
              "      <td>0.481481</td>\n",
              "      <td>0.153846</td>\n",
              "      <td>0.000000</td>\n",
              "      <td>0.173913</td>\n",
              "      <td>0.125</td>\n",
              "      <td>0.0</td>\n",
              "      <td>0.0</td>\n",
              "      <td>0.066667</td>\n",
              "      <td>0.279412</td>\n",
              "      <td>0.000000</td>\n",
              "      <td>...</td>\n",
              "      <td>0.655172</td>\n",
              "      <td>0.333333</td>\n",
              "      <td>0.1</td>\n",
              "      <td>0.637795</td>\n",
              "      <td>0.577982</td>\n",
              "      <td>0.577982</td>\n",
              "      <td>0.044610</td>\n",
              "      <td>0.5</td>\n",
              "      <td>6.0</td>\n",
              "      <td>1.0</td>\n",
              "    </tr>\n",
              "    <tr>\n",
              "      <th>2</th>\n",
              "      <td>0.500000</td>\n",
              "      <td>0.076923</td>\n",
              "      <td>0.000000</td>\n",
              "      <td>0.217391</td>\n",
              "      <td>0.125</td>\n",
              "      <td>0.0</td>\n",
              "      <td>0.0</td>\n",
              "      <td>0.053333</td>\n",
              "      <td>0.279412</td>\n",
              "      <td>0.000000</td>\n",
              "      <td>...</td>\n",
              "      <td>0.655172</td>\n",
              "      <td>0.277778</td>\n",
              "      <td>0.1</td>\n",
              "      <td>0.637795</td>\n",
              "      <td>0.568807</td>\n",
              "      <td>0.559633</td>\n",
              "      <td>0.048327</td>\n",
              "      <td>0.5</td>\n",
              "      <td>6.0</td>\n",
              "      <td>1.0</td>\n",
              "    </tr>\n",
              "    <tr>\n",
              "      <th>3</th>\n",
              "      <td>0.518519</td>\n",
              "      <td>0.076923</td>\n",
              "      <td>0.000000</td>\n",
              "      <td>0.260870</td>\n",
              "      <td>0.125</td>\n",
              "      <td>0.0</td>\n",
              "      <td>0.0</td>\n",
              "      <td>0.053333</td>\n",
              "      <td>0.323529</td>\n",
              "      <td>0.000000</td>\n",
              "      <td>...</td>\n",
              "      <td>0.413793</td>\n",
              "      <td>0.611111</td>\n",
              "      <td>0.0</td>\n",
              "      <td>0.606299</td>\n",
              "      <td>0.559633</td>\n",
              "      <td>0.550459</td>\n",
              "      <td>0.048327</td>\n",
              "      <td>1.0</td>\n",
              "      <td>6.0</td>\n",
              "      <td>1.0</td>\n",
              "    </tr>\n",
              "    <tr>\n",
              "      <th>4</th>\n",
              "      <td>0.481481</td>\n",
              "      <td>0.153846</td>\n",
              "      <td>0.000000</td>\n",
              "      <td>0.217391</td>\n",
              "      <td>0.000</td>\n",
              "      <td>0.0</td>\n",
              "      <td>0.0</td>\n",
              "      <td>0.053333</td>\n",
              "      <td>0.323529</td>\n",
              "      <td>0.000000</td>\n",
              "      <td>...</td>\n",
              "      <td>0.413793</td>\n",
              "      <td>0.500000</td>\n",
              "      <td>0.0</td>\n",
              "      <td>0.606299</td>\n",
              "      <td>0.577982</td>\n",
              "      <td>0.559633</td>\n",
              "      <td>0.040892</td>\n",
              "      <td>1.0</td>\n",
              "      <td>2.0</td>\n",
              "      <td>1.0</td>\n",
              "    </tr>\n",
              "    <tr>\n",
              "      <th>...</th>\n",
              "      <td>...</td>\n",
              "      <td>...</td>\n",
              "      <td>...</td>\n",
              "      <td>...</td>\n",
              "      <td>...</td>\n",
              "      <td>...</td>\n",
              "      <td>...</td>\n",
              "      <td>...</td>\n",
              "      <td>...</td>\n",
              "      <td>...</td>\n",
              "      <td>...</td>\n",
              "      <td>...</td>\n",
              "      <td>...</td>\n",
              "      <td>...</td>\n",
              "      <td>...</td>\n",
              "      <td>...</td>\n",
              "      <td>...</td>\n",
              "      <td>...</td>\n",
              "      <td>...</td>\n",
              "      <td>...</td>\n",
              "      <td>...</td>\n",
              "    </tr>\n",
              "    <tr>\n",
              "      <th>2121</th>\n",
              "      <td>0.629630</td>\n",
              "      <td>0.000000</td>\n",
              "      <td>0.000000</td>\n",
              "      <td>0.260870</td>\n",
              "      <td>0.000</td>\n",
              "      <td>0.0</td>\n",
              "      <td>0.0</td>\n",
              "      <td>0.893333</td>\n",
              "      <td>0.000000</td>\n",
              "      <td>0.274725</td>\n",
              "      <td>...</td>\n",
              "      <td>0.474138</td>\n",
              "      <td>0.222222</td>\n",
              "      <td>0.0</td>\n",
              "      <td>0.732283</td>\n",
              "      <td>0.706422</td>\n",
              "      <td>0.688073</td>\n",
              "      <td>0.007435</td>\n",
              "      <td>0.5</td>\n",
              "      <td>5.0</td>\n",
              "      <td>2.0</td>\n",
              "    </tr>\n",
              "    <tr>\n",
              "      <th>2122</th>\n",
              "      <td>0.629630</td>\n",
              "      <td>0.038462</td>\n",
              "      <td>0.000000</td>\n",
              "      <td>0.391304</td>\n",
              "      <td>0.000</td>\n",
              "      <td>0.0</td>\n",
              "      <td>0.0</td>\n",
              "      <td>0.880000</td>\n",
              "      <td>0.029412</td>\n",
              "      <td>0.241758</td>\n",
              "      <td>...</td>\n",
              "      <td>0.405172</td>\n",
              "      <td>0.333333</td>\n",
              "      <td>0.0</td>\n",
              "      <td>0.724409</td>\n",
              "      <td>0.688073</td>\n",
              "      <td>0.678899</td>\n",
              "      <td>0.011152</td>\n",
              "      <td>1.0</td>\n",
              "      <td>5.0</td>\n",
              "      <td>2.0</td>\n",
              "    </tr>\n",
              "    <tr>\n",
              "      <th>2123</th>\n",
              "      <td>0.629630</td>\n",
              "      <td>0.038462</td>\n",
              "      <td>0.000000</td>\n",
              "      <td>0.304348</td>\n",
              "      <td>0.000</td>\n",
              "      <td>0.0</td>\n",
              "      <td>0.0</td>\n",
              "      <td>0.893333</td>\n",
              "      <td>0.029412</td>\n",
              "      <td>0.219780</td>\n",
              "      <td>...</td>\n",
              "      <td>0.413793</td>\n",
              "      <td>0.277778</td>\n",
              "      <td>0.0</td>\n",
              "      <td>0.732283</td>\n",
              "      <td>0.688073</td>\n",
              "      <td>0.688073</td>\n",
              "      <td>0.014870</td>\n",
              "      <td>1.0</td>\n",
              "      <td>5.0</td>\n",
              "      <td>2.0</td>\n",
              "    </tr>\n",
              "    <tr>\n",
              "      <th>2124</th>\n",
              "      <td>0.629630</td>\n",
              "      <td>0.038462</td>\n",
              "      <td>0.000000</td>\n",
              "      <td>0.391304</td>\n",
              "      <td>0.000</td>\n",
              "      <td>0.0</td>\n",
              "      <td>0.0</td>\n",
              "      <td>0.880000</td>\n",
              "      <td>0.029412</td>\n",
              "      <td>0.296703</td>\n",
              "      <td>...</td>\n",
              "      <td>0.405172</td>\n",
              "      <td>0.333333</td>\n",
              "      <td>0.0</td>\n",
              "      <td>0.724409</td>\n",
              "      <td>0.678899</td>\n",
              "      <td>0.678899</td>\n",
              "      <td>0.014870</td>\n",
              "      <td>1.0</td>\n",
              "      <td>5.0</td>\n",
              "      <td>2.0</td>\n",
              "    </tr>\n",
              "    <tr>\n",
              "      <th>2125</th>\n",
              "      <td>0.666667</td>\n",
              "      <td>0.038462</td>\n",
              "      <td>0.001773</td>\n",
              "      <td>0.217391</td>\n",
              "      <td>0.000</td>\n",
              "      <td>0.0</td>\n",
              "      <td>0.0</td>\n",
              "      <td>0.826667</td>\n",
              "      <td>0.029412</td>\n",
              "      <td>0.395604</td>\n",
              "      <td>...</td>\n",
              "      <td>0.318966</td>\n",
              "      <td>0.111111</td>\n",
              "      <td>0.1</td>\n",
              "      <td>0.669291</td>\n",
              "      <td>0.642202</td>\n",
              "      <td>0.623853</td>\n",
              "      <td>0.003717</td>\n",
              "      <td>0.5</td>\n",
              "      <td>1.0</td>\n",
              "      <td>1.0</td>\n",
              "    </tr>\n",
              "  </tbody>\n",
              "</table>\n",
              "<p>2126 rows × 23 columns</p>\n",
              "</div>"
            ],
            "text/plain": [
              "            LB        AC        FM        UC     DL   DS   DP      ASTV  \\\n",
              "0     0.259259  0.000000  0.000000  0.000000  0.000  0.0  0.0  0.813333   \n",
              "1     0.481481  0.153846  0.000000  0.173913  0.125  0.0  0.0  0.066667   \n",
              "2     0.500000  0.076923  0.000000  0.217391  0.125  0.0  0.0  0.053333   \n",
              "3     0.518519  0.076923  0.000000  0.260870  0.125  0.0  0.0  0.053333   \n",
              "4     0.481481  0.153846  0.000000  0.217391  0.000  0.0  0.0  0.053333   \n",
              "...        ...       ...       ...       ...    ...  ...  ...       ...   \n",
              "2121  0.629630  0.000000  0.000000  0.260870  0.000  0.0  0.0  0.893333   \n",
              "2122  0.629630  0.038462  0.000000  0.391304  0.000  0.0  0.0  0.880000   \n",
              "2123  0.629630  0.038462  0.000000  0.304348  0.000  0.0  0.0  0.893333   \n",
              "2124  0.629630  0.038462  0.000000  0.391304  0.000  0.0  0.0  0.880000   \n",
              "2125  0.666667  0.038462  0.001773  0.217391  0.000  0.0  0.0  0.826667   \n",
              "\n",
              "          MSTV      ALTV  ...       Max      Nmax  Nzeros      Mode      Mean  \\\n",
              "0     0.044118  0.472527  ...  0.034483  0.111111     0.0  0.472441  0.587156   \n",
              "1     0.279412  0.000000  ...  0.655172  0.333333     0.1  0.637795  0.577982   \n",
              "2     0.279412  0.000000  ...  0.655172  0.277778     0.1  0.637795  0.568807   \n",
              "3     0.323529  0.000000  ...  0.413793  0.611111     0.0  0.606299  0.559633   \n",
              "4     0.323529  0.000000  ...  0.413793  0.500000     0.0  0.606299  0.577982   \n",
              "...        ...       ...  ...       ...       ...     ...       ...       ...   \n",
              "2121  0.000000  0.274725  ...  0.474138  0.222222     0.0  0.732283  0.706422   \n",
              "2122  0.029412  0.241758  ...  0.405172  0.333333     0.0  0.724409  0.688073   \n",
              "2123  0.029412  0.219780  ...  0.413793  0.277778     0.0  0.732283  0.688073   \n",
              "2124  0.029412  0.296703  ...  0.405172  0.333333     0.0  0.724409  0.678899   \n",
              "2125  0.029412  0.395604  ...  0.318966  0.111111     0.1  0.669291  0.642202   \n",
              "\n",
              "        Median  Variance  Tendency  CLASS  NSP  \n",
              "0     0.403670  0.271375       1.0    9.0  2.0  \n",
              "1     0.577982  0.044610       0.5    6.0  1.0  \n",
              "2     0.559633  0.048327       0.5    6.0  1.0  \n",
              "3     0.550459  0.048327       1.0    6.0  1.0  \n",
              "4     0.559633  0.040892       1.0    2.0  1.0  \n",
              "...        ...       ...       ...    ...  ...  \n",
              "2121  0.688073  0.007435       0.5    5.0  2.0  \n",
              "2122  0.678899  0.011152       1.0    5.0  2.0  \n",
              "2123  0.688073  0.014870       1.0    5.0  2.0  \n",
              "2124  0.678899  0.014870       1.0    5.0  2.0  \n",
              "2125  0.623853  0.003717       0.5    1.0  1.0  \n",
              "\n",
              "[2126 rows x 23 columns]"
            ]
          },
          "metadata": {
            "tags": []
          },
          "execution_count": 52
        }
      ]
    },
    {
      "cell_type": "code",
      "metadata": {
        "ExecuteTime": {
          "end_time": "2020-10-10T21:02:23.978615Z",
          "start_time": "2020-10-10T21:02:23.942615Z"
        },
        "id": "vtfupr9JInhf",
        "outputId": "ae8193e1-e8d8-4253-a205-377c9f5f5d0c"
      },
      "source": [
        "# Preprocessing\n",
        "# Encoding categorical variables (if any)\n",
        "# Feature Scaling\n",
        "# Filling missing values (if any)\n",
        "from random import shuffle\n",
        "indexes=list(df.index)\n",
        "shuffle(indexes)\n",
        "df=pd.DataFrame(df,index=indexes)\n",
        "df.head(3)"
      ],
      "execution_count": null,
      "outputs": [
        {
          "output_type": "execute_result",
          "data": {
            "text/html": [
              "<div>\n",
              "<style scoped>\n",
              "    .dataframe tbody tr th:only-of-type {\n",
              "        vertical-align: middle;\n",
              "    }\n",
              "\n",
              "    .dataframe tbody tr th {\n",
              "        vertical-align: top;\n",
              "    }\n",
              "\n",
              "    .dataframe thead th {\n",
              "        text-align: right;\n",
              "    }\n",
              "</style>\n",
              "<table border=\"1\" class=\"dataframe\">\n",
              "  <thead>\n",
              "    <tr style=\"text-align: right;\">\n",
              "      <th></th>\n",
              "      <th>LB</th>\n",
              "      <th>AC</th>\n",
              "      <th>FM</th>\n",
              "      <th>UC</th>\n",
              "      <th>DL</th>\n",
              "      <th>DS</th>\n",
              "      <th>DP</th>\n",
              "      <th>ASTV</th>\n",
              "      <th>MSTV</th>\n",
              "      <th>ALTV</th>\n",
              "      <th>...</th>\n",
              "      <th>Max</th>\n",
              "      <th>Nmax</th>\n",
              "      <th>Nzeros</th>\n",
              "      <th>Mode</th>\n",
              "      <th>Mean</th>\n",
              "      <th>Median</th>\n",
              "      <th>Variance</th>\n",
              "      <th>Tendency</th>\n",
              "      <th>CLASS</th>\n",
              "      <th>NSP</th>\n",
              "    </tr>\n",
              "  </thead>\n",
              "  <tbody>\n",
              "    <tr>\n",
              "      <th>302</th>\n",
              "      <td>0.703704</td>\n",
              "      <td>0.000000</td>\n",
              "      <td>0.017730</td>\n",
              "      <td>0.000000</td>\n",
              "      <td>0.0</td>\n",
              "      <td>0.0</td>\n",
              "      <td>0.0</td>\n",
              "      <td>0.786667</td>\n",
              "      <td>0.014706</td>\n",
              "      <td>0.263736</td>\n",
              "      <td>...</td>\n",
              "      <td>0.258621</td>\n",
              "      <td>0.055556</td>\n",
              "      <td>0.0</td>\n",
              "      <td>0.669291</td>\n",
              "      <td>0.651376</td>\n",
              "      <td>0.633028</td>\n",
              "      <td>0.000000</td>\n",
              "      <td>0.5</td>\n",
              "      <td>10.0</td>\n",
              "      <td>2.0</td>\n",
              "    </tr>\n",
              "    <tr>\n",
              "      <th>491</th>\n",
              "      <td>0.259259</td>\n",
              "      <td>0.346154</td>\n",
              "      <td>0.074468</td>\n",
              "      <td>0.000000</td>\n",
              "      <td>0.0</td>\n",
              "      <td>0.0</td>\n",
              "      <td>0.0</td>\n",
              "      <td>0.280000</td>\n",
              "      <td>0.367647</td>\n",
              "      <td>0.000000</td>\n",
              "      <td>...</td>\n",
              "      <td>0.612069</td>\n",
              "      <td>0.500000</td>\n",
              "      <td>0.0</td>\n",
              "      <td>0.842520</td>\n",
              "      <td>0.688073</td>\n",
              "      <td>0.724771</td>\n",
              "      <td>0.282528</td>\n",
              "      <td>1.0</td>\n",
              "      <td>4.0</td>\n",
              "      <td>1.0</td>\n",
              "    </tr>\n",
              "    <tr>\n",
              "      <th>1580</th>\n",
              "      <td>0.481481</td>\n",
              "      <td>0.000000</td>\n",
              "      <td>0.000000</td>\n",
              "      <td>0.130435</td>\n",
              "      <td>0.0</td>\n",
              "      <td>0.0</td>\n",
              "      <td>0.0</td>\n",
              "      <td>0.053333</td>\n",
              "      <td>0.338235</td>\n",
              "      <td>0.000000</td>\n",
              "      <td>...</td>\n",
              "      <td>0.318966</td>\n",
              "      <td>0.500000</td>\n",
              "      <td>0.1</td>\n",
              "      <td>0.598425</td>\n",
              "      <td>0.532110</td>\n",
              "      <td>0.522936</td>\n",
              "      <td>0.055762</td>\n",
              "      <td>1.0</td>\n",
              "      <td>3.0</td>\n",
              "      <td>1.0</td>\n",
              "    </tr>\n",
              "  </tbody>\n",
              "</table>\n",
              "<p>3 rows × 23 columns</p>\n",
              "</div>"
            ],
            "text/plain": [
              "            LB        AC        FM        UC   DL   DS   DP      ASTV  \\\n",
              "302   0.703704  0.000000  0.017730  0.000000  0.0  0.0  0.0  0.786667   \n",
              "491   0.259259  0.346154  0.074468  0.000000  0.0  0.0  0.0  0.280000   \n",
              "1580  0.481481  0.000000  0.000000  0.130435  0.0  0.0  0.0  0.053333   \n",
              "\n",
              "          MSTV      ALTV  ...       Max      Nmax  Nzeros      Mode      Mean  \\\n",
              "302   0.014706  0.263736  ...  0.258621  0.055556     0.0  0.669291  0.651376   \n",
              "491   0.367647  0.000000  ...  0.612069  0.500000     0.0  0.842520  0.688073   \n",
              "1580  0.338235  0.000000  ...  0.318966  0.500000     0.1  0.598425  0.532110   \n",
              "\n",
              "        Median  Variance  Tendency  CLASS  NSP  \n",
              "302   0.633028  0.000000       0.5   10.0  2.0  \n",
              "491   0.724771  0.282528       1.0    4.0  1.0  \n",
              "1580  0.522936  0.055762       1.0    3.0  1.0  \n",
              "\n",
              "[3 rows x 23 columns]"
            ]
          },
          "metadata": {
            "tags": []
          },
          "execution_count": 60
        }
      ]
    },
    {
      "cell_type": "code",
      "metadata": {
        "ExecuteTime": {
          "end_time": "2020-10-10T21:11:09.812942Z",
          "start_time": "2020-10-10T21:11:09.800860Z"
        },
        "id": "13owZH7mIpZp"
      },
      "source": [
        "# Divide the dataset to training and testing set\n",
        "X_train, X_test, y_train, y_test = train_test_split(df.iloc[:,0:21], df.iloc[:,21], test_size=0.30, random_state=42)"
      ],
      "execution_count": null,
      "outputs": []
    },
    {
      "cell_type": "code",
      "metadata": {
        "ExecuteTime": {
          "end_time": "2020-10-10T21:11:15.164000Z",
          "start_time": "2020-10-10T21:11:15.156056Z"
        },
        "id": "-KEJ1BB8a5xQ"
      },
      "source": [
        "# Implement logistic regression variants and variants of tree/forest-based classification models (implemented so far in Labs). Note: Minimum for models will be implemented.\n",
        "# Not all models can be obtained from sklearn \n",
        "model1=LogisticRegression()\n",
        "model2=DecisionTreeClassifier()\n",
        "model3=RandomForestClassifier(n_estimators=100)\n",
        "model4=AdaBoostClassifier(base_estimator=DecisionTreeClassifier(),n_estimators=100)\n",
        "\n",
        "\n"
      ],
      "execution_count": null,
      "outputs": []
    },
    {
      "cell_type": "code",
      "metadata": {
        "ExecuteTime": {
          "end_time": "2020-10-10T21:11:18.330408Z",
          "start_time": "2020-10-10T21:11:16.341911Z"
        },
        "id": "jOIhehoYbSsJ",
        "outputId": "11eb0f1f-7593-457c-fe92-c787628ea20f"
      },
      "source": [
        "# Train and test the models\n",
        "model1.fit(X_train,y_train)\n",
        "print(\"Model 1 Trained\")\n",
        "model2.fit(X_train,y_train)\n",
        "print(\"Model 2 Trained\")\n",
        "model3.fit(X_train,y_train)\n",
        "print(\"Model 3 Trained\")\n",
        "model4.fit(X_train,y_train)\n",
        "print(\"Model 4 Trained\")\n"
      ],
      "execution_count": null,
      "outputs": [
        {
          "output_type": "stream",
          "text": [
            "C:\\ProgramData\\Anaconda3\\lib\\site-packages\\sklearn\\linear_model\\_logistic.py:762: ConvergenceWarning: lbfgs failed to converge (status=1):\n",
            "STOP: TOTAL NO. of ITERATIONS REACHED LIMIT.\n",
            "\n",
            "Increase the number of iterations (max_iter) or scale the data as shown in:\n",
            "    https://scikit-learn.org/stable/modules/preprocessing.html\n",
            "Please also refer to the documentation for alternative solver options:\n",
            "    https://scikit-learn.org/stable/modules/linear_model.html#logistic-regression\n",
            "  n_iter_i = _check_optimize_result(\n"
          ],
          "name": "stderr"
        },
        {
          "output_type": "stream",
          "text": [
            "Model 1 Trained\n",
            "Model 2 Trained\n",
            "Model 3 Trained\n",
            "Model 4 Trained\n"
          ],
          "name": "stdout"
        }
      ]
    },
    {
      "cell_type": "code",
      "metadata": {
        "ExecuteTime": {
          "end_time": "2020-10-10T21:18:53.511611Z",
          "start_time": "2020-10-10T21:18:53.274722Z"
        },
        "id": "XUBOrqrbbX-u"
      },
      "source": [
        "# Build training accuracy boxplot analysis \n",
        "model1train=accuracy_score(y_train,model1.predict(X_train))\n",
        "model1test=accuracy_score(y_test,model1.predict(X_test))\n",
        "\n",
        "model2train=accuracy_score(y_train,model2.predict(X_train))\n",
        "model2test=accuracy_score(y_test,model2.predict(X_test))\n",
        "\n",
        "model3train=accuracy_score(y_train,model3.predict(X_train))\n",
        "model3test=accuracy_score(y_test,model3.predict(X_test))\n",
        "\n",
        "model4train=accuracy_score(y_train,model4.predict(X_train))\n",
        "model4test=accuracy_score(y_test,model4.predict(X_test))"
      ],
      "execution_count": null,
      "outputs": []
    },
    {
      "cell_type": "code",
      "metadata": {
        "ExecuteTime": {
          "end_time": "2020-10-10T21:22:37.367080Z",
          "start_time": "2020-10-10T21:22:37.354094Z"
        },
        "id": "cNFBVuAekn--",
        "outputId": "c48bf253-6fa8-468e-ab5e-b6e96ea4f17c"
      },
      "source": [
        "box=pd.DataFrame({'Training Accuracy':[model1train,model2train,model3train,model4train]\n",
        "                  ,'Testing Accuracy':[model1test,model2test,model3test,model4test]})\n",
        "box['Models']=['Model1','Model2','Model3','Model4']"
      ],
      "execution_count": null,
      "outputs": [
        {
          "output_type": "execute_result",
          "data": {
            "text/html": [
              "<div>\n",
              "<style scoped>\n",
              "    .dataframe tbody tr th:only-of-type {\n",
              "        vertical-align: middle;\n",
              "    }\n",
              "\n",
              "    .dataframe tbody tr th {\n",
              "        vertical-align: top;\n",
              "    }\n",
              "\n",
              "    .dataframe thead th {\n",
              "        text-align: right;\n",
              "    }\n",
              "</style>\n",
              "<table border=\"1\" class=\"dataframe\">\n",
              "  <thead>\n",
              "    <tr style=\"text-align: right;\">\n",
              "      <th></th>\n",
              "      <th>Training Accuracy</th>\n",
              "      <th>Testing Accuracy</th>\n",
              "      <th>Models</th>\n",
              "    </tr>\n",
              "  </thead>\n",
              "  <tbody>\n",
              "    <tr>\n",
              "      <th>0</th>\n",
              "      <td>0.763441</td>\n",
              "      <td>0.725705</td>\n",
              "      <td>Model1</td>\n",
              "    </tr>\n",
              "    <tr>\n",
              "      <th>1</th>\n",
              "      <td>0.997984</td>\n",
              "      <td>0.835423</td>\n",
              "      <td>Model2</td>\n",
              "    </tr>\n",
              "    <tr>\n",
              "      <th>2</th>\n",
              "      <td>0.997984</td>\n",
              "      <td>0.877743</td>\n",
              "      <td>Model3</td>\n",
              "    </tr>\n",
              "    <tr>\n",
              "      <th>3</th>\n",
              "      <td>0.997984</td>\n",
              "      <td>0.885580</td>\n",
              "      <td>Model4</td>\n",
              "    </tr>\n",
              "  </tbody>\n",
              "</table>\n",
              "</div>"
            ],
            "text/plain": [
              "   Training Accuracy  Testing Accuracy  Models\n",
              "0           0.763441          0.725705  Model1\n",
              "1           0.997984          0.835423  Model2\n",
              "2           0.997984          0.877743  Model3\n",
              "3           0.997984          0.885580  Model4"
            ]
          },
          "metadata": {
            "tags": []
          },
          "execution_count": 97
        }
      ]
    },
    {
      "cell_type": "code",
      "metadata": {
        "ExecuteTime": {
          "end_time": "2020-10-10T21:23:30.365480Z",
          "start_time": "2020-10-10T21:23:30.223784Z"
        },
        "id": "x5vYDQzjCIHr",
        "outputId": "adffb21f-ca73-4605-8690-02db7051bac2"
      },
      "source": [
        "# Build testing accuracy boxplot analysis \n",
        "import seaborn as sns\n",
        "import matplotlib.pyplot as plt\n",
        "plt.style.use('seaborn')\n",
        "sns.boxplot(data=box,hue_order='models',orient='h')"
      ],
      "execution_count": null,
      "outputs": [
        {
          "output_type": "execute_result",
          "data": {
            "text/plain": [
              "<AxesSubplot:>"
            ]
          },
          "metadata": {
            "tags": []
          },
          "execution_count": 101
        },
        {
          "output_type": "display_data",
          "data": {
            "image/png": "[encoded data removed]",
            "text/plain": [
              "<Figure size 576x396 with 1 Axes>"
            ]
          },
          "metadata": {
            "tags": []
          }
        }
      ]
    },
    {
      "cell_type": "markdown",
      "metadata": {
        "id": "9hZF7xcjbdAF"
      },
      "source": [
        "## Task 2: Take fetal state as a target class."
      ]
    },
    {
      "cell_type": "code",
      "metadata": {
        "id": "1DSX6JMEbfss"
      },
      "source": [
        "# Use the preprocessed dataset here\n"
      ],
      "execution_count": null,
      "outputs": []
    },
    {
      "cell_type": "code",
      "metadata": {
        "ExecuteTime": {
          "end_time": "2020-10-10T21:25:09.073903Z",
          "start_time": "2020-10-10T21:25:09.066914Z"
        },
        "id": "2yqNwnVCbkxG"
      },
      "source": [
        "# Divide the dataset to training and testing set\n",
        "X_train, X_test, y_train, y_test = train_test_split(df.iloc[:,0:21], df.iloc[:,22], test_size=0.30, random_state=42)"
      ],
      "execution_count": null,
      "outputs": []
    },
    {
      "cell_type": "code",
      "metadata": {
        "ExecuteTime": {
          "end_time": "2020-10-10T21:25:09.658517Z",
          "start_time": "2020-10-10T21:25:09.654556Z"
        },
        "id": "eB_I4407bns6"
      },
      "source": [
        "# Implement logistic regression variants and variants of tree/forest-based classification models (implemented so far in Labs). Note: Minimum for models will be implemented.\n",
        "# Not all models can be obtained from sklearn \n",
        "model1=LogisticRegression()\n",
        "model2=DecisionTreeClassifier()\n",
        "model3=RandomForestClassifier(n_estimators=100)\n",
        "model4=AdaBoostClassifier(base_estimator=DecisionTreeClassifier(),n_estimators=100)\n",
        "\n",
        "\n"
      ],
      "execution_count": null,
      "outputs": []
    },
    {
      "cell_type": "code",
      "metadata": {
        "ExecuteTime": {
          "end_time": "2020-10-10T21:25:12.150192Z",
          "start_time": "2020-10-10T21:25:10.807043Z"
        },
        "id": "GHOGKAXiCsSN",
        "outputId": "d071b917-f456-45a6-dbdf-e024e5191c9b"
      },
      "source": [
        "# Train and test the models\n",
        "model1.fit(X_train,y_train)\n",
        "print(\"Model 1 Trained\")\n",
        "model2.fit(X_train,y_train)\n",
        "print(\"Model 2 Trained\")\n",
        "model3.fit(X_train,y_train)\n",
        "print(\"Model 3 Trained\")\n",
        "model4.fit(X_train,y_train)\n",
        "print(\"Model 4 Trained\")"
      ],
      "execution_count": null,
      "outputs": [
        {
          "output_type": "stream",
          "text": [
            "Model 1 Trained\n",
            "Model 2 Trained\n",
            "Model 3 Trained\n",
            "Model 4 Trained\n"
          ],
          "name": "stdout"
        }
      ]
    },
    {
      "cell_type": "code",
      "metadata": {
        "ExecuteTime": {
          "end_time": "2020-10-10T21:25:13.165361Z",
          "start_time": "2020-10-10T21:25:12.985818Z"
        },
        "id": "1cZrbgNuCvQX"
      },
      "source": [
        "# Build training accuracy boxplot analysis \n",
        "model1train=accuracy_score(y_train,model1.predict(X_train))\n",
        "model1test=accuracy_score(y_test,model1.predict(X_test))\n",
        "\n",
        "model2train=accuracy_score(y_train,model2.predict(X_train))\n",
        "model2test=accuracy_score(y_test,model2.predict(X_test))\n",
        "\n",
        "model3train=accuracy_score(y_train,model3.predict(X_train))\n",
        "model3test=accuracy_score(y_test,model3.predict(X_test))\n",
        "\n",
        "model4train=accuracy_score(y_train,model4.predict(X_train))\n",
        "model4test=accuracy_score(y_test,model4.predict(X_test))"
      ],
      "execution_count": null,
      "outputs": []
    },
    {
      "cell_type": "code",
      "metadata": {
        "ExecuteTime": {
          "end_time": "2020-10-10T21:25:14.261955Z",
          "start_time": "2020-10-10T21:25:14.121264Z"
        },
        "id": "SRWWKLmYCx5w",
        "outputId": "97ad0448-d30c-42e2-9a7a-ea1980126ece"
      },
      "source": [
        "# Build testing accuracy boxplot analysis \n",
        "import seaborn as sns\n",
        "import matplotlib.pyplot as plt\n",
        "plt.style.use('seaborn')\n",
        "sns.boxplot(data=box,hue_order='models',orient='h')"
      ],
      "execution_count": null,
      "outputs": [
        {
          "output_type": "execute_result",
          "data": {
            "text/plain": [
              "<AxesSubplot:>"
            ]
          },
          "metadata": {
            "tags": []
          },
          "execution_count": 107
        },
        {
          "output_type": "display_data",
          "data": {
            "image/png": "[encoded data removed]",
            "text/plain": [
              "<Figure size 576x396 with 1 Axes>"
            ]
          },
          "metadata": {
            "tags": []
          }
        }
      ]
    },
    {
      "cell_type": "code",
      "metadata": {
        "id": "aK086juobpRo"
      },
      "source": [
        "# Play with the intial/hyper parameters of the models and try to build more boxplots (Optional)\n",
        "\n"
      ],
      "execution_count": null,
      "outputs": []
    }
  ]
}