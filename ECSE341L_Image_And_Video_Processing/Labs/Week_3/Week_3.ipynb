{
 "cells": [
  {
   "cell_type": "markdown",
   "metadata": {},
   "source": [
    "# Lab Assignment 3 ( Image Manipilations )\n",
    "\n"
   ]
  },
  {
   "cell_type": "markdown",
   "metadata": {},
   "source": [
    "## 1. Converting image data structures:\n"
   ]
  },
  {
   "cell_type": "markdown",
   "metadata": {},
   "source": [
    "### a) Create a numpy array from the Image object. You can read an image using PIL and convert it to numpy array."
   ]
  },
  {
   "cell_type": "code",
   "execution_count": null,
   "metadata": {},
   "outputs": [],
   "source": [
    "from PIL import Image\n",
    "import numpy as np\n",
    "img = Image.open(\"img.jpg\")\n",
    "img_array = np.asarray(img)\n",
    "print(img_array)\n",
    "print()\n",
    "print(img_array.shape)"
   ]
  },
  {
   "cell_type": "markdown",
   "metadata": {},
   "source": [
    "### b) Reverse: Convert from numpy array into a PIL Image object.\n"
   ]
  },
  {
   "cell_type": "code",
   "execution_count": null,
   "metadata": {},
   "outputs": [],
   "source": [
    "img_reverse = Image.fromarray(img_array)\n",
    "img_reverse"
   ]
  },
  {
   "cell_type": "markdown",
   "metadata": {},
   "source": [
    "## 2. Converting from one file format to another. Read an image in one file format and save it to another: for example, from PNG to JPG."
   ]
  },
  {
   "cell_type": "code",
   "execution_count": null,
   "metadata": {},
   "outputs": [],
   "source": [
    "im1 = Image.open('img.jpg')\n",
    "im1.save('png_img.png')\n",
    "im1 = Image.open('png_img.png')\n",
    "im1"
   ]
  },
  {
   "cell_type": "markdown",
   "metadata": {},
   "source": [
    "## 3. Cropping an Image: Take any RGB image as input and crop that image. Show input and output both together"
   ]
  },
  {
   "cell_type": "markdown",
   "metadata": {},
   "source": [
    "### a) Using direct function in Python"
   ]
  },
  {
   "cell_type": "code",
   "execution_count": null,
   "metadata": {},
   "outputs": [],
   "source": [
    "from PIL import Image \n",
    " \n",
    "im = Image.open('img.jpg') \n",
    "\n",
    "im1 = im.crop((100, 100, 900, 900)) \n"
   ]
  },
  {
   "cell_type": "code",
   "execution_count": null,
   "metadata": {},
   "outputs": [],
   "source": [
    "import matplotlib.pyplot as plt\n",
    "\n",
    "plt.subplot(211)\n",
    "plt.imshow(im)\n",
    "plt.subplot(212)\n",
    "plt.imshow(im1)"
   ]
  },
  {
   "cell_type": "markdown",
   "metadata": {},
   "source": [
    "### b) Write your program using arrays and matrices. This is required to make you familiar with images and their dimensions\n"
   ]
  },
  {
   "cell_type": "code",
   "execution_count": null,
   "metadata": {},
   "outputs": [],
   "source": [
    "import matplotlib.image as img \n",
    "import numpy as np \n",
    "\n",
    "img = img.imread(\"img.jpg\") \n",
    "\n",
    "crop = np.array(img)\n",
    "cropped=crop[100:900,100:900,:]\n",
    "plt.imshow(cropped)\n",
    "\n",
    "\n",
    "\n",
    "plt.subplot(211)\n",
    "plt.imshow(img)\n",
    "plt.subplot(212)\n",
    "plt.imshow(cropped)\n"
   ]
  },
  {
   "cell_type": "markdown",
   "metadata": {},
   "source": [
    "### 4. Negative of an image: Write a program to obtain negative of an image. Do not use any direct function. Suppose the intensity values of your input image vary from 0-255. Negative of an image can be obtained using following formula, where y is the intensity value of a pixel in output image and x is the intensity value of same pixel in input image.\n",
    "\n",
    "\n",
    "####                                                                                       y = 255 - x"
   ]
  },
  {
   "cell_type": "code",
   "execution_count": null,
   "metadata": {},
   "outputs": [],
   "source": [
    "from PIL import Image \n",
    "import numpy as np\n",
    " \n",
    "input_image = Image.open('img.jpg') \n",
    "input_array = np.asarray(input_image)\n",
    "output_array = np.array(255 - input_array)\n",
    "\n",
    "output_image = Image.fromarray(output_array)\n"
   ]
  },
  {
   "cell_type": "code",
   "execution_count": null,
   "metadata": {},
   "outputs": [],
   "source": [
    "import matplotlib.pyplot as plt\n",
    "\n",
    "plt.subplot(211)\n",
    "plt.imshow(input_image)\n",
    "plt.subplot(212)\n",
    "plt.imshow(output_image)"
   ]
  },
  {
   "cell_type": "markdown",
   "metadata": {},
   "source": [
    "### 5. Creating a circular mask on the input image. The example of output image is below. Hint: Slicing and masking with numpy arrays can be used to create a circular mask on the input image. "
   ]
  },
  {
   "cell_type": "code",
   "execution_count": null,
   "metadata": {},
   "outputs": [],
   "source": [
    "import cv2 \n",
    "\n",
    "img = cv2.imread('sq0.jpg', 1)\n",
    "img_color = cv2.cvtColor(img, cv2.COLOR_BGR2RGB)\n",
    "\n",
    "temp = np.zeros_like(img_color, dtype=np.uint8)\n",
    "circle = cv2.circle(temp, (250, 250), 450, (255,255,255), 400)\n",
    "\n",
    "newimg= cv2.subtract(img_color, circle)\n",
    "plt.imshow(newimg)\n"
   ]
  },
  {
   "cell_type": "markdown",
   "metadata": {},
   "source": [
    "### 6. Reading and displaying multiple images at once\n"
   ]
  },
  {
   "cell_type": "code",
   "execution_count": null,
   "metadata": {},
   "outputs": [],
   "source": [
    "import numpy as np\n",
    "import matplotlib.pyplot as plt\n",
    "\n",
    "fig=plt.figure(figsize=(8, 8))\n",
    "columns = 2\n",
    "rows = 2\n",
    "for i in range(1, columns*rows +1):\n",
    "    img = Image.open(\"sq{}.jpg\".format(i-1))\n",
    "    fig.add_subplot(rows, columns, i)\n",
    "    plt.imshow(img)\n",
    "plt.show()"
   ]
  },
  {
   "cell_type": "markdown",
   "metadata": {},
   "source": [
    "### 7. Create a thumbnail from an image. "
   ]
  },
  {
   "cell_type": "code",
   "execution_count": null,
   "metadata": {},
   "outputs": [],
   "source": [
    "image = Image.open(\"img.jpg\") \n",
    "MAX_SIZE = (1000, 1000)  \n",
    "image.thumbnail(MAX_SIZE) \n",
    "\n",
    "image.save('thumb.jpg')\n",
    "thumb = Image.open(\"thumb.jpg\")\n",
    "image1 = Image.open(\"img.jpg\") \n",
    "image1.paste(thumb,(10,10))\n",
    "image1"
   ]
  },
  {
   "cell_type": "markdown",
   "metadata": {},
   "source": [
    "### 8. Drawing on an image in Python:\n"
   ]
  },
  {
   "cell_type": "markdown",
   "metadata": {},
   "source": [
    "#### a) You can draw lines or other geometric shapes on an image. "
   ]
  },
  {
   "cell_type": "code",
   "execution_count": null,
   "metadata": {},
   "outputs": [],
   "source": [
    "import cv2 \n",
    "\n",
    "img = cv2.imread('sq3.jpg', 1)\n",
    "img_color = cv2.cvtColor(img, cv2.COLOR_BGR2RGB)\n",
    "temp = np.zeros_like(img_color, dtype=np.uint8)\n",
    "circle = cv2.circle(temp, (120, 120), 10, (255,255,255), 100)\n",
    "\n",
    "newimg= cv2.add(img_color, circle)\n",
    "plt.imshow(newimg)"
   ]
  },
  {
   "cell_type": "markdown",
   "metadata": {},
   "source": [
    "#### b) Drawing text on an image. Write some text on input image. Use a function in Python to change its font as well"
   ]
  },
  {
   "cell_type": "code",
   "execution_count": null,
   "metadata": {},
   "outputs": [],
   "source": [
    "from PIL import Image, ImageDraw, ImageFont\n",
    "\n",
    "img = Image.open('img.jpg')\n",
    "d1 = ImageDraw.Draw(img)\n",
    "myFont = ImageFont.truetype('Pacifico.ttf', 100)\n",
    "d1.text((1000, 500), \"Hello People\", font=myFont, fill =(0, 0, 0))\n",
    "plt.imshow(img)\n",
    "# img.save(\"images/image_text.jpg\")"
   ]
  },
  {
   "cell_type": "markdown",
   "metadata": {},
   "source": [
    "### 9. R,G,B channels splitting and merging. Read any RGB image as input, split three channels R, G, B and display these channels/matrices as output images. Then, merge the three channels again and display same RGB image.\n"
   ]
  },
  {
   "cell_type": "code",
   "execution_count": null,
   "metadata": {},
   "outputs": [],
   "source": [
    "import cv2\n",
    "import numpy as np\n",
    "img = cv2.imread(\"img2.jpg\")\n",
    "b,g,r = cv2.split(img)"
   ]
  },
  {
   "cell_type": "code",
   "execution_count": null,
   "metadata": {},
   "outputs": [],
   "source": [
    "plt.imshow(r)"
   ]
  },
  {
   "cell_type": "code",
   "execution_count": null,
   "metadata": {},
   "outputs": [],
   "source": [
    "plt.imshow(g)"
   ]
  },
  {
   "cell_type": "code",
   "execution_count": null,
   "metadata": {},
   "outputs": [],
   "source": [
    "plt.imshow(b)"
   ]
  },
  {
   "cell_type": "code",
   "execution_count": null,
   "metadata": {},
   "outputs": [],
   "source": [
    "rgb = np.dstack((r,g,b))\n",
    "plt.imshow(rgb)"
   ]
  },
  {
   "cell_type": "code",
   "execution_count": null,
   "metadata": {},
   "outputs": [],
   "source": []
  }
 ],
 "metadata": {
  "kernelspec": {
   "display_name": "Python 3",
   "language": "python",
   "name": "python3"
  },
  "language_info": {
   "codemirror_mode": {
    "name": "ipython",
    "version": 3
   },
   "file_extension": ".py",
   "mimetype": "text/x-python",
   "name": "python",
   "nbconvert_exporter": "python",
   "pygments_lexer": "ipython3",
   "version": "3.7.6"
  }
 },
 "nbformat": 4,
 "nbformat_minor": 4
}
