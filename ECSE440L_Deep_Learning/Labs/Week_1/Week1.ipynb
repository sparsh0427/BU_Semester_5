{
 "cells": [
  {
   "cell_type": "markdown",
   "metadata": {},
   "source": [
    "# Week 1 Assignment"
   ]
  },
  {
   "cell_type": "markdown",
   "metadata": {},
   "source": [
    "### Step 1 "
   ]
  },
  {
   "cell_type": "code",
   "execution_count": 6,
   "metadata": {},
   "outputs": [],
   "source": [
    "import numpy as np"
   ]
  },
  {
   "cell_type": "markdown",
   "metadata": {},
   "source": [
    "### Step 2 "
   ]
  },
  {
   "cell_type": "markdown",
   "metadata": {},
   "source": [
    "#### Array of Integers"
   ]
  },
  {
   "cell_type": "code",
   "execution_count": 12,
   "metadata": {},
   "outputs": [
    {
     "name": "stdout",
     "output_type": "stream",
     "text": [
      "Array = \n",
      "[[1 2 3]\n",
      " [7 8 9]]\n",
      "\n",
      "Dimensions = \n",
      "2\n"
     ]
    }
   ],
   "source": [
    "arr = np.array([[1,2,3],[7,8,9]])\n",
    "print(\"Array = \")\n",
    "print(arr)\n",
    "print()\n",
    "print(\"Dimensions = \")\n",
    "print(arr.ndim)"
   ]
  },
  {
   "cell_type": "markdown",
   "metadata": {},
   "source": [
    "#### Array of Floats"
   ]
  },
  {
   "cell_type": "code",
   "execution_count": 17,
   "metadata": {},
   "outputs": [
    {
     "name": "stdout",
     "output_type": "stream",
     "text": [
      "Array = \n",
      "[[1.2   2.23  3.213]\n",
      " [7.11  8.11  9.11 ]]\n",
      "\n",
      "Dimensions = \n",
      "2\n"
     ]
    }
   ],
   "source": [
    "arr = np.array([[1.2,2.23,3.213],[7.11,8.11,9.11]])\n",
    "print(\"Array = \")\n",
    "print(arr)\n",
    "print()\n",
    "print(\"Dimensions = \")\n",
    "print(arr.ndim)"
   ]
  },
  {
   "cell_type": "markdown",
   "metadata": {},
   "source": [
    "#### Array of Complex Numbers"
   ]
  },
  {
   "cell_type": "code",
   "execution_count": 18,
   "metadata": {},
   "outputs": [
    {
     "name": "stdout",
     "output_type": "stream",
     "text": [
      "Array = \n",
      "[1.2 +0.3j 2.23+0.j ]\n",
      "\n",
      "Dimensions = \n",
      "1\n"
     ]
    }
   ],
   "source": [
    "arr = np.array([1.2 + 0.3j,2.23] , dtype=complex)\n",
    "print(\"Array = \")\n",
    "print(arr)\n",
    "print()\n",
    "print(\"Dimensions = \")\n",
    "print(arr.ndim)"
   ]
  },
  {
   "cell_type": "markdown",
   "metadata": {},
   "source": [
    "### Step 3"
   ]
  },
  {
   "cell_type": "markdown",
   "metadata": {},
   "source": [
    "#### Addition of 2 matrices"
   ]
  },
  {
   "cell_type": "code",
   "execution_count": 30,
   "metadata": {},
   "outputs": [
    {
     "name": "stdout",
     "output_type": "stream",
     "text": [
      "[[ 8 10 12]\n",
      " [14 16 18]]\n"
     ]
    }
   ],
   "source": [
    "arr_1 = np.array([[1,2,3],[4,5,6]])\n",
    "arr_2 = np.array([[7,8,9],[10,11,12]])\n",
    "print(np.add(arr_1,arr_2))"
   ]
  },
  {
   "cell_type": "markdown",
   "metadata": {},
   "source": [
    "#### Transpose "
   ]
  },
  {
   "cell_type": "code",
   "execution_count": 24,
   "metadata": {},
   "outputs": [
    {
     "name": "stdout",
     "output_type": "stream",
     "text": [
      "Before Transpose = \n",
      "[[1 2 3]\n",
      " [4 5 6]]\n",
      "After Transpose = \n",
      "[[1 4]\n",
      " [2 5]\n",
      " [3 6]]\n"
     ]
    }
   ],
   "source": [
    "arr = np.array([[1,2,3],[4,5,6]])\n",
    "print(\"Before Transpose = \")\n",
    "print(arr)\n",
    "print(\"After Transpose = \")\n",
    "print(arr.transpose())"
   ]
  },
  {
   "cell_type": "markdown",
   "metadata": {},
   "source": [
    "#### Multiplication: Dot Product"
   ]
  },
  {
   "cell_type": "code",
   "execution_count": 28,
   "metadata": {},
   "outputs": [
    {
     "name": "stdout",
     "output_type": "stream",
     "text": [
      "[[19 22]\n",
      " [43 50]]\n"
     ]
    }
   ],
   "source": [
    "arr_1 = np.array([[1,2],[3,4]])\n",
    "arr_2 = np.array([[5,6],[7,8]])\n",
    "print(np.dot(arr_1,arr_2))"
   ]
  },
  {
   "cell_type": "markdown",
   "metadata": {},
   "source": [
    "#### Multiplication: Element Wise "
   ]
  },
  {
   "cell_type": "code",
   "execution_count": 29,
   "metadata": {},
   "outputs": [
    {
     "name": "stdout",
     "output_type": "stream",
     "text": [
      "[[ 5 12]\n",
      " [21 32]]\n"
     ]
    }
   ],
   "source": [
    "arr_1 = np.array([[1,2],[3,4]])\n",
    "arr_2 = np.array([[5,6],[7,8]])\n",
    "print(np.multiply(arr_1,arr_2))"
   ]
  },
  {
   "cell_type": "markdown",
   "metadata": {},
   "source": [
    "#### Accesing matrix elements "
   ]
  },
  {
   "cell_type": "code",
   "execution_count": 32,
   "metadata": {},
   "outputs": [
    {
     "name": "stdout",
     "output_type": "stream",
     "text": [
      "arr[0][1] = 4\n",
      "arr[2][2] = 11\n",
      "arr[-1][-1] = 19\n"
     ]
    }
   ],
   "source": [
    "arr = np.array([[1, 4, 5, 12],\n",
    "    [-5, 8, 9, 0],\n",
    "    [-6, 7, 11, 19]])\n",
    "print(\"arr[0][1] =\", arr[0][1])  \n",
    "print(\"arr[2][2] =\", arr[2][2])\n",
    "print(\"arr[-1][-1] =\", arr[-1][-1])"
   ]
  },
  {
   "cell_type": "markdown",
   "metadata": {},
   "source": [
    "### Step 4"
   ]
  },
  {
   "cell_type": "markdown",
   "metadata": {},
   "source": [
    "#### Python Slicing and Reversing"
   ]
  },
  {
   "cell_type": "code",
   "execution_count": 43,
   "metadata": {},
   "outputs": [
    {
     "name": "stdout",
     "output_type": "stream",
     "text": [
      "[30, 40, 50, 60, 70]\n",
      "[70, 80]\n",
      "Reversing the list\n",
      "[90, 80, 70, 60, 50, 40, 30, 20, 10]\n"
     ]
    }
   ],
   "source": [
    "nums = [10, 20, 30, 40, 50, 60, 70, 80, 90]\n",
    "print(nums[2:7])\n",
    "print(nums[-3:-1])\n",
    "print(\"Reversing the list\")\n",
    "print(nums[::-1])"
   ]
  },
  {
   "cell_type": "markdown",
   "metadata": {},
   "source": [
    "### Step 5"
   ]
  },
  {
   "cell_type": "markdown",
   "metadata": {},
   "source": [
    "#### Numpy with Datasets "
   ]
  },
  {
   "cell_type": "code",
   "execution_count": 61,
   "metadata": {},
   "outputs": [
    {
     "name": "stdout",
     "output_type": "stream",
     "text": [
      "Column Extraction = \n",
      "[40 58 41 45 60 55 57 66 67 70 44 38 35 61 60 58 54 67 66 43 62 54 39 48\n",
      " 58 32 42 52 38 53 57 41 37 54 49 48 60 63 35 30 53 50 50 35 40 48 60 60\n",
      " 35 46 36 50 60 50 51 38 66 53 59 39 65 35 55 60 45 40 30 35 25 50 40 35\n",
      " 65 38 50 55 48 55 39 43 35 47 50 48 35 49 38 28 68 35 45 48 40 40 36 56\n",
      " 30 31 35 39 48 85 90 72 70 69 58 47 25 39 53 52 68 79 55 45 30 45 65 34\n",
      " 48 35 40 47 38 55 66 57 32 48 47 43 30 16 35 66 54 58 51 40 47 62 49 53\n",
      " 68 61 39 38 44 45 50 42 55 57 62 33 55 48 56 38 28 68 35 45 48 40 57 41\n",
      " 37 54 49 48 60 63 35 30 53 50 50 35 40 31 35 39 48 85 90 72 70 69 58 54\n",
      " 64 36 43 31 66 61 58 69 40 28 37 34 30 67 60 58 54 43 39 40 43 49 47 45\n",
      " 57 72 30 27 38 43 40 55 68 29 37 30 45 47 35 32 56 50 52 26 60 65 72 30\n",
      " 45 65 70 35 54 30 46 53 42 55 48 55 39 43 35 47 50 48 35 62 33 55 48 56\n",
      " 38 28 68 35 45 48 40 57 47 45 57 72 30 27 38 43 40 47 45 57 72 30 27 38\n",
      " 43 40 54 30 46 53 42 55 48 55 39 43 35 47 61 58 69 40 28 37 34 30 67 60\n",
      " 58 54 43 33 55 36 28 34 65 34 64 44 36 43 53 47 58 56 51 59 50 30 46 53\n",
      " 42 55 48 55 39 43 35 47 61 58 69 40 28 37 34 30 67 60 58 54 43 33 55 48\n",
      " 56 38 28 68 35 45 48 40 57 47 45 57 72 30 27 38 43 40 47 62 49 53 68 61\n",
      " 39 38 44 36 43 53 47 58 56 51 59 50 30 46 53 64 44 36 43 53 47 58 56 51\n",
      " 59 50 30 46 53 42 55 48 55 39 43 35 47 61 67 66 43 62 54 39 48 58 32 42\n",
      " 52 38 53 57 41 37 54 49 48 60 63 35 30 53 50 50 35 40 48 60 38 28 68 35\n",
      " 45 48 40 57 47 45 57 72 30 27 38 43 40 47 45 57 72 30 27 38 43 40 54 30\n",
      " 46 53 42 55 48 55 39 43 50 30 46 53 64 44 36 43 53 47 68 64 66 67 70 44\n",
      " 38 35 61 60 58 54 67 66 43 62 54 39 48 58 32 42]\n",
      "\n",
      "Row Extraction = \n",
      "[[40 'Male' 'No' 'Yes' 'No' 'Yes' 'No' 'No' 'No' 'Yes' 'No' 'Yes' 'No'\n",
      "  'Yes' 'Yes' 'Yes' 'Positive']\n",
      " [58 'Male' 'No' 'No' 'No' 'Yes' 'No' 'No' 'Yes' 'No' 'No' 'No' 'Yes'\n",
      "  'No' 'Yes' 'No' 'Positive']]\n"
     ]
    }
   ],
   "source": [
    "import pandas as pd\n",
    "data = pd.read_csv(\"diabetes.csv\")\n",
    "print(\"Column Extraction = \")\n",
    "array_1 = np.array(data['Age'])\n",
    "print(array_1)\n",
    "print()\n",
    "array_2 = np.array(data[0:2])\n",
    "print(\"Row Extraction = \")\n",
    "print(array_2)\n"
   ]
  }
 ],
 "metadata": {
  "kernelspec": {
   "display_name": "Python 3",
   "language": "python",
   "name": "python3"
  },
  "language_info": {
   "codemirror_mode": {
    "name": "ipython",
    "version": 3
   },
   "file_extension": ".py",
   "mimetype": "text/x-python",
   "name": "python",
   "nbconvert_exporter": "python",
   "pygments_lexer": "ipython3",
   "version": "3.7.6"
  }
 },
 "nbformat": 4,
 "nbformat_minor": 4
}
