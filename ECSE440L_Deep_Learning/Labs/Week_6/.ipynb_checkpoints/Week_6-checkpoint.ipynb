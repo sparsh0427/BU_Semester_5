{
 "cells": [
  {
   "cell_type": "markdown",
   "metadata": {
    "id": "472a9Vl9c_HW"
   },
   "source": [
    "## Lab Assignment 6 – Convolutional Neural Networks Exploration"
   ]
  },
  {
   "cell_type": "code",
   "execution_count": null,
   "metadata": {
    "id": "LF01oTBQhaTP"
   },
   "outputs": [],
   "source": [
    "from numpy import mean\n",
    "from numpy import std\n",
    "import time\n",
    "import numpy as np\n",
    "from matplotlib import pyplot\n",
    "import matplotlib.pyplot as plt\n",
    "from sklearn.model_selection import KFold\n",
    "from keras.datasets import mnist\n",
    "import tensorflow as tf \n",
    "from keras.utils import to_categorical\n",
    "from keras.models import Sequential\n",
    "from keras.layers import Conv2D\n",
    "from keras.layers import MaxPooling2D\n",
    "from keras.layers import Dense\n",
    "from keras.layers import Flatten\n",
    "from keras.optimizers import SGD"
   ]
  },
  {
   "cell_type": "markdown",
   "metadata": {
    "id": "_Vx1GPaweIkU"
   },
   "source": [
    "Loading Dataset"
   ]
  },
  {
   "cell_type": "code",
   "execution_count": null,
   "metadata": {
    "colab": {
     "base_uri": "https://localhost:8080/",
     "height": 302
    },
    "id": "hhNs3qCXdB5x",
    "outputId": "b6f2bc06-5ea3-4c31-8715-e46f8067ce10"
   },
   "outputs": [
    {
     "name": "stdout",
     "output_type": "stream",
     "text": [
      "Train: X=(60000, 28, 28), y=(60000,)\n",
      "Test: X=(10000, 28, 28), y=(10000,)\n"
     ]
    },
    {
     "data": {
      "image/png": "[encoded data removed]",
      "text/plain": [
       "<Figure size 432x288 with 9 Axes>"
      ]
     },
     "metadata": {
      "needs_background": "light",
      "tags": []
     },
     "output_type": "display_data"
    }
   ],
   "source": [
    "from keras.datasets import mnist\n",
    "from matplotlib import pyplot\n",
    "(x_train, y_train), (x_test, y_test) = tf.keras.datasets.mnist.load_data()\n",
    "print('Train: X=%s, y=%s' % (x_train.shape, y_train.shape))\n",
    "print('Test: X=%s, y=%s' % (x_test.shape, y_test.shape))\n",
    "for i in range(9):\n",
    "\tpyplot.subplot(330 + 1 + i)\n",
    "\tpyplot.imshow(x_train[i], cmap=pyplot.get_cmap('gray'))\n",
    "pyplot.show()"
   ]
  },
  {
   "cell_type": "markdown",
   "metadata": {
    "id": "5lL3-Y_reOLo"
   },
   "source": [
    "Normalising"
   ]
  },
  {
   "cell_type": "code",
   "execution_count": null,
   "metadata": {
    "colab": {
     "base_uri": "https://localhost:8080/",
     "height": 68
    },
    "id": "_wkmo8gafcfb",
    "outputId": "89199359-a29c-4ee6-85c5-6b71a4014ee4"
   },
   "outputs": [
    {
     "name": "stdout",
     "output_type": "stream",
     "text": [
      "x_train shape: (60000, 28, 28, 1)\n",
      "Number of images in x_train 60000\n",
      "Number of images in x_test 10000\n"
     ]
    }
   ],
   "source": [
    "x_train = x_train.reshape(x_train.shape[0], 28, 28, 1)\n",
    "x_test = x_test.reshape(x_test.shape[0], 28, 28, 1)\n",
    "input_shape = (28, 28, 1)\n",
    "# Making sure that the values are float so that we can get decimal points after division\n",
    "x_train = x_train.astype('float32')\n",
    "x_test = x_test.astype('float32')\n",
    "# Normalizing the RGB codes by dividing it to the max RGB value.\n",
    "x_train /= 255\n",
    "x_test /= 255\n",
    "print('x_train shape:', x_train.shape)\n",
    "print('Number of images in x_train', x_train.shape[0])\n",
    "print('Number of images in x_test', x_test.shape[0])"
   ]
  },
  {
   "cell_type": "markdown",
   "metadata": {
    "id": "UjOQfsJXhMx6"
   },
   "source": [
    "Model"
   ]
  },
  {
   "cell_type": "code",
   "execution_count": null,
   "metadata": {
    "id": "bMawj0vzg9WZ"
   },
   "outputs": [],
   "source": [
    "model = Sequential()\n",
    "model.add(Conv2D(28, kernel_size=(3,3), input_shape=input_shape))\n",
    "model.add(MaxPooling2D(pool_size=(2, 2)))\n",
    "model.add(Flatten())\n",
    "model.add(Dense(128, activation=tf.nn.relu))\n",
    "model.add(Dense(10,activation=tf.nn.softmax))"
   ]
  },
  {
   "cell_type": "markdown",
   "metadata": {
    "id": "R8H8BIMlizpz"
   },
   "source": [
    "Model Compiling And Fitting"
   ]
  },
  {
   "cell_type": "code",
   "execution_count": null,
   "metadata": {
    "colab": {
     "base_uri": "https://localhost:8080/",
     "height": 374
    },
    "id": "ZFIQhH2GhSBU",
    "outputId": "5a5bca4a-39be-43b2-c90e-a25766ca030c"
   },
   "outputs": [
    {
     "name": "stdout",
     "output_type": "stream",
     "text": [
      "Epoch 1/10\n",
      "1875/1875 [==============================] - 31s 17ms/step - loss: 0.1716 - accuracy: 0.9500\n",
      "Epoch 2/10\n",
      "1875/1875 [==============================] - 32s 17ms/step - loss: 0.0600 - accuracy: 0.9815\n",
      "Epoch 3/10\n",
      "1875/1875 [==============================] - 32s 17ms/step - loss: 0.0375 - accuracy: 0.9878\n",
      "Epoch 4/10\n",
      "1875/1875 [==============================] - 32s 17ms/step - loss: 0.0241 - accuracy: 0.9923\n",
      "Epoch 5/10\n",
      "1875/1875 [==============================] - 32s 17ms/step - loss: 0.0170 - accuracy: 0.9943\n",
      "Epoch 6/10\n",
      "1875/1875 [==============================] - 32s 17ms/step - loss: 0.0134 - accuracy: 0.9954\n",
      "Epoch 7/10\n",
      "1875/1875 [==============================] - 32s 17ms/step - loss: 0.0111 - accuracy: 0.9960\n",
      "Epoch 8/10\n",
      "1875/1875 [==============================] - 31s 17ms/step - loss: 0.0093 - accuracy: 0.9969\n",
      "Epoch 9/10\n",
      "1875/1875 [==============================] - 31s 17ms/step - loss: 0.0075 - accuracy: 0.9976\n",
      "Epoch 10/10\n",
      "1875/1875 [==============================] - 31s 17ms/step - loss: 0.0068 - accuracy: 0.9978\n"
     ]
    },
    {
     "data": {
      "text/plain": [
       "<tensorflow.python.keras.callbacks.History at 0x7f29fb3ec908>"
      ]
     },
     "execution_count": 87,
     "metadata": {
      "tags": []
     },
     "output_type": "execute_result"
    }
   ],
   "source": [
    "model.compile(optimizer='adam', \n",
    "              loss='sparse_categorical_crossentropy', \n",
    "              metrics=['accuracy'])\n",
    "model.fit(x=x_train,y=y_train, epochs=10)"
   ]
  },
  {
   "cell_type": "markdown",
   "metadata": {
    "id": "-ulFxl4zyWdm"
   },
   "source": [
    "Model Evaluate"
   ]
  },
  {
   "cell_type": "code",
   "execution_count": null,
   "metadata": {
    "colab": {
     "base_uri": "https://localhost:8080/",
     "height": 85
    },
    "id": "kf-utewByTYg",
    "outputId": "4946f97e-2a7f-4691-f74c-7f5ea495ea54"
   },
   "outputs": [
    {
     "name": "stdout",
     "output_type": "stream",
     "text": [
      "Training accuracy: 0.9977999925613403\n",
      "Training Loss:  0.0060148173943161964\n",
      "Testing Accuracy: 0.9829000234603882\n",
      "Testing loss:  0.09114812314510345\n"
     ]
    }
   ],
   "source": [
    "trainLoss,trainAcc=model.evaluate(x_train,y_train,verbose=0)\n",
    "testLoss,testAcc=model.evaluate(x_test,y_test,verbose=0)\n",
    "print(\"Training accuracy:\", trainAcc)\n",
    "print(\"Training Loss: \",trainLoss)\n",
    "print(\"Testing Accuracy:\" ,testAcc)\n",
    "print(\"Testing loss: \",testLoss)"
   ]
  },
  {
   "cell_type": "markdown",
   "metadata": {
    "id": "vkvxPF-YyzGV"
   },
   "source": [
    "Model Summary"
   ]
  },
  {
   "cell_type": "code",
   "execution_count": null,
   "metadata": {
    "colab": {
     "base_uri": "https://localhost:8080/",
     "height": 323
    },
    "id": "dgFga9yGnUO8",
    "outputId": "ac2246dd-db51-4e6e-dff2-4af9e9c1e530"
   },
   "outputs": [
    {
     "name": "stdout",
     "output_type": "stream",
     "text": [
      "Model: \"sequential_17\"\n",
      "_________________________________________________________________\n",
      "Layer (type)                 Output Shape              Param #   \n",
      "=================================================================\n",
      "conv2d_17 (Conv2D)           (None, 26, 26, 28)        280       \n",
      "_________________________________________________________________\n",
      "max_pooling2d_16 (MaxPooling (None, 13, 13, 28)        0         \n",
      "_________________________________________________________________\n",
      "flatten_16 (Flatten)         (None, 4732)              0         \n",
      "_________________________________________________________________\n",
      "dense_32 (Dense)             (None, 128)               605824    \n",
      "_________________________________________________________________\n",
      "dense_33 (Dense)             (None, 10)                1290      \n",
      "=================================================================\n",
      "Total params: 607,394\n",
      "Trainable params: 607,394\n",
      "Non-trainable params: 0\n",
      "_________________________________________________________________\n"
     ]
    }
   ],
   "source": [
    "model.summary()"
   ]
  },
  {
   "cell_type": "markdown",
   "metadata": {
    "id": "QseWSUNcy0gf"
   },
   "source": [
    "Model Prediction"
   ]
  },
  {
   "cell_type": "code",
   "execution_count": null,
   "metadata": {
    "colab": {
     "base_uri": "https://localhost:8080/",
     "height": 282
    },
    "id": "B99E4jYky1mJ",
    "outputId": "2ed5301a-9758-48d2-abeb-697cb81ca37f"
   },
   "outputs": [
    {
     "name": "stdout",
     "output_type": "stream",
     "text": [
      "4\n"
     ]
    },
    {
     "data": {
      "image/png": "[encoded data removed]",
      "text/plain": [
       "<Figure size 432x288 with 1 Axes>"
      ]
     },
     "metadata": {
      "needs_background": "light",
      "tags": []
     },
     "output_type": "display_data"
    }
   ],
   "source": [
    "image_index = 27\n",
    "plt.imshow(x_test[image_index].reshape(28, 28),cmap='Greys')\n",
    "pred = model.predict(x_test[image_index].reshape(1, 28, 28, 1))\n",
    "print(pred.argmax())"
   ]
  },
  {
   "cell_type": "markdown",
   "metadata": {
    "id": "tbsL2yIf0LxJ"
   },
   "source": [
    "# **Exploration**"
   ]
  },
  {
   "cell_type": "markdown",
   "metadata": {
    "id": "d3Vrz0cN0Oun"
   },
   "source": [
    "## Number of filters"
   ]
  },
  {
   "cell_type": "code",
   "execution_count": null,
   "metadata": {
    "colab": {
     "base_uri": "https://localhost:8080/",
     "height": 867
    },
    "id": "ciamgBZ1zZXQ",
    "outputId": "0705936c-4a68-4070-802d-39da56ab0cdc"
   },
   "outputs": [
    {
     "name": "stdout",
     "output_type": "stream",
     "text": [
      "Epoch 1/5\n",
      "1875/1875 [==============================] - 17s 9ms/step - loss: 0.3982 - accuracy: 0.8861\n",
      "Epoch 2/5\n",
      "1875/1875 [==============================] - 16s 9ms/step - loss: 0.2581 - accuracy: 0.9264\n",
      "Epoch 3/5\n",
      "1875/1875 [==============================] - 17s 9ms/step - loss: 0.2054 - accuracy: 0.9417\n",
      "Epoch 4/5\n",
      "1875/1875 [==============================] - 17s 9ms/step - loss: 0.1644 - accuracy: 0.9527\n",
      "Epoch 5/5\n",
      "1875/1875 [==============================] - 17s 9ms/step - loss: 0.1408 - accuracy: 0.9599\n",
      "Epoch 1/5\n",
      "1875/1875 [==============================] - 23s 12ms/step - loss: 0.2704 - accuracy: 0.9224\n",
      "Epoch 2/5\n",
      "1875/1875 [==============================] - 23s 12ms/step - loss: 0.1181 - accuracy: 0.9658\n",
      "Epoch 3/5\n",
      "1875/1875 [==============================] - 23s 12ms/step - loss: 0.0855 - accuracy: 0.9752\n",
      "Epoch 4/5\n",
      "1875/1875 [==============================] - 23s 12ms/step - loss: 0.0699 - accuracy: 0.9786\n",
      "Epoch 5/5\n",
      "1875/1875 [==============================] - 23s 12ms/step - loss: 0.0599 - accuracy: 0.9817\n",
      "Epoch 1/5\n",
      "1875/1875 [==============================] - 50s 27ms/step - loss: 0.2054 - accuracy: 0.9406\n",
      "Epoch 2/5\n",
      "1875/1875 [==============================] - 50s 27ms/step - loss: 0.0929 - accuracy: 0.9724\n",
      "Epoch 3/5\n",
      "1875/1875 [==============================] - 50s 27ms/step - loss: 0.0717 - accuracy: 0.9778\n",
      "Epoch 4/5\n",
      "1875/1875 [==============================] - 54s 29ms/step - loss: 0.0594 - accuracy: 0.9811\n",
      "Epoch 5/5\n",
      "1875/1875 [==============================] - 50s 27ms/step - loss: 0.0499 - accuracy: 0.9843\n",
      "Epoch 1/5\n",
      "1875/1875 [==============================] - 171s 91ms/step - loss: 0.1857 - accuracy: 0.9443\n",
      "Epoch 2/5\n",
      "1875/1875 [==============================] - 172s 92ms/step - loss: 0.0976 - accuracy: 0.9709\n",
      "Epoch 3/5\n",
      "1875/1875 [==============================] - 174s 93ms/step - loss: 0.0826 - accuracy: 0.9747\n",
      "Epoch 4/5\n",
      "1875/1875 [==============================] - 171s 91ms/step - loss: 0.0721 - accuracy: 0.9781\n",
      "Epoch 5/5\n",
      "1875/1875 [==============================] - 170s 91ms/step - loss: 0.0636 - accuracy: 0.9805\n",
      "Epoch 1/5\n",
      "1875/1875 [==============================] - 634s 338ms/step - loss: 0.2204 - accuracy: 0.9368\n",
      "Epoch 2/5\n",
      "1875/1875 [==============================] - 632s 337ms/step - loss: 0.1606 - accuracy: 0.9600\n",
      "Epoch 3/5\n",
      "1875/1875 [==============================] - 631s 337ms/step - loss: 0.1466 - accuracy: 0.9652\n",
      "Epoch 4/5\n",
      "1875/1875 [==============================] - 636s 339ms/step - loss: 0.1333 - accuracy: 0.9702\n",
      "Epoch 5/5\n",
      "1875/1875 [==============================] - 636s 339ms/step - loss: 0.1210 - accuracy: 0.9740\n"
     ]
    }
   ],
   "source": [
    "filters = [4, 32, 128, 512, 2056]\n",
    "times=[]\n",
    "trainAcc=[]\n",
    "testAcc=[]\n",
    "for i in filters:\n",
    "  model = Sequential()\n",
    "  model.add(Conv2D(i, kernel_size=(3,3), input_shape=input_shape))\n",
    "  model.add(MaxPooling2D(pool_size=(2, 2)))\n",
    "  model.add(Flatten())\n",
    "  model.add(Dense(128, activation=tf.nn.relu))\n",
    "  model.add(Dense(10,activation=tf.nn.softmax))\n",
    "  model.compile(optimizer='adam', \n",
    "              loss='sparse_categorical_crossentropy', \n",
    "              metrics=['accuracy'])\n",
    "  init=time.time()\n",
    "  model.fit(x=x_train,y=y_train, epochs=5)\n",
    "  times.append(time.time()-init)\n",
    "  loss,Acc=model.evaluate(x_train,y_train,verbose=0)\n",
    "  trainAcc.append(Acc)\n",
    "  loss,Acc=model.evaluate(x_test,y_test,verbose=0)\n",
    "  testAcc.append(Acc)\n"
   ]
  },
  {
   "cell_type": "markdown",
   "metadata": {
    "id": "0JzQS1Nl2pIQ"
   },
   "source": [
    "Training Times"
   ]
  },
  {
   "cell_type": "code",
   "execution_count": null,
   "metadata": {
    "colab": {
     "base_uri": "https://localhost:8080/",
     "height": 353
    },
    "id": "Fl_rpOaK18qc",
    "outputId": "0fb3884c-3c60-4100-8104-f3c4ea2c4b6f"
   },
   "outputs": [
    {
     "name": "stdout",
     "output_type": "stream",
     "text": [
      "Training Times\n"
     ]
    },
    {
     "data": {
      "image/png": "[encoded data removed]",
      "text/plain": [
       "<Figure size 432x288 with 1 Axes>"
      ]
     },
     "metadata": {
      "needs_background": "light",
      "tags": []
     },
     "output_type": "display_data"
    }
   ],
   "source": [
    "fig = plt.figure()\n",
    "ax = fig.add_axes([0,0,1,1])\n",
    "filters = ['4', '32', '128', '512', '2056']\n",
    "ax.bar(filters,times)\n",
    "print(\"Training Times\")\n",
    "plt.show()"
   ]
  },
  {
   "cell_type": "markdown",
   "metadata": {
    "id": "t43iiOhD2rWg"
   },
   "source": [
    "Train And Test Accuracy"
   ]
  },
  {
   "cell_type": "code",
   "execution_count": null,
   "metadata": {
    "colab": {
     "base_uri": "https://localhost:8080/",
     "height": 353
    },
    "id": "dAImoVTL2uge",
    "outputId": "f3d9555a-5dc0-45bd-c0d5-749d5146bcce"
   },
   "outputs": [
    {
     "name": "stdout",
     "output_type": "stream",
     "text": [
      "Train and test loss: \n"
     ]
    },
    {
     "data": {
      "image/png": "[encoded data removed]",
      "text/plain": [
       "<Figure size 432x288 with 1 Axes>"
      ]
     },
     "metadata": {
      "needs_background": "light",
      "tags": []
     },
     "output_type": "display_data"
    }
   ],
   "source": [
    "print(\"Train and test loss: \")\n",
    "data = [trainAcc,testAcc]\n",
    "X = np.arange(len(filters))\n",
    "fig = plt.figure()\n",
    "ax = fig.add_axes([0,0,1,1])\n",
    "ax.bar(X + 0.00, data[0], color = 'b', width = 0.25)\n",
    "ax.bar(X + 0.25, data[1], color = 'g', width = 0.25)\n",
    "ax.legend(labels=['Train Accuracy','Test Accuracy'])\n",
    "plt.show()"
   ]
  },
  {
   "cell_type": "markdown",
   "metadata": {
    "id": "rIAXNb1w27OH"
   },
   "source": [
    "## Number of Layers"
   ]
  },
  {
   "cell_type": "code",
   "execution_count": null,
   "metadata": {
    "colab": {
     "base_uri": "https://localhost:8080/",
     "height": 527
    },
    "id": "TqEoFI6X2_hE",
    "outputId": "b4eee1c0-2a49-4ace-9b8f-491d2eab98d6"
   },
   "outputs": [
    {
     "name": "stdout",
     "output_type": "stream",
     "text": [
      "Epoch 1/5\n",
      "1875/1875 [==============================] - 25s 13ms/step - loss: 0.7097 - accuracy: 0.8532 - val_loss: 0.7167 - val_accuracy: 0.8749\n",
      "Epoch 2/5\n",
      "1875/1875 [==============================] - 25s 13ms/step - loss: 0.7324 - accuracy: 0.8691 - val_loss: 0.7366 - val_accuracy: 0.8767\n",
      "Epoch 3/5\n",
      "1875/1875 [==============================] - 25s 13ms/step - loss: 0.7176 - accuracy: 0.8767 - val_loss: 1.0962 - val_accuracy: 0.8791\n",
      "Epoch 4/5\n",
      "1875/1875 [==============================] - 25s 13ms/step - loss: 0.7853 - accuracy: 0.8776 - val_loss: 0.7096 - val_accuracy: 0.8685\n",
      "Epoch 5/5\n",
      "1875/1875 [==============================] - 25s 14ms/step - loss: 0.7924 - accuracy: 0.8786 - val_loss: 1.0358 - val_accuracy: 0.8591\n",
      "Epoch 1/5\n",
      "1875/1875 [==============================] - 93s 50ms/step - loss: 2.7372 - accuracy: 0.8537 - val_loss: 0.4069 - val_accuracy: 0.9098\n",
      "Epoch 2/5\n",
      "1875/1875 [==============================] - 89s 47ms/step - loss: 0.4033 - accuracy: 0.8964 - val_loss: 0.5081 - val_accuracy: 0.8935\n",
      "Epoch 3/5\n",
      "1875/1875 [==============================] - 88s 47ms/step - loss: 4.9413 - accuracy: 0.8675 - val_loss: 0.4463 - val_accuracy: 0.9031\n",
      "Epoch 4/5\n",
      "1875/1875 [==============================] - 89s 47ms/step - loss: 0.4491 - accuracy: 0.8947 - val_loss: 0.5331 - val_accuracy: 0.8885\n",
      "Epoch 5/5\n",
      "1875/1875 [==============================] - 89s 47ms/step - loss: 7.1011 - accuracy: 0.8764 - val_loss: 0.4846 - val_accuracy: 0.8937\n",
      "Epoch 1/5\n",
      "1875/1875 [==============================] - 144s 77ms/step - loss: 28.3264 - accuracy: 0.8427 - val_loss: 1.1953 - val_accuracy: 0.8902\n",
      "Epoch 2/5\n",
      "1875/1875 [==============================] - 148s 79ms/step - loss: 0.7745 - accuracy: 0.8707 - val_loss: 0.6174 - val_accuracy: 0.8833\n",
      "Epoch 3/5\n",
      "1875/1875 [==============================] - 144s 77ms/step - loss: 0.5285 - accuracy: 0.8821 - val_loss: 0.3813 - val_accuracy: 0.9061\n",
      "Epoch 4/5\n",
      "1875/1875 [==============================] - 143s 76ms/step - loss: 0.3971 - accuracy: 0.8967 - val_loss: 0.4888 - val_accuracy: 0.8666\n",
      "Epoch 5/5\n",
      "1875/1875 [==============================] - 145s 77ms/step - loss: 96.1608 - accuracy: 0.8728 - val_loss: 8.2215 - val_accuracy: 0.8311\n"
     ]
    }
   ],
   "source": [
    "layers=[2,3,4]\n",
    "times=[]\n",
    "trainAcc=[]\n",
    "testAcc=[]\n",
    "for i in range(len(layers)):\n",
    "  model=tf.keras.Sequential()\n",
    "  for j in range(layers[i]-1):\n",
    "    model.add(Conv2D(32, kernel_size=(3,3), input_shape=input_shape))\n",
    "  model.add(Flatten())\n",
    "  model.add(tf.keras.layers.Dense(10,activation='softmax'))\n",
    "  model.compile(\n",
    "    loss='sparse_categorical_crossentropy',\n",
    "    optimizer=tf.keras.optimizers.Adam(0.01),\n",
    "    metrics=['accuracy'],\n",
    "  )\n",
    "  init=time.time()\n",
    "  model.fit(x=x_train,y=y_train,epochs=5,validation_data=(x_test,y_test))\n",
    "  times.append(time.time()-init)\n",
    "  loss,Acc=model.evaluate(x_train,y_train,verbose=0)\n",
    "  trainAcc.append(Acc)\n",
    "  loss,Acc=model.evaluate(x_test,y_test,verbose=0)\n",
    "  testAcc.append(Acc)"
   ]
  },
  {
   "cell_type": "markdown",
   "metadata": {
    "id": "k66Gqt9R33nj"
   },
   "source": [
    "Training Times"
   ]
  },
  {
   "cell_type": "code",
   "execution_count": null,
   "metadata": {
    "colab": {
     "base_uri": "https://localhost:8080/",
     "height": 353
    },
    "id": "7wX98TwRPjQF",
    "outputId": "796d30d0-00b6-4470-f61e-3feb982ad3e6"
   },
   "outputs": [
    {
     "name": "stdout",
     "output_type": "stream",
     "text": [
      "Training Times\n"
     ]
    },
    {
     "data": {
      "image/png": "[encoded data removed]",
      "text/plain": [
       "<Figure size 432x288 with 1 Axes>"
      ]
     },
     "metadata": {
      "needs_background": "light",
      "tags": []
     },
     "output_type": "display_data"
    }
   ],
   "source": [
    "fig = plt.figure()\n",
    "ax = fig.add_axes([0,0,1,1])\n",
    "layers = ['2','3','4']\n",
    "ax.bar(layers,times)\n",
    "print(\"Training Times\")\n",
    "plt.show()"
   ]
  },
  {
   "cell_type": "markdown",
   "metadata": {
    "id": "LvnqyDvJ34MM"
   },
   "source": [
    "Training And Testing Accuracy"
   ]
  },
  {
   "cell_type": "code",
   "execution_count": null,
   "metadata": {
    "colab": {
     "base_uri": "https://localhost:8080/",
     "height": 353
    },
    "id": "XPPItaSL34gT",
    "outputId": "568dddbf-27dd-4efe-fc2f-d43fbb45e565"
   },
   "outputs": [
    {
     "name": "stdout",
     "output_type": "stream",
     "text": [
      "Train and test loss: \n"
     ]
    },
    {
     "data": {
      "image/png": "[encoded data removed]",
      "text/plain": [
       "<Figure size 432x288 with 1 Axes>"
      ]
     },
     "metadata": {
      "needs_background": "light",
      "tags": []
     },
     "output_type": "display_data"
    }
   ],
   "source": [
    "print(\"Train and test loss: \")\n",
    "data = [trainAcc,testAcc]\n",
    "X = np.arange(len(layers))\n",
    "fig = plt.figure()\n",
    "ax = fig.add_axes([0,0,1,1])\n",
    "ax.bar(X + 0.00, data[0], color = 'b', width = 0.25)\n",
    "ax.bar(X + 0.25, data[1], color = 'g', width = 0.25)\n",
    "ax.legend(labels=['Train Accuracy','Test Accuracy'])\n",
    "plt.show()"
   ]
  },
  {
   "cell_type": "markdown",
   "metadata": {
    "id": "SCcylF1T4dnW"
   },
   "source": [
    "# Size of Filters"
   ]
  },
  {
   "cell_type": "code",
   "execution_count": null,
   "metadata": {
    "colab": {
     "base_uri": "https://localhost:8080/",
     "height": 221
    },
    "id": "58huEPdWKGAk",
    "outputId": "c22ca3ac-adb3-4c09-d90d-8b4260b67548"
   },
   "outputs": [
    {
     "name": "stdout",
     "output_type": "stream",
     "text": [
      "Epoch 1/2\n",
      "1875/1875 [==============================] - 27s 14ms/step - loss: 0.2641 - accuracy: 0.9226\n",
      "Epoch 2/2\n",
      "1875/1875 [==============================] - 27s 15ms/step - loss: 0.0885 - accuracy: 0.9733\n",
      "Epoch 1/2\n",
      "1875/1875 [==============================] - 35s 19ms/step - loss: 0.2221 - accuracy: 0.9354\n",
      "Epoch 2/2\n",
      "1875/1875 [==============================] - 35s 19ms/step - loss: 0.0828 - accuracy: 0.9754\n",
      "Epoch 1/2\n",
      "1875/1875 [==============================] - 37s 20ms/step - loss: 0.2639 - accuracy: 0.9238\n",
      "Epoch 2/2\n",
      "1875/1875 [==============================] - 37s 20ms/step - loss: 0.1072 - accuracy: 0.9687\n"
     ]
    }
   ],
   "source": [
    "filter_size = [3,5,7]\n",
    "times=[]\n",
    "trainAcc=[]\n",
    "testAcc=[]\n",
    "for i in filter_size:\n",
    "  model = Sequential()\n",
    "  model.add(Conv2D(16, kernel_size=(i,i), input_shape=input_shape))\n",
    "  model.add(MaxPooling2D(pool_size=(2, 2)))\n",
    "  model.add(Conv2D(16, kernel_size=(i,i), input_shape=input_shape))\n",
    "  model.add(MaxPooling2D(pool_size=(2, 2)))\n",
    "  model.add(Flatten())\n",
    "  model.add(Dense(10,activation=tf.nn.softmax))\n",
    "  model.compile(optimizer='adam', \n",
    "              loss='sparse_categorical_crossentropy', \n",
    "              metrics=['accuracy'])\n",
    "  init=time.time()\n",
    "  model.fit(x=x_train,y=y_train, epochs=2)\n",
    "  times.append(time.time()-init)\n",
    "  loss,Acc=model.evaluate(x_train,y_train,verbose=0)\n",
    "  trainAcc.append(Acc)\n",
    "  loss,Acc=model.evaluate(x_test,y_test,verbose=0)\n",
    "  testAcc.append(Acc)"
   ]
  },
  {
   "cell_type": "markdown",
   "metadata": {
    "id": "9byElfTM5NsU"
   },
   "source": [
    "Training Times"
   ]
  },
  {
   "cell_type": "code",
   "execution_count": null,
   "metadata": {
    "colab": {
     "base_uri": "https://localhost:8080/",
     "height": 353
    },
    "id": "Wi64Anbt5Nze",
    "outputId": "f0b2aba0-976f-449f-a698-d9287ba507d4"
   },
   "outputs": [
    {
     "name": "stdout",
     "output_type": "stream",
     "text": [
      "Training Times\n"
     ]
    },
    {
     "data": {
      "image/png": "[encoded data removed]",
      "text/plain": [
       "<Figure size 432x288 with 1 Axes>"
      ]
     },
     "metadata": {
      "needs_background": "light",
      "tags": []
     },
     "output_type": "display_data"
    }
   ],
   "source": [
    "fig = plt.figure()\n",
    "ax = fig.add_axes([0,0,1,1])\n",
    "filter_size = ['3*3','5*5','7*7']\n",
    "ax.bar(filter_size,times)\n",
    "print(\"Training Times\")\n",
    "plt.show()"
   ]
  },
  {
   "cell_type": "markdown",
   "metadata": {
    "id": "axhtCxsZ5N6q"
   },
   "source": [
    "Accuracies"
   ]
  },
  {
   "cell_type": "code",
   "execution_count": null,
   "metadata": {
    "colab": {
     "base_uri": "https://localhost:8080/",
     "height": 353
    },
    "id": "13wk8Jr05OA9",
    "outputId": "28a74acf-d3ee-4324-a9f9-631212ae5c2c"
   },
   "outputs": [
    {
     "name": "stdout",
     "output_type": "stream",
     "text": [
      "Train and test loss: \n"
     ]
    },
    {
     "data": {
      "image/png": "[encoded data removed]",
      "text/plain": [
       "<Figure size 432x288 with 1 Axes>"
      ]
     },
     "metadata": {
      "needs_background": "light",
      "tags": []
     },
     "output_type": "display_data"
    }
   ],
   "source": [
    "print(\"Train and test loss: \")\n",
    "data = [trainAcc,testAcc]\n",
    "X = np.arange(len(filter_size))\n",
    "fig = plt.figure()\n",
    "ax = fig.add_axes([0,0,1,1])\n",
    "ax.bar(X + 0.00, data[0], color = 'b', width = 0.25)\n",
    "ax.bar(X + 0.25, data[1], color = 'g', width = 0.25)\n",
    "ax.legend(labels=['Train Accuracy','Test Accuracy'])\n",
    "plt.show()"
   ]
  },
  {
   "cell_type": "markdown",
   "metadata": {
    "id": "BcWbl0x85of6"
   },
   "source": [
    "## Activation function"
   ]
  },
  {
   "cell_type": "markdown",
   "metadata": {
    "id": "cyip8DNR57zH"
   },
   "source": [
    "Sigmoid"
   ]
  },
  {
   "cell_type": "code",
   "execution_count": null,
   "metadata": {
    "colab": {
     "base_uri": "https://localhost:8080/",
     "height": 102
    },
    "id": "VfTbpGr75nQF",
    "outputId": "0893e6e4-9040-4db9-dc2d-4ff0c8f5bdcb"
   },
   "outputs": [
    {
     "name": "stdout",
     "output_type": "stream",
     "text": [
      "Epoch 1/2\n",
      "1875/1875 [==============================] - 27s 14ms/step - loss: 0.2734 - accuracy: 0.9207\n",
      "Epoch 2/2\n",
      "1875/1875 [==============================] - 27s 15ms/step - loss: 0.0991 - accuracy: 0.9710\n"
     ]
    },
    {
     "data": {
      "text/plain": [
       "<tensorflow.python.keras.callbacks.History at 0x7f29dfb607f0>"
      ]
     },
     "execution_count": 133,
     "metadata": {
      "tags": []
     },
     "output_type": "execute_result"
    }
   ],
   "source": [
    "model = Sequential()\n",
    "model.add(Conv2D(16, kernel_size=(3,3), input_shape=input_shape))\n",
    "model.add(MaxPooling2D(pool_size=(2, 2)))\n",
    "model.add(Conv2D(16, kernel_size=(3,3), input_shape=input_shape))\n",
    "model.add(MaxPooling2D(pool_size=(2, 2)))\n",
    "model.add(Flatten())\n",
    "model.add(Dense(10,activation=tf.nn.softmax))\n",
    "model.compile(optimizer='adam', \n",
    "              loss='sparse_categorical_crossentropy', \n",
    "              metrics=['accuracy'])\n",
    "model.fit(x=x_train,y=y_train, epochs=2)"
   ]
  },
  {
   "cell_type": "markdown",
   "metadata": {
    "id": "JwQqOxoK5-kG"
   },
   "source": [
    "Sigmoid Accuracy"
   ]
  },
  {
   "cell_type": "code",
   "execution_count": null,
   "metadata": {
    "colab": {
     "base_uri": "https://localhost:8080/",
     "height": 85
    },
    "id": "1SSOrHfd59m9",
    "outputId": "04dda202-9752-459c-98bb-fd8be533cd28"
   },
   "outputs": [
    {
     "name": "stdout",
     "output_type": "stream",
     "text": [
      "Training accuracy: 0.9761666655540466\n",
      "Training Loss:  0.07743234187364578\n",
      "Testing Accuracy: 0.9783999919891357\n",
      "Testing loss:  0.0702555924654007\n"
     ]
    }
   ],
   "source": [
    "trainLoss,trainAcc=model.evaluate(x_train,y_train,verbose=0)\n",
    "testLoss,testAcc=model.evaluate(x_test,y_test,verbose=0)\n",
    "print(\"Training accuracy:\", trainAcc)\n",
    "print(\"Training Loss: \",trainLoss)\n",
    "print(\"Testing Accuracy:\" ,testAcc)\n",
    "print(\"Testing loss: \",testLoss)"
   ]
  },
  {
   "cell_type": "markdown",
   "metadata": {
    "id": "zUPcA_-Z6BI2"
   },
   "source": [
    "Relu Activation"
   ]
  },
  {
   "cell_type": "code",
   "execution_count": null,
   "metadata": {
    "colab": {
     "base_uri": "https://localhost:8080/",
     "height": 102
    },
    "id": "j_psu6iv6BZG",
    "outputId": "b63fd1fd-05da-4639-b882-767979845415"
   },
   "outputs": [
    {
     "name": "stdout",
     "output_type": "stream",
     "text": [
      "Epoch 1/2\n",
      "1875/1875 [==============================] - 27s 14ms/step - loss: 2.3655 - accuracy: 0.0987\n",
      "Epoch 2/2\n",
      "1875/1875 [==============================] - 27s 14ms/step - loss: 2.3026 - accuracy: 0.0987\n"
     ]
    },
    {
     "data": {
      "text/plain": [
       "<tensorflow.python.keras.callbacks.History at 0x7f29e4e1c390>"
      ]
     },
     "execution_count": 135,
     "metadata": {
      "tags": []
     },
     "output_type": "execute_result"
    }
   ],
   "source": [
    "model = Sequential()\n",
    "model.add(Conv2D(16, kernel_size=(3,3), input_shape=input_shape))\n",
    "model.add(MaxPooling2D(pool_size=(2, 2)))\n",
    "model.add(Conv2D(16, kernel_size=(3,3), input_shape=input_shape))\n",
    "model.add(MaxPooling2D(pool_size=(2, 2)))\n",
    "model.add(Flatten())\n",
    "model.add(Dense(10,activation=tf.nn.relu))\n",
    "model.compile(optimizer='adam', \n",
    "              loss='sparse_categorical_crossentropy', \n",
    "              metrics=['accuracy'])\n",
    "model.fit(x=x_train,y=y_train, epochs=2)"
   ]
  },
  {
   "cell_type": "markdown",
   "metadata": {
    "id": "DJ42G8h76Boq"
   },
   "source": [
    "Relu Accuracy"
   ]
  },
  {
   "cell_type": "code",
   "execution_count": null,
   "metadata": {
    "colab": {
     "base_uri": "https://localhost:8080/",
     "height": 85
    },
    "id": "AgzM6hOX6BwQ",
    "outputId": "ce60c175-d1f3-4d9a-b530-cf552efd331c"
   },
   "outputs": [
    {
     "name": "stdout",
     "output_type": "stream",
     "text": [
      "Training accuracy: 0.09871666878461838\n",
      "Training Loss:  2.3025569915771484\n",
      "Testing Accuracy: 0.09799999743700027\n",
      "Testing loss:  2.3036515712738037\n"
     ]
    }
   ],
   "source": [
    "trainLoss,trainAcc=model.evaluate(x_train,y_train,verbose=0)\n",
    "testLoss,testAcc=model.evaluate(x_test,y_test,verbose=0)\n",
    "print(\"Training accuracy:\", trainAcc)\n",
    "print(\"Training Loss: \",trainLoss)\n",
    "print(\"Testing Accuracy:\" ,testAcc)\n",
    "print(\"Testing loss: \",testLoss)"
   ]
  },
  {
   "cell_type": "markdown",
   "metadata": {
    "id": "FGy0n81s6j0p"
   },
   "source": [
    "## Filter Size combinations:"
   ]
  },
  {
   "cell_type": "code",
   "execution_count": null,
   "metadata": {
    "colab": {
     "base_uri": "https://localhost:8080/",
     "height": 102
    },
    "id": "ct8h8Cl87Wl6",
    "outputId": "40d4baf3-531a-4f6a-ed5b-df0c54af64b6"
   },
   "outputs": [
    {
     "name": "stdout",
     "output_type": "stream",
     "text": [
      "Epoch 1/2\n",
      "1875/1875 [==============================] - 31s 17ms/step - loss: 0.2450 - accuracy: 0.9276\n",
      "Epoch 2/2\n",
      "1875/1875 [==============================] - 31s 17ms/step - loss: 0.0868 - accuracy: 0.9736\n"
     ]
    },
    {
     "data": {
      "text/plain": [
       "<tensorflow.python.keras.callbacks.History at 0x7f29e52e9e10>"
      ]
     },
     "execution_count": 137,
     "metadata": {
      "tags": []
     },
     "output_type": "execute_result"
    }
   ],
   "source": [
    "model = Sequential()\n",
    "model.add(Conv2D(16, kernel_size=(3,3), input_shape=input_shape))\n",
    "model.add(MaxPooling2D(pool_size=(2, 2)))\n",
    "model.add(Conv2D(16, kernel_size=(5,5), input_shape=input_shape))\n",
    "model.add(MaxPooling2D(pool_size=(2, 2)))\n",
    "model.add(Flatten())\n",
    "model.add(Dense(10,activation=tf.nn.softmax))\n",
    "model.compile(optimizer='adam', \n",
    "              loss='sparse_categorical_crossentropy', \n",
    "              metrics=['accuracy'])\n",
    "model.fit(x=x_train,y=y_train, epochs=2)"
   ]
  },
  {
   "cell_type": "markdown",
   "metadata": {
    "id": "fu1-jY9Q7s1e"
   },
   "source": [
    "Layer 1 - 3x3                                                                                        \n",
    "Layer 2 - 5x5"
   ]
  },
  {
   "cell_type": "code",
   "execution_count": null,
   "metadata": {
    "colab": {
     "base_uri": "https://localhost:8080/",
     "height": 85
    },
    "id": "jDN4qfvw7tfh",
    "outputId": "f40cd75c-42a3-4519-e71b-08110b683476"
   },
   "outputs": [
    {
     "name": "stdout",
     "output_type": "stream",
     "text": [
      "Training accuracy: 0.9752166867256165\n",
      "Training Loss:  0.07766691595315933\n",
      "Testing Accuracy: 0.9757000207901001\n",
      "Testing loss:  0.07455945014953613\n"
     ]
    }
   ],
   "source": [
    "trainLoss,trainAcc=model.evaluate(x_train,y_train,verbose=0)\n",
    "testLoss,testAcc=model.evaluate(x_test,y_test,verbose=0)\n",
    "print(\"Training accuracy:\", trainAcc)\n",
    "print(\"Training Loss: \",trainLoss)\n",
    "print(\"Testing Accuracy:\" ,testAcc)\n",
    "print(\"Testing loss: \",testLoss)"
   ]
  },
  {
   "cell_type": "code",
   "execution_count": null,
   "metadata": {
    "colab": {
     "base_uri": "https://localhost:8080/",
     "height": 102
    },
    "id": "LxsXqnqF799O",
    "outputId": "6a7d356e-20e0-4cb4-e207-2958e9a318c9"
   },
   "outputs": [
    {
     "name": "stdout",
     "output_type": "stream",
     "text": [
      "Epoch 1/2\n",
      "1875/1875 [==============================] - 31s 17ms/step - loss: 0.2420 - accuracy: 0.9294\n",
      "Epoch 2/2\n",
      "1875/1875 [==============================] - 31s 17ms/step - loss: 0.0859 - accuracy: 0.9744\n"
     ]
    },
    {
     "data": {
      "text/plain": [
       "<tensorflow.python.keras.callbacks.History at 0x7f29dfd05160>"
      ]
     },
     "execution_count": 139,
     "metadata": {
      "tags": []
     },
     "output_type": "execute_result"
    }
   ],
   "source": [
    "model = Sequential()\n",
    "model.add(Conv2D(16, kernel_size=(5,5), input_shape=input_shape))\n",
    "model.add(MaxPooling2D(pool_size=(2, 2)))\n",
    "model.add(Conv2D(16, kernel_size=(3,3), input_shape=input_shape))\n",
    "model.add(MaxPooling2D(pool_size=(2, 2)))\n",
    "model.add(Flatten())\n",
    "model.add(Dense(10,activation=tf.nn.softmax))\n",
    "model.compile(optimizer='adam', \n",
    "              loss='sparse_categorical_crossentropy', \n",
    "              metrics=['accuracy'])\n",
    "model.fit(x=x_train,y=y_train, epochs=2)"
   ]
  },
  {
   "cell_type": "markdown",
   "metadata": {
    "id": "47pBVf8D7-W_"
   },
   "source": [
    "Layer 1 - 5x5                                                                                        \n",
    "Layer 2 - 3x3"
   ]
  },
  {
   "cell_type": "code",
   "execution_count": null,
   "metadata": {
    "colab": {
     "base_uri": "https://localhost:8080/",
     "height": 85
    },
    "id": "60LBxDlT8H-j",
    "outputId": "ca5bceb0-6f3c-4d84-dd81-846f6ad5d094"
   },
   "outputs": [
    {
     "name": "stdout",
     "output_type": "stream",
     "text": [
      "Training accuracy: 0.9797499775886536\n",
      "Training Loss:  0.06597169488668442\n",
      "Testing Accuracy: 0.980400025844574\n",
      "Testing loss:  0.06498978286981583\n"
     ]
    }
   ],
   "source": [
    "trainLoss,trainAcc=model.evaluate(x_train,y_train,verbose=0)\n",
    "testLoss,testAcc=model.evaluate(x_test,y_test,verbose=0)\n",
    "print(\"Training accuracy:\", trainAcc)\n",
    "print(\"Training Loss: \",trainLoss)\n",
    "print(\"Testing Accuracy:\" ,testAcc)\n",
    "print(\"Testing loss: \",testLoss)"
   ]
  },
  {
   "cell_type": "markdown",
   "metadata": {
    "id": "evAEjkmP8OV7"
   },
   "source": [
    "## Influence of Striding"
   ]
  },
  {
   "cell_type": "markdown",
   "metadata": {
    "id": "HefvhJzO8m27"
   },
   "source": [
    "Without Striding"
   ]
  },
  {
   "cell_type": "code",
   "execution_count": null,
   "metadata": {
    "colab": {
     "base_uri": "https://localhost:8080/",
     "height": 85
    },
    "id": "NyLdBulO8S5G",
    "outputId": "b85f9ea7-c569-430f-9766-5c82c8b287a4"
   },
   "outputs": [
    {
     "name": "stdout",
     "output_type": "stream",
     "text": [
      "Epoch 1/2\n",
      "1875/1875 [==============================] - 39s 21ms/step - loss: 2.2186 - accuracy: 0.2136\n",
      "Epoch 2/2\n",
      "1875/1875 [==============================] - 39s 21ms/step - loss: 2.3025 - accuracy: 0.0987\n"
     ]
    }
   ],
   "source": [
    "times=[]\n",
    "trainAcc=[]\n",
    "testAcc=[]\n",
    "model = Sequential()\n",
    "model.add(Conv2D(32, kernel_size=(3,3), input_shape=input_shape))\n",
    "model.add(MaxPooling2D(pool_size=(2, 2)))\n",
    "model.add(Conv2D(32, kernel_size=(3,3), input_shape=input_shape))\n",
    "model.add(MaxPooling2D(pool_size=(2, 2)))\n",
    "model.add(Flatten())\n",
    "model.add(Dense(128,activation=tf.nn.relu))\n",
    "model.add(Dense(10,activation=tf.nn.relu))\n",
    "model.compile(optimizer='adam', \n",
    "            loss='sparse_categorical_crossentropy', \n",
    "            metrics=['accuracy'])\n",
    "init=time.time()\n",
    "model.fit(x=x_train,y=y_train, epochs=2)\n",
    "times.append(time.time()-init)\n",
    "loss,Acc=model.evaluate(x_train,y_train,verbose=0)\n",
    "trainAcc.append(Acc)\n",
    "loss,Acc=model.evaluate(x_test,y_test,verbose=0)\n",
    "testAcc.append(Acc)"
   ]
  },
  {
   "cell_type": "markdown",
   "metadata": {
    "id": "1fGpN8g180M2"
   },
   "source": [
    "With Striding"
   ]
  },
  {
   "cell_type": "code",
   "execution_count": null,
   "metadata": {
    "colab": {
     "base_uri": "https://localhost:8080/",
     "height": 85
    },
    "id": "sb1iDjy180c3",
    "outputId": "7b5a445b-5b63-453a-c8e9-0dbc7d46f66e"
   },
   "outputs": [
    {
     "name": "stdout",
     "output_type": "stream",
     "text": [
      "Epoch 1/2\n",
      "1875/1875 [==============================] - 9s 5ms/step - loss: 2.5383 - accuracy: 0.1156\n",
      "Epoch 2/2\n",
      "1875/1875 [==============================] - 10s 5ms/step - loss: 2.3026 - accuracy: 0.0987\n"
     ]
    }
   ],
   "source": [
    "model = Sequential()\n",
    "model.add(Conv2D(32,strides=(2, 2), kernel_size=(3,3), input_shape=input_shape))\n",
    "model.add(MaxPooling2D(pool_size=(2, 2)))\n",
    "model.add(Conv2D(32,strides=(2, 2), kernel_size=(3,3), input_shape=input_shape))\n",
    "model.add(MaxPooling2D(pool_size=(2, 2)))\n",
    "model.add(Flatten())\n",
    "model.add(Dense(128, activation=tf.nn.relu))\n",
    "model.add(Dense(10,activation=tf.nn.relu))\n",
    "model.compile(optimizer='adam', \n",
    "            loss='sparse_categorical_crossentropy', \n",
    "            metrics=['accuracy'])\n",
    "init=time.time()\n",
    "model.fit(x=x_train,y=y_train, epochs=2)\n",
    "times.append(time.time()-init)\n",
    "loss,Acc=model.evaluate(x_train,y_train,verbose=0)\n",
    "trainAcc.append(Acc)\n",
    "loss,Acc=model.evaluate(x_test,y_test,verbose=0)\n",
    "testAcc.append(Acc)"
   ]
  },
  {
   "cell_type": "markdown",
   "metadata": {
    "id": "GlHho1Gm80pd"
   },
   "source": [
    "Accuracy Comparison"
   ]
  },
  {
   "cell_type": "code",
   "execution_count": null,
   "metadata": {
    "colab": {
     "base_uri": "https://localhost:8080/",
     "height": 353
    },
    "id": "fJRDxvZD805x",
    "outputId": "2483b5a5-070d-4b01-f2de-5e01bad06c8a"
   },
   "outputs": [
    {
     "name": "stdout",
     "output_type": "stream",
     "text": [
      "Train and test loss: \n"
     ]
    },
    {
     "data": {
      "image/png": "[encoded data removed]",
      "text/plain": [
       "<Figure size 432x288 with 1 Axes>"
      ]
     },
     "metadata": {
      "needs_background": "light",
      "tags": []
     },
     "output_type": "display_data"
    }
   ],
   "source": [
    "print(\"Train and test loss: \")\n",
    "data = [trainAcc,testAcc]\n",
    "X = np.arange(len(trainAcc))\n",
    "fig = plt.figure()\n",
    "ax = fig.add_axes([0,0,1,1])\n",
    "ax.bar(X + 0.00, data[0], color = 'b', width = 0.25)\n",
    "ax.bar(X + 0.25, data[1], color = 'g', width = 0.25)\n",
    "ax.legend(labels=['Train Accuracy','Test Accuracy'])\n",
    "plt.show()"
   ]
  },
  {
   "cell_type": "markdown",
   "metadata": {
    "id": "TukMqTrP81Ka"
   },
   "source": [
    "# Influence of Padding"
   ]
  },
  {
   "cell_type": "markdown",
   "metadata": {
    "id": "aEptlmd1U0W8"
   },
   "source": [
    "Without Padding"
   ]
  },
  {
   "cell_type": "code",
   "execution_count": null,
   "metadata": {
    "colab": {
     "base_uri": "https://localhost:8080/",
     "height": 85
    },
    "id": "y0Y2K8Vk81al",
    "outputId": "b4ba7842-bcfb-4de9-9fa8-1207db676277"
   },
   "outputs": [
    {
     "name": "stdout",
     "output_type": "stream",
     "text": [
      "Epoch 1/2\n",
      "1875/1875 [==============================] - 53s 28ms/step - loss: 2.3313 - accuracy: 0.1014\n",
      "Epoch 2/2\n",
      "1875/1875 [==============================] - 57s 30ms/step - loss: 2.3026 - accuracy: 0.0987\n"
     ]
    }
   ],
   "source": [
    "times=[]\n",
    "trainAcc=[]\n",
    "testAcc=[]\n",
    "model = Sequential()\n",
    "model.add(Conv2D(32,padding=\"same\", kernel_size=(3,3), input_shape=input_shape))\n",
    "model.add(MaxPooling2D(pool_size=(2, 2)))\n",
    "model.add(Conv2D(32,padding=\"same\", kernel_size=(3,3), input_shape=input_shape))\n",
    "model.add(MaxPooling2D(pool_size=(2, 2)))\n",
    "model.add(Flatten())\n",
    "model.add(Dense(128,activation=tf.nn.relu))\n",
    "model.add(Dense(10,activation=tf.nn.relu))\n",
    "model.compile(optimizer='adam', \n",
    "            loss='sparse_categorical_crossentropy', \n",
    "            metrics=['accuracy'])\n",
    "init=time.time()\n",
    "model.fit(x=x_train,y=y_train, epochs=2)\n",
    "times.append(time.time()-init)\n",
    "loss,Acc=model.evaluate(x_train,y_train,verbose=0)\n",
    "trainAcc.append(Acc)\n",
    "loss,Acc=model.evaluate(x_test,y_test,verbose=0)\n",
    "testAcc.append(Acc)"
   ]
  },
  {
   "cell_type": "markdown",
   "metadata": {
    "id": "B-2wvIEaU2L1"
   },
   "source": [
    "With Padding"
   ]
  },
  {
   "cell_type": "code",
   "execution_count": null,
   "metadata": {
    "colab": {
     "base_uri": "https://localhost:8080/",
     "height": 85
    },
    "id": "PuDUnCmPU7yy",
    "outputId": "f6b39b05-f9f8-4301-d39f-1971ed7f0da7"
   },
   "outputs": [
    {
     "name": "stdout",
     "output_type": "stream",
     "text": [
      "Epoch 1/2\n",
      "1875/1875 [==============================] - 39s 21ms/step - loss: 2.3400 - accuracy: 0.1029\n",
      "Epoch 2/2\n",
      "1875/1875 [==============================] - 39s 21ms/step - loss: 2.3026 - accuracy: 0.0987\n"
     ]
    }
   ],
   "source": [
    "model = Sequential()\n",
    "model.add(Conv2D(32,padding=\"valid\", kernel_size=(3,3), input_shape=input_shape))\n",
    "model.add(MaxPooling2D(pool_size=(2, 2)))\n",
    "model.add(Conv2D(32,padding=\"valid\", kernel_size=(3,3), input_shape=input_shape))\n",
    "model.add(MaxPooling2D(pool_size=(2, 2)))\n",
    "model.add(Flatten())\n",
    "model.add(Dense(128, activation=tf.nn.relu))\n",
    "model.add(Dense(10,activation=tf.nn.relu))\n",
    "model.compile(optimizer='adam', \n",
    "            loss='sparse_categorical_crossentropy', \n",
    "            metrics=['accuracy'])\n",
    "init=time.time()\n",
    "model.fit(x=x_train,y=y_train, epochs=2)\n",
    "times.append(time.time()-init)\n",
    "loss,Acc=model.evaluate(x_train,y_train,verbose=0)\n",
    "trainAcc.append(Acc)\n",
    "loss,Acc=model.evaluate(x_test,y_test,verbose=0)\n",
    "testAcc.append(Acc)"
   ]
  },
  {
   "cell_type": "markdown",
   "metadata": {
    "id": "OMeO6ESoV5ww"
   },
   "source": [
    "Accuracy Comparison"
   ]
  },
  {
   "cell_type": "code",
   "execution_count": null,
   "metadata": {
    "colab": {
     "base_uri": "https://localhost:8080/",
     "height": 353
    },
    "id": "B67qVO9bV5Ad",
    "outputId": "e9346d8e-98da-49fb-b940-ff24d341fc12"
   },
   "outputs": [
    {
     "name": "stdout",
     "output_type": "stream",
     "text": [
      "Train and test loss: \n"
     ]
    },
    {
     "data": {
      "image/png": "[encoded data removed]",
      "text/plain": [
       "<Figure size 432x288 with 1 Axes>"
      ]
     },
     "metadata": {
      "needs_background": "light",
      "tags": []
     },
     "output_type": "display_data"
    }
   ],
   "source": [
    "print(\"Train and test loss: \")\n",
    "data = [trainAcc,testAcc]\n",
    "X = np.arange(len(trainAcc))\n",
    "fig = plt.figure()\n",
    "ax = fig.add_axes([0,0,1,1])\n",
    "ax.bar(X + 0.00, data[0], color = 'b', width = 0.25)\n",
    "ax.bar(X + 0.25, data[1], color = 'g', width = 0.25)\n",
    "ax.legend(labels=['Train Accuracy','Test Accuracy'])\n",
    "plt.show()"
   ]
  },
  {
   "cell_type": "code",
   "execution_count": null,
   "metadata": {
    "id": "fgQOjBR2812S"
   },
   "outputs": [],
   "source": []
  }
 ],
 "metadata": {
  "colab": {
   "name": "Untitled4.ipynb",
   "provenance": []
  },
  "kernelspec": {
   "display_name": "Python 3",
   "language": "python",
   "name": "python3"
  },
  "language_info": {
   "codemirror_mode": {
    "name": "ipython",
    "version": 3
   },
   "file_extension": ".py",
   "mimetype": "text/x-python",
   "name": "python",
   "nbconvert_exporter": "python",
   "pygments_lexer": "ipython3",
   "version": "3.7.6"
  }
 },
 "nbformat": 4,
 "nbformat_minor": 1
}
